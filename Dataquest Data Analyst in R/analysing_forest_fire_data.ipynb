{
 "cells": [
  {
   "cell_type": "markdown",
   "metadata": {},
   "source": [
    "\n"
   ]
  },
  {
   "cell_type": "code",
   "execution_count": 1,
   "metadata": {},
   "outputs": [
    {
     "name": "stderr",
     "output_type": "stream",
     "text": [
      "also installing the dependencies 'glue', 'rlang', 'tibble', 'pillar', 'dplyr', 'lifecycle', 'tidyselect'\n",
      "\n"
     ]
    },
    {
     "name": "stdout",
     "output_type": "stream",
     "text": [
      "\n",
      "  There are binary versions available but the source versions are later:\n",
      "          binary source needs_compilation\n",
      "glue       1.4.2  1.6.0              TRUE\n",
      "rlang     0.4.11 0.4.12              TRUE\n",
      "tibble     3.1.1  3.1.6              TRUE\n",
      "pillar     1.6.0  1.6.4             FALSE\n",
      "dplyr      1.0.6  1.0.7              TRUE\n",
      "lifecycle  1.0.0  1.0.1             FALSE\n",
      "tidyr      1.1.3  1.1.4              TRUE\n",
      "\n",
      "  Binaries will be installed\n",
      "package 'glue' successfully unpacked and MD5 sums checked\n",
      "package 'rlang' successfully unpacked and MD5 sums checked\n",
      "package 'tibble' successfully unpacked and MD5 sums checked\n",
      "package 'dplyr' successfully unpacked and MD5 sums checked\n",
      "package 'tidyselect' successfully unpacked and MD5 sums checked\n",
      "package 'tidyr' successfully unpacked and MD5 sums checked\n",
      "\n",
      "The downloaded binary packages are in\n",
      "\tC:\\Users\\Martin\\AppData\\Local\\Temp\\RtmpcnXELg\\downloaded_packages\n"
     ]
    },
    {
     "name": "stderr",
     "output_type": "stream",
     "text": [
      "installing the source packages 'pillar', 'lifecycle'\n",
      "\n"
     ]
    }
   ],
   "source": [
    "install.packages('tidyr')"
   ]
  },
  {
   "cell_type": "code",
   "execution_count": 32,
   "metadata": {},
   "outputs": [],
   "source": [
    "library(\"dplyr\")\n",
    "library(\"tidyverse\")\n",
    "library(\"knitr\")\n",
    "library(\"rmarkdown\")\n",
    "library(\"lubridate\")\n",
    "library(\"ggplot2\")"
   ]
  },
  {
   "cell_type": "markdown",
   "metadata": {},
   "source": [
    "\n"
   ]
  },
  {
   "cell_type": "code",
   "execution_count": 33,
   "metadata": {},
   "outputs": [
    {
     "data": {
      "text/html": [
       "<table>\n",
       "<thead><tr><th scope=col>X</th><th scope=col>Y</th><th scope=col>month</th><th scope=col>day</th><th scope=col>FFMC</th><th scope=col>DMC</th><th scope=col>DC</th><th scope=col>ISI</th><th scope=col>temp</th><th scope=col>RH</th><th scope=col>wind</th><th scope=col>rain</th><th scope=col>area</th></tr></thead>\n",
       "<tbody>\n",
       "\t<tr><td>7    </td><td>5    </td><td>mar  </td><td>fri  </td><td>86.2 </td><td>26.2 </td><td> 94.3</td><td> 5.1 </td><td> 8.2 </td><td>51   </td><td>6.7  </td><td>0.0  </td><td>0    </td></tr>\n",
       "\t<tr><td>7    </td><td>4    </td><td>oct  </td><td>tue  </td><td>90.6 </td><td>35.4 </td><td>669.1</td><td> 6.7 </td><td>18.0 </td><td>33   </td><td>0.9  </td><td>0.0  </td><td>0    </td></tr>\n",
       "\t<tr><td>7    </td><td>4    </td><td>oct  </td><td>sat  </td><td>90.6 </td><td>43.7 </td><td>686.9</td><td> 6.7 </td><td>14.6 </td><td>33   </td><td>1.3  </td><td>0.0  </td><td>0    </td></tr>\n",
       "\t<tr><td>8    </td><td>6    </td><td>mar  </td><td>fri  </td><td>91.7 </td><td>33.3 </td><td> 77.5</td><td> 9.0 </td><td> 8.3 </td><td>97   </td><td>4.0  </td><td>0.2  </td><td>0    </td></tr>\n",
       "\t<tr><td>8    </td><td>6    </td><td>mar  </td><td>sun  </td><td>89.3 </td><td>51.3 </td><td>102.2</td><td> 9.6 </td><td>11.4 </td><td>99   </td><td>1.8  </td><td>0.0  </td><td>0    </td></tr>\n",
       "\t<tr><td>8    </td><td>6    </td><td>aug  </td><td>sun  </td><td>92.3 </td><td>85.3 </td><td>488.0</td><td>14.7 </td><td>22.2 </td><td>29   </td><td>5.4  </td><td>0.0  </td><td>0    </td></tr>\n",
       "</tbody>\n",
       "</table>\n"
      ],
      "text/latex": [
       "\\begin{tabular}{r|lllllllllllll}\n",
       " X & Y & month & day & FFMC & DMC & DC & ISI & temp & RH & wind & rain & area\\\\\n",
       "\\hline\n",
       "\t 7     & 5     & mar   & fri   & 86.2  & 26.2  &  94.3 &  5.1  &  8.2  & 51    & 6.7   & 0.0   & 0    \\\\\n",
       "\t 7     & 4     & oct   & tue   & 90.6  & 35.4  & 669.1 &  6.7  & 18.0  & 33    & 0.9   & 0.0   & 0    \\\\\n",
       "\t 7     & 4     & oct   & sat   & 90.6  & 43.7  & 686.9 &  6.7  & 14.6  & 33    & 1.3   & 0.0   & 0    \\\\\n",
       "\t 8     & 6     & mar   & fri   & 91.7  & 33.3  &  77.5 &  9.0  &  8.3  & 97    & 4.0   & 0.2   & 0    \\\\\n",
       "\t 8     & 6     & mar   & sun   & 89.3  & 51.3  & 102.2 &  9.6  & 11.4  & 99    & 1.8   & 0.0   & 0    \\\\\n",
       "\t 8     & 6     & aug   & sun   & 92.3  & 85.3  & 488.0 & 14.7  & 22.2  & 29    & 5.4   & 0.0   & 0    \\\\\n",
       "\\end{tabular}\n"
      ],
      "text/markdown": [
       "\n",
       "| X | Y | month | day | FFMC | DMC | DC | ISI | temp | RH | wind | rain | area |\n",
       "|---|---|---|---|---|---|---|---|---|---|---|---|---|\n",
       "| 7     | 5     | mar   | fri   | 86.2  | 26.2  |  94.3 |  5.1  |  8.2  | 51    | 6.7   | 0.0   | 0     |\n",
       "| 7     | 4     | oct   | tue   | 90.6  | 35.4  | 669.1 |  6.7  | 18.0  | 33    | 0.9   | 0.0   | 0     |\n",
       "| 7     | 4     | oct   | sat   | 90.6  | 43.7  | 686.9 |  6.7  | 14.6  | 33    | 1.3   | 0.0   | 0     |\n",
       "| 8     | 6     | mar   | fri   | 91.7  | 33.3  |  77.5 |  9.0  |  8.3  | 97    | 4.0   | 0.2   | 0     |\n",
       "| 8     | 6     | mar   | sun   | 89.3  | 51.3  | 102.2 |  9.6  | 11.4  | 99    | 1.8   | 0.0   | 0     |\n",
       "| 8     | 6     | aug   | sun   | 92.3  | 85.3  | 488.0 | 14.7  | 22.2  | 29    | 5.4   | 0.0   | 0     |\n",
       "\n"
      ],
      "text/plain": [
       "  X Y month day FFMC DMC  DC    ISI  temp RH wind rain area\n",
       "1 7 5 mar   fri 86.2 26.2  94.3  5.1  8.2 51 6.7  0.0  0   \n",
       "2 7 4 oct   tue 90.6 35.4 669.1  6.7 18.0 33 0.9  0.0  0   \n",
       "3 7 4 oct   sat 90.6 43.7 686.9  6.7 14.6 33 1.3  0.0  0   \n",
       "4 8 6 mar   fri 91.7 33.3  77.5  9.0  8.3 97 4.0  0.2  0   \n",
       "5 8 6 mar   sun 89.3 51.3 102.2  9.6 11.4 99 1.8  0.0  0   \n",
       "6 8 6 aug   sun 92.3 85.3 488.0 14.7 22.2 29 5.4  0.0  0   "
      ]
     },
     "metadata": {},
     "output_type": "display_data"
    }
   ],
   "source": [
    "# read in data csv file\n",
    "df <- read.csv(\"C:/Users/Martin/Desktop/Datasets/forestfires.csv\")\n",
    "head(df)"
   ]
  },
  {
   "cell_type": "markdown",
   "metadata": {},
   "source": [
    "\n"
   ]
  },
  {
   "cell_type": "code",
   "execution_count": 84,
   "metadata": {},
   "outputs": [
    {
     "name": "stdout",
     "output_type": "stream",
     "text": [
      "Rows: 517\n",
      "Columns: 13\n",
      "$ X     <int> 7, 7, 7, 8, 8, 8, 8, 8, 8, 7, 7, 7, 6, 6, 6, 6, 5, 8, 6, 6, 6, 5~\n",
      "$ Y     <int> 5, 4, 4, 6, 6, 6, 6, 6, 6, 5, 5, 5, 5, 5, 5, 5, 5, 5, 4, 4, 4, 4~\n",
      "$ month <fct> mar, oct, oct, mar, mar, aug, aug, aug, sep, sep, sep, sep, aug,~\n",
      "$ day   <fct> fri, tue, sat, fri, sun, sun, mon, mon, tue, sat, sat, sat, fri,~\n",
      "$ FFMC  <dbl> 86.2, 90.6, 90.6, 91.7, 89.3, 92.3, 92.3, 91.5, 91.0, 92.5, 92.5~\n",
      "$ DMC   <dbl> 26.2, 35.4, 43.7, 33.3, 51.3, 85.3, 88.9, 145.4, 129.5, 88.0, 88~\n",
      "$ DC    <dbl> 94.3, 669.1, 686.9, 77.5, 102.2, 488.0, 495.6, 608.2, 692.6, 698~\n",
      "$ ISI   <dbl> 5.1, 6.7, 6.7, 9.0, 9.6, 14.7, 8.5, 10.7, 7.0, 7.1, 7.1, 22.6, 0~\n",
      "$ temp  <dbl> 8.2, 18.0, 14.6, 8.3, 11.4, 22.2, 24.1, 8.0, 13.1, 22.8, 17.8, 1~\n",
      "$ RH    <int> 51, 33, 33, 97, 99, 29, 27, 86, 63, 40, 51, 38, 72, 42, 21, 44, ~\n",
      "$ wind  <dbl> 6.7, 0.9, 1.3, 4.0, 1.8, 5.4, 3.1, 2.2, 5.4, 4.0, 7.2, 4.0, 6.7,~\n",
      "$ rain  <dbl> 0.0, 0.0, 0.0, 0.2, 0.0, 0.0, 0.0, 0.0, 0.0, 0.0, 0.0, 0.0, 0.0,~\n",
      "$ area  <dbl> 0, 0, 0, 0, 0, 0, 0, 0, 0, 0, 0, 0, 0, 0, 0, 0, 0, 0, 0, 0, 0, 0~\n"
     ]
    }
   ],
   "source": [
    "# check rows and columns\n",
    "glimpse(df)"
   ]
  },
  {
   "cell_type": "markdown",
   "metadata": {},
   "source": [
    "Each row represents the location, day, and month of the following variables during a forest fire.\n",
    "\n",
    "**`FFMC`** - The Fine Fuel Moisture Code which represents the fuel moisture of forest litter fuels under the shade of the forest canopy.\n",
    "\n",
    "**`DMC`** - The Duff Moisture Code. The average moisture content of loosely compacted organic layers of moderate depth.\n",
    "\n",
    "**`DC`** - The Drought Code. The average moisture content of deep, compact organic layers.\n",
    "\n",
    "**`ISI`** - The Initial Spread Index. The expected rate of fire spread.\n",
    "\n",
    "**`RH`** - Relative Humidity. How much water vapor is in the air, compared to how much there could be.\n",
    "\n",
    "**`Temp`** - Temperature in Celsius Degrees\n",
    "\n",
    "**`Wind`** - Wind speed in km/h\n",
    "\n",
    "**`Rain`** - Outside Rain in mm/m2\n",
    "\n",
    "**`Area`** - The burned area of the forest in hectares.\n",
    "\n",
    "## Categorize The Month And Day Columns In Order\n"
   ]
  },
  {
   "cell_type": "code",
   "execution_count": 85,
   "metadata": {},
   "outputs": [
    {
     "data": {
      "text/html": [
       "<ol class=list-inline>\n",
       "\t<li>mar</li>\n",
       "\t<li>oct</li>\n",
       "\t<li>aug</li>\n",
       "\t<li>sep</li>\n",
       "\t<li>apr</li>\n",
       "\t<li>jun</li>\n",
       "\t<li>jul</li>\n",
       "\t<li>feb</li>\n",
       "\t<li>jan</li>\n",
       "\t<li>dec</li>\n",
       "\t<li>may</li>\n",
       "\t<li>nov</li>\n",
       "</ol>\n",
       "\n",
       "<details>\n",
       "\t<summary style=display:list-item;cursor:pointer>\n",
       "\t\t<strong>Levels</strong>:\n",
       "\t</summary>\n",
       "\t<ol class=list-inline>\n",
       "\t\t<li>'jan'</li>\n",
       "\t\t<li>'feb'</li>\n",
       "\t\t<li>'mar'</li>\n",
       "\t\t<li>'apr'</li>\n",
       "\t\t<li>'may'</li>\n",
       "\t\t<li>'jun'</li>\n",
       "\t\t<li>'jul'</li>\n",
       "\t\t<li>'aug'</li>\n",
       "\t\t<li>'sep'</li>\n",
       "\t\t<li>'oct'</li>\n",
       "\t\t<li>'nov'</li>\n",
       "\t\t<li>'dec'</li>\n",
       "\t</ol>\n",
       "</details>"
      ],
      "text/latex": [
       "\\begin{enumerate*}\n",
       "\\item mar\n",
       "\\item oct\n",
       "\\item aug\n",
       "\\item sep\n",
       "\\item apr\n",
       "\\item jun\n",
       "\\item jul\n",
       "\\item feb\n",
       "\\item jan\n",
       "\\item dec\n",
       "\\item may\n",
       "\\item nov\n",
       "\\end{enumerate*}\n",
       "\n",
       "\\emph{Levels}: \\begin{enumerate*}\n",
       "\\item 'jan'\n",
       "\\item 'feb'\n",
       "\\item 'mar'\n",
       "\\item 'apr'\n",
       "\\item 'may'\n",
       "\\item 'jun'\n",
       "\\item 'jul'\n",
       "\\item 'aug'\n",
       "\\item 'sep'\n",
       "\\item 'oct'\n",
       "\\item 'nov'\n",
       "\\item 'dec'\n",
       "\\end{enumerate*}\n"
      ],
      "text/markdown": [
       "1. mar\n",
       "2. oct\n",
       "3. aug\n",
       "4. sep\n",
       "5. apr\n",
       "6. jun\n",
       "7. jul\n",
       "8. feb\n",
       "9. jan\n",
       "10. dec\n",
       "11. may\n",
       "12. nov\n",
       "\n",
       "\n",
       "\n",
       "**Levels**: 1. 'jan'\n",
       "2. 'feb'\n",
       "3. 'mar'\n",
       "4. 'apr'\n",
       "5. 'may'\n",
       "6. 'jun'\n",
       "7. 'jul'\n",
       "8. 'aug'\n",
       "9. 'sep'\n",
       "10. 'oct'\n",
       "11. 'nov'\n",
       "12. 'dec'\n",
       "\n",
       "\n"
      ],
      "text/plain": [
       " [1] mar oct aug sep apr jun jul feb jan dec may nov\n",
       "Levels: jan feb mar apr may jun jul aug sep oct nov dec"
      ]
     },
     "metadata": {},
     "output_type": "display_data"
    }
   ],
   "source": [
    "# check unique month values\n",
    "df %>% pull(month) %>% unique"
   ]
  },
  {
   "cell_type": "markdown",
   "metadata": {},
   "source": [
    "\n"
   ]
  },
  {
   "cell_type": "code",
   "execution_count": 86,
   "metadata": {},
   "outputs": [
    {
     "data": {
      "text/html": [
       "<ol class=list-inline>\n",
       "\t<li>fri</li>\n",
       "\t<li>tue</li>\n",
       "\t<li>sat</li>\n",
       "\t<li>sun</li>\n",
       "\t<li>mon</li>\n",
       "\t<li>wed</li>\n",
       "\t<li>thu</li>\n",
       "</ol>\n",
       "\n",
       "<details>\n",
       "\t<summary style=display:list-item;cursor:pointer>\n",
       "\t\t<strong>Levels</strong>:\n",
       "\t</summary>\n",
       "\t<ol class=list-inline>\n",
       "\t\t<li>'mon'</li>\n",
       "\t\t<li>'tue'</li>\n",
       "\t\t<li>'wed'</li>\n",
       "\t\t<li>'thu'</li>\n",
       "\t\t<li>'fri'</li>\n",
       "\t\t<li>'sat'</li>\n",
       "\t\t<li>'sun'</li>\n",
       "\t</ol>\n",
       "</details>"
      ],
      "text/latex": [
       "\\begin{enumerate*}\n",
       "\\item fri\n",
       "\\item tue\n",
       "\\item sat\n",
       "\\item sun\n",
       "\\item mon\n",
       "\\item wed\n",
       "\\item thu\n",
       "\\end{enumerate*}\n",
       "\n",
       "\\emph{Levels}: \\begin{enumerate*}\n",
       "\\item 'mon'\n",
       "\\item 'tue'\n",
       "\\item 'wed'\n",
       "\\item 'thu'\n",
       "\\item 'fri'\n",
       "\\item 'sat'\n",
       "\\item 'sun'\n",
       "\\end{enumerate*}\n"
      ],
      "text/markdown": [
       "1. fri\n",
       "2. tue\n",
       "3. sat\n",
       "4. sun\n",
       "5. mon\n",
       "6. wed\n",
       "7. thu\n",
       "\n",
       "\n",
       "\n",
       "**Levels**: 1. 'mon'\n",
       "2. 'tue'\n",
       "3. 'wed'\n",
       "4. 'thu'\n",
       "5. 'fri'\n",
       "6. 'sat'\n",
       "7. 'sun'\n",
       "\n",
       "\n"
      ],
      "text/plain": [
       "[1] fri tue sat sun mon wed thu\n",
       "Levels: mon tue wed thu fri sat sun"
      ]
     },
     "metadata": {},
     "output_type": "display_data"
    }
   ],
   "source": [
    "# check unique day values\n",
    "df %>% pull(day) %>% unique"
   ]
  },
  {
   "cell_type": "markdown",
   "metadata": {},
   "source": [
    "\n"
   ]
  },
  {
   "cell_type": "code",
   "execution_count": 87,
   "metadata": {},
   "outputs": [],
   "source": [
    "# order month and day values and create factors\n",
    "month_order <- c('jan', 'feb', 'mar', 'apr', 'may', 'jun', 'jul', 'aug', 'sep', 'oct', 'nov', 'dec')\n",
    "\n",
    "day_order <- c('mon', 'tue', 'wed', 'thu', 'fri', 'sat', 'sun')\n",
    "\n",
    "df <- df %>% mutate(\n",
    "  month = factor(month, levels = month_order),\n",
    "  day = factor(day, levels = day_order)\n",
    ")"
   ]
  },
  {
   "cell_type": "markdown",
   "metadata": {},
   "source": [
    "## What Months Do Fires Occur Most?\n",
    "\n"
   ]
  },
  {
   "cell_type": "code",
   "execution_count": 106,
   "metadata": {},
   "outputs": [
    {
     "data": {
      "image/png": "[encoded data removed]",
      "text/plain": [
       "plot without title"
      ]
     },
     "metadata": {},
     "output_type": "display_data"
    }
   ],
   "source": [
    "# create dataframe grouped by month, then count number of fires (rows)\n",
    "fires_per_month <- df %>% group_by(month) %>%\n",
    "  summarize(total_fires = n())\n",
    "\n",
    "# create column graph for the number of fires per month\n",
    "options(repr.plot.width = 7.5, repr.plot.height = 4.5)\n",
    "fires_per_month %>%\n",
    "  ggplot(aes(x = month, y = total_fires, fill = month)) +\n",
    "  geom_col() +\n",
    "  geom_text(aes(label = total_fires), vjust = -0.2) +\n",
    "  labs(\n",
    "    title = 'Number Of Forest Fires Per Month',\n",
    "    x = 'Month',\n",
    "    y = 'Number of Fires'\n",
    "  ) +\n",
    "  theme(legend.position='none', plot.title=element_text(hjust=0.5))"
   ]
  },
  {
   "cell_type": "markdown",
   "metadata": {},
   "source": [
    "August and September stand out as having the most forest fires. January, May, and November have the least forest fires.\n",
    "\n",
    "## What Week Days Do Forest Fires Occur The Most?\n"
   ]
  },
  {
   "cell_type": "code",
   "execution_count": 89,
   "metadata": {},
   "outputs": [
    {
     "data": {
      "image/png": "[encoded data removed]",
      "text/plain": [
       "plot without title"
      ]
     },
     "metadata": {},
     "output_type": "display_data"
    }
   ],
   "source": [
    "# create dataframe grouped by day, then count number of fires (rows)\n",
    "fires_per_day <- df %>% group_by(day) %>%\n",
    "  summarise(total_fires = n())\n",
    "\n",
    "# create column graph for the number of fires per week day\n",
    "fires_per_day %>%\n",
    "  ggplot(aes(x = day, y = total_fires, fill = day)) +\n",
    "  geom_col() +\n",
    "  geom_text(aes(label = total_fires), vjust = 1.2) +\n",
    "  labs(\n",
    "    title = 'Number Of Forest Fires Per Week day',\n",
    "    x = 'Day',\n",
    "    y = 'Number of Fires'\n",
    "  ) +\n",
    "  theme(legend.position='none', plot.title=element_text(hjust=0.5))"
   ]
  },
  {
   "cell_type": "markdown",
   "metadata": {},
   "source": [
    "The data shows Sunday has the most forest fires and Wednesday has the least. Friday, Saturday, and Sunday have more than the other weekdays.\n",
    "\n",
    "## Check How Data Variables Relate To Month And Day\n",
    "\n",
    "Variables;\n",
    "\n",
    "* FFMC\n",
    "* DMC\n",
    "* DC\n",
    "* ISI\n",
    "* temp\n",
    "* RH\n",
    "* wind\n",
    "* rain\n"
   ]
  },
  {
   "cell_type": "code",
   "execution_count": 56,
   "metadata": {},
   "outputs": [
    {
     "data": {
      "text/html": [
       "<table>\n",
       "<thead><tr><th scope=col>X</th><th scope=col>Y</th><th scope=col>month</th><th scope=col>day</th><th scope=col>area</th><th scope=col>variable</th><th scope=col>value</th></tr></thead>\n",
       "<tbody>\n",
       "\t<tr><td>7   </td><td>5   </td><td>mar </td><td>fri </td><td>0   </td><td>FFMC</td><td>86.2</td></tr>\n",
       "\t<tr><td>7   </td><td>5   </td><td>mar </td><td>fri </td><td>0   </td><td>DMC </td><td>26.2</td></tr>\n",
       "\t<tr><td>7   </td><td>5   </td><td>mar </td><td>fri </td><td>0   </td><td>DC  </td><td>94.3</td></tr>\n",
       "\t<tr><td>7   </td><td>5   </td><td>mar </td><td>fri </td><td>0   </td><td>ISI </td><td> 5.1</td></tr>\n",
       "\t<tr><td>7   </td><td>5   </td><td>mar </td><td>fri </td><td>0   </td><td>temp</td><td> 8.2</td></tr>\n",
       "\t<tr><td>7   </td><td>5   </td><td>mar </td><td>fri </td><td>0   </td><td>RH  </td><td>51.0</td></tr>\n",
       "\t<tr><td>7   </td><td>5   </td><td>mar </td><td>fri </td><td>0   </td><td>wind</td><td> 6.7</td></tr>\n",
       "\t<tr><td>7   </td><td>5   </td><td>mar </td><td>fri </td><td>0   </td><td>rain</td><td> 0.0</td></tr>\n",
       "\t<tr><td>7   </td><td>4   </td><td>oct </td><td>tue </td><td>0   </td><td>FFMC</td><td>90.6</td></tr>\n",
       "\t<tr><td>7   </td><td>4   </td><td>oct </td><td>tue </td><td>0   </td><td>DMC </td><td>35.4</td></tr>\n",
       "</tbody>\n",
       "</table>\n"
      ],
      "text/latex": [
       "\\begin{tabular}{r|lllllll}\n",
       " X & Y & month & day & area & variable & value\\\\\n",
       "\\hline\n",
       "\t 7    & 5    & mar  & fri  & 0    & FFMC & 86.2\\\\\n",
       "\t 7    & 5    & mar  & fri  & 0    & DMC  & 26.2\\\\\n",
       "\t 7    & 5    & mar  & fri  & 0    & DC   & 94.3\\\\\n",
       "\t 7    & 5    & mar  & fri  & 0    & ISI  &  5.1\\\\\n",
       "\t 7    & 5    & mar  & fri  & 0    & temp &  8.2\\\\\n",
       "\t 7    & 5    & mar  & fri  & 0    & RH   & 51.0\\\\\n",
       "\t 7    & 5    & mar  & fri  & 0    & wind &  6.7\\\\\n",
       "\t 7    & 5    & mar  & fri  & 0    & rain &  0.0\\\\\n",
       "\t 7    & 4    & oct  & tue  & 0    & FFMC & 90.6\\\\\n",
       "\t 7    & 4    & oct  & tue  & 0    & DMC  & 35.4\\\\\n",
       "\\end{tabular}\n"
      ],
      "text/markdown": [
       "\n",
       "| X | Y | month | day | area | variable | value |\n",
       "|---|---|---|---|---|---|---|\n",
       "| 7    | 5    | mar  | fri  | 0    | FFMC | 86.2 |\n",
       "| 7    | 5    | mar  | fri  | 0    | DMC  | 26.2 |\n",
       "| 7    | 5    | mar  | fri  | 0    | DC   | 94.3 |\n",
       "| 7    | 5    | mar  | fri  | 0    | ISI  |  5.1 |\n",
       "| 7    | 5    | mar  | fri  | 0    | temp |  8.2 |\n",
       "| 7    | 5    | mar  | fri  | 0    | RH   | 51.0 |\n",
       "| 7    | 5    | mar  | fri  | 0    | wind |  6.7 |\n",
       "| 7    | 5    | mar  | fri  | 0    | rain |  0.0 |\n",
       "| 7    | 4    | oct  | tue  | 0    | FFMC | 90.6 |\n",
       "| 7    | 4    | oct  | tue  | 0    | DMC  | 35.4 |\n",
       "\n"
      ],
      "text/plain": [
       "   X Y month day area variable value\n",
       "1  7 5 mar   fri 0    FFMC     86.2 \n",
       "2  7 5 mar   fri 0    DMC      26.2 \n",
       "3  7 5 mar   fri 0    DC       94.3 \n",
       "4  7 5 mar   fri 0    ISI       5.1 \n",
       "5  7 5 mar   fri 0    temp      8.2 \n",
       "6  7 5 mar   fri 0    RH       51.0 \n",
       "7  7 5 mar   fri 0    wind      6.7 \n",
       "8  7 5 mar   fri 0    rain      0.0 \n",
       "9  7 4 oct   tue 0    FFMC     90.6 \n",
       "10 7 4 oct   tue 0    DMC      35.4 "
      ]
     },
     "metadata": {},
     "output_type": "display_data"
    }
   ],
   "source": [
    "# create a dataframe in long format\n",
    "df_long <- df %>% pivot_longer(\n",
    "  cols = c(FFMC, DMC, DC, ISI, temp, RH, wind, rain),\n",
    "  names_to = 'variable',\n",
    "  values_to = 'value'\n",
    ")\n",
    "head(df_long, 10)"
   ]
  },
  {
   "cell_type": "markdown",
   "metadata": {},
   "source": [
    "\n",
    "\n"
   ]
  },
  {
   "cell_type": "code",
   "execution_count": 110,
   "metadata": {},
   "outputs": [
    {
     "data": {
      "image/png": "[encoded data removed]",
      "text/plain": [
       "plot without title"
      ]
     },
     "metadata": {},
     "output_type": "display_data"
    }
   ],
   "source": [
    "# create column graphs for each variable value by month\n",
    "df_long %>%\n",
    "  ggplot(aes(x = month, y = value, fill = month)) +\n",
    "  geom_col() +\n",
    "  facet_wrap(vars(variable), scales = 'free') +\n",
    "  labs(\n",
    "    title = 'Variable Changes By Month',\n",
    "    x = 'Month',\n",
    "    y = 'Variable'\n",
    "  ) +\n",
    "  theme(legend.position='none', plot.title=element_text(hjust=0.5), axis.text.x=element_text(angle=90, hjust=1))"
   ]
  },
  {
   "cell_type": "markdown",
   "metadata": {},
   "source": [
    "All variables show increased values during August and September (except rain during September). No variable stands out over the others during August and September.\n",
    "\n"
   ]
  },
  {
   "cell_type": "code",
   "execution_count": 91,
   "metadata": {},
   "outputs": [
    {
     "data": {
      "image/png": "[encoded data removed]",
      "text/plain": [
       "plot without title"
      ]
     },
     "metadata": {},
     "output_type": "display_data"
    }
   ],
   "source": [
    "# create column graphs for each variable value by week day\n",
    "df_long %>%\n",
    "  ggplot(aes(x = day, y = value, fill = day)) +\n",
    "  geom_col() +\n",
    "  facet_wrap(vars(variable), scales = 'free') +\n",
    "  labs(\n",
    "    title = 'Variable Changes By Day',\n",
    "    x = 'Day',\n",
    "    y = 'Variable'\n",
    "  ) +\n",
    "  theme(legend.position='none', plot.title=element_text(hjust=0.5))"
   ]
  },
  {
   "cell_type": "markdown",
   "metadata": {},
   "source": [
    "Again, all variables show increased values on Friday, Saturday, and Sunday when forest fires are most prevalent, except for rain.\n",
    "\n",
    "## Check If The Variables Affect Area\n",
    "\n",
    "Assume that Area can be used to describe the severity or intensity of the fire.\n"
   ]
  },
  {
   "cell_type": "code",
   "execution_count": 92,
   "metadata": {},
   "outputs": [
    {
     "data": {
      "image/png": "[encoded data removed]",
      "text/plain": [
       "plot without title"
      ]
     },
     "metadata": {},
     "output_type": "display_data"
    }
   ],
   "source": [
    "# create column graphs for how area is affected by the variable values\n",
    "df_long %>%\n",
    "  ggplot(aes(x = value, y = area)) +\n",
    "  geom_point() +\n",
    "  geom_smooth(method = 'lm') +\n",
    "  facet_wrap(vars(variable), scales = 'free') +\n",
    "  labs(\n",
    "    title = 'Affect of Variables on Fire Area (hectares)',\n",
    "    x = 'Variable',\n",
    "    y = 'Area'\n",
    "  ) + \n",
    "  theme(legend.position='none', plot.title=element_text(hjust=0.5))"
   ]
  },
  {
   "cell_type": "markdown",
   "metadata": {},
   "source": [
    "There is no correlation between the variables and area.\n",
    "\n",
    "## Check For Outliers in Area\n"
   ]
  },
  {
   "cell_type": "code",
   "execution_count": 95,
   "metadata": {},
   "outputs": [
    {
     "data": {
      "image/png": "[encoded data removed]",
      "text/plain": [
       "plot without title"
      ]
     },
     "metadata": {},
     "output_type": "display_data"
    }
   ],
   "source": [
    "# create a histogram for the area column\n",
    "df %>% \n",
    "  ggplot(aes(x = area)) +\n",
    "  geom_histogram(binwidth = 20)"
   ]
  },
  {
   "cell_type": "markdown",
   "metadata": {},
   "source": [
    "\n"
   ]
  },
  {
   "cell_type": "code",
   "execution_count": 96,
   "metadata": {},
   "outputs": [
    {
     "data": {
      "image/png": "[encoded data removed]",
      "text/plain": [
       "plot without title"
      ]
     },
     "metadata": {},
     "output_type": "display_data"
    }
   ],
   "source": [
    "# create a boxplot for the area column\n",
    "area_count_df <- df %>%\n",
    "    group_by(area) %>%\n",
    "    summarise(count = n())\n",
    "\n",
    "area_count_df %>%\n",
    "  ggplot(aes(x = 'area', y = area)) +\n",
    "  geom_boxplot(outlier.color = 'Red') +\n",
    "  coord_flip()"
   ]
  },
  {
   "cell_type": "markdown",
   "metadata": {},
   "source": [
    "\n",
    "\n"
   ]
  },
  {
   "cell_type": "code",
   "execution_count": 97,
   "metadata": {},
   "outputs": [
    {
     "data": {
      "text/html": [
       "<ol class=list-inline>\n",
       "\t<li>0</li>\n",
       "\t<li>0</li>\n",
       "\t<li>0.52</li>\n",
       "\t<li>6.57</li>\n",
       "\t<li>1090.84</li>\n",
       "</ol>\n"
      ],
      "text/latex": [
       "\\begin{enumerate*}\n",
       "\\item 0\n",
       "\\item 0\n",
       "\\item 0.52\n",
       "\\item 6.57\n",
       "\\item 1090.84\n",
       "\\end{enumerate*}\n"
      ],
      "text/markdown": [
       "1. 0\n",
       "2. 0\n",
       "3. 0.52\n",
       "4. 6.57\n",
       "5. 1090.84\n",
       "\n",
       "\n"
      ],
      "text/plain": [
       "[1]    0.00    0.00    0.52    6.57 1090.84"
      ]
     },
     "metadata": {},
     "output_type": "display_data"
    }
   ],
   "source": [
    "# the five number summary\n",
    "fivenum(df$area)"
   ]
  },
  {
   "cell_type": "markdown",
   "metadata": {},
   "source": [
    "\n",
    "\n"
   ]
  },
  {
   "cell_type": "code",
   "execution_count": 98,
   "metadata": {},
   "outputs": [
    {
     "data": {
      "text/html": [
       "6.57"
      ],
      "text/latex": [
       "6.57"
      ],
      "text/markdown": [
       "6.57"
      ],
      "text/plain": [
       "[1] 6.57"
      ]
     },
     "metadata": {},
     "output_type": "display_data"
    }
   ],
   "source": [
    "# interquartile range\n",
    "iqr <- IQR(df$area)\n",
    "iqr"
   ]
  },
  {
   "cell_type": "markdown",
   "metadata": {},
   "source": [
    "\n"
   ]
  },
  {
   "cell_type": "code",
   "execution_count": 99,
   "metadata": {},
   "outputs": [
    {
     "data": {
      "text/html": [
       "16.425"
      ],
      "text/latex": [
       "16.425"
      ],
      "text/markdown": [
       "16.425"
      ],
      "text/plain": [
       "[1] 16.425"
      ]
     },
     "metadata": {},
     "output_type": "display_data"
    }
   ],
   "source": [
    "# high outliers \n",
    "outliers <- 6.57 + (1.5 * iqr)\n",
    "outliers"
   ]
  },
  {
   "cell_type": "markdown",
   "metadata": {},
   "source": [
    "\n",
    "\n"
   ]
  },
  {
   "cell_type": "code",
   "execution_count": 100,
   "metadata": {},
   "outputs": [
    {
     "data": {
      "text/html": [
       "<ol class=list-inline>\n",
       "\t<li>0</li>\n",
       "\t<li>0.36</li>\n",
       "\t<li>0.43</li>\n",
       "\t<li>0.47</li>\n",
       "\t<li>0.55</li>\n",
       "\t<li>0.61</li>\n",
       "\t<li>0.71</li>\n",
       "\t<li>0.77</li>\n",
       "\t<li>0.9</li>\n",
       "\t<li>0.95</li>\n",
       "\t<li>0.96</li>\n",
       "\t<li>1.07</li>\n",
       "\t<li>1.12</li>\n",
       "\t<li>1.19</li>\n",
       "\t<li>1.36</li>\n",
       "\t<li>1.43</li>\n",
       "\t<li>1.46</li>\n",
       "\t<li>1.56</li>\n",
       "\t<li>1.61</li>\n",
       "\t<li>1.63</li>\n",
       "\t<li>1.64</li>\n",
       "\t<li>1.69</li>\n",
       "\t<li>1.75</li>\n",
       "\t<li>1.9</li>\n",
       "\t<li>1.94</li>\n",
       "\t<li>1.95</li>\n",
       "\t<li>2.01</li>\n",
       "\t<li>2.14</li>\n",
       "\t<li>2.29</li>\n",
       "\t<li>2.51</li>\n",
       "\t<li>2.53</li>\n",
       "\t<li>2.55</li>\n",
       "\t<li>2.57</li>\n",
       "\t<li>2.69</li>\n",
       "\t<li>2.74</li>\n",
       "\t<li>3.07</li>\n",
       "\t<li>3.5</li>\n",
       "\t<li>4.53</li>\n",
       "\t<li>4.61</li>\n",
       "\t<li>4.69</li>\n",
       "\t<li>4.88</li>\n",
       "\t<li>5.23</li>\n",
       "\t<li>5.33</li>\n",
       "\t<li>5.44</li>\n",
       "\t<li>6.38</li>\n",
       "\t<li>6.83</li>\n",
       "\t<li>6.96</li>\n",
       "\t<li>7.04</li>\n",
       "\t<li>7.19</li>\n",
       "\t<li>7.3</li>\n",
       "\t<li>7.4</li>\n",
       "\t<li>8.24</li>\n",
       "\t<li>8.31</li>\n",
       "\t<li>8.68</li>\n",
       "\t<li>8.71</li>\n",
       "\t<li>9.41</li>\n",
       "\t<li>10.01</li>\n",
       "\t<li>10.02</li>\n",
       "\t<li>10.93</li>\n",
       "\t<li>11.06</li>\n",
       "\t<li>11.24</li>\n",
       "\t<li>11.32</li>\n",
       "\t<li>11.53</li>\n",
       "\t<li>12.1</li>\n",
       "\t<li>13.05</li>\n",
       "\t<li>13.7</li>\n",
       "\t<li>13.99</li>\n",
       "\t<li>14.57</li>\n",
       "\t<li>15.45</li>\n",
       "\t<li>17.2</li>\n",
       "\t<li>19.23</li>\n",
       "\t<li>23.41</li>\n",
       "\t<li>24.23</li>\n",
       "\t<li>26</li>\n",
       "\t<li>26.13</li>\n",
       "\t<li>27.35</li>\n",
       "\t<li>28.66</li>\n",
       "\t<li>29.48</li>\n",
       "\t<li>30.32</li>\n",
       "\t<li>31.72</li>\n",
       "\t<li>31.86</li>\n",
       "\t<li>32.07</li>\n",
       "\t<li>35.88</li>\n",
       "\t<li>36.85</li>\n",
       "\t<li>37.02</li>\n",
       "\t<li>37.71</li>\n",
       "\t<li>48.55</li>\n",
       "\t<li>49.37</li>\n",
       "\t<li>58.3</li>\n",
       "\t<li>64.1</li>\n",
       "\t<li>71.3</li>\n",
       "\t<li>88.49</li>\n",
       "\t<li>95.18</li>\n",
       "\t<li>103.39</li>\n",
       "\t<li>105.66</li>\n",
       "\t<li>154.88</li>\n",
       "\t<li>196.48</li>\n",
       "\t<li>200.94</li>\n",
       "\t<li>212.88</li>\n",
       "\t<li>1090.84</li>\n",
       "\t<li>10.13</li>\n",
       "\t<li>2.87</li>\n",
       "\t<li>0.76</li>\n",
       "\t<li>0.09</li>\n",
       "\t<li>0.75</li>\n",
       "\t<li>2.47</li>\n",
       "\t<li>0.68</li>\n",
       "\t<li>0.24</li>\n",
       "\t<li>0.21</li>\n",
       "\t<li>1.52</li>\n",
       "\t<li>10.34</li>\n",
       "\t<li>8.02</li>\n",
       "\t<li>1.38</li>\n",
       "\t<li>8.85</li>\n",
       "\t<li>3.3</li>\n",
       "\t<li>4.25</li>\n",
       "\t<li>6.54</li>\n",
       "\t<li>0.79</li>\n",
       "\t<li>0.17</li>\n",
       "\t<li>4.4</li>\n",
       "\t<li>0.52</li>\n",
       "\t<li>9.27</li>\n",
       "\t<li>3.09</li>\n",
       "\t<li>8.98</li>\n",
       "\t<li>11.19</li>\n",
       "\t<li>5.38</li>\n",
       "\t<li>17.85</li>\n",
       "\t<li>10.73</li>\n",
       "\t<li>22.03</li>\n",
       "\t<li>9.77</li>\n",
       "\t<li>24.77</li>\n",
       "\t<li>1.1</li>\n",
       "\t<li>24.24</li>\n",
       "\t<li>8</li>\n",
       "\t<li>2.64</li>\n",
       "\t<li>86.45</li>\n",
       "\t<li>6.57</li>\n",
       "\t<li>3.52</li>\n",
       "\t<li>0.41</li>\n",
       "\t<li>5.18</li>\n",
       "\t<li>14.29</li>\n",
       "\t<li>1.58</li>\n",
       "\t<li>3.78</li>\n",
       "\t<li>4.41</li>\n",
       "\t<li>34.36</li>\n",
       "\t<li>7.21</li>\n",
       "\t<li>1.01</li>\n",
       "\t<li>2.18</li>\n",
       "\t<li>4.42</li>\n",
       "\t<li>3.33</li>\n",
       "\t<li>6.58</li>\n",
       "\t<li>15.64</li>\n",
       "\t<li>11.22</li>\n",
       "\t<li>2.13</li>\n",
       "\t<li>56.04</li>\n",
       "\t<li>7.48</li>\n",
       "\t<li>1.47</li>\n",
       "\t<li>3.93</li>\n",
       "\t<li>6.1</li>\n",
       "\t<li>5.83</li>\n",
       "\t<li>28.19</li>\n",
       "\t<li>3.71</li>\n",
       "\t<li>7.31</li>\n",
       "\t<li>2.03</li>\n",
       "\t<li>1.72</li>\n",
       "\t<li>5.97</li>\n",
       "\t<li>13.06</li>\n",
       "\t<li>1.26</li>\n",
       "\t<li>8.12</li>\n",
       "\t<li>1.09</li>\n",
       "\t<li>3.94</li>\n",
       "\t<li>2.93</li>\n",
       "\t<li>5.65</li>\n",
       "\t<li>20.03</li>\n",
       "\t<li>12.64</li>\n",
       "\t<li>18.3</li>\n",
       "\t<li>39.35</li>\n",
       "\t<li>174.63</li>\n",
       "\t<li>7.73</li>\n",
       "\t<li>16.33</li>\n",
       "\t<li>5.86</li>\n",
       "\t<li>42.87</li>\n",
       "\t<li>12.18</li>\n",
       "\t<li>16</li>\n",
       "\t<li>24.59</li>\n",
       "\t<li>28.74</li>\n",
       "\t<li>9.96</li>\n",
       "\t<li>30.18</li>\n",
       "\t<li>70.76</li>\n",
       "\t<li>51.78</li>\n",
       "\t<li>3.64</li>\n",
       "\t<li>3.63</li>\n",
       "\t<li>8.16</li>\n",
       "\t<li>4.95</li>\n",
       "\t<li>6.04</li>\n",
       "\t<li>3.95</li>\n",
       "\t<li>7.8</li>\n",
       "\t<li>4.62</li>\n",
       "\t<li>746.28</li>\n",
       "\t<li>7.02</li>\n",
       "\t<li>2.44</li>\n",
       "\t<li>3.05</li>\n",
       "\t<li>185.76</li>\n",
       "\t<li>6.3</li>\n",
       "\t<li>0.72</li>\n",
       "\t<li>4.96</li>\n",
       "\t<li>2.35</li>\n",
       "\t<li>3.2</li>\n",
       "\t<li>6.36</li>\n",
       "\t<li>15.34</li>\n",
       "\t<li>0.54</li>\n",
       "\t<li>6.43</li>\n",
       "\t<li>0.33</li>\n",
       "\t<li>1.23</li>\n",
       "\t<li>3.35</li>\n",
       "\t<li>9.71</li>\n",
       "\t<li>82.75</li>\n",
       "\t<li>3.32</li>\n",
       "\t<li>5.39</li>\n",
       "\t<li>6.84</li>\n",
       "\t<li>3.18</li>\n",
       "\t<li>5.55</li>\n",
       "\t<li>6.61</li>\n",
       "\t<li>61.13</li>\n",
       "\t<li>38.48</li>\n",
       "\t<li>70.32</li>\n",
       "\t<li>10.08</li>\n",
       "\t<li>3.19</li>\n",
       "\t<li>1.76</li>\n",
       "\t<li>7.36</li>\n",
       "\t<li>2.21</li>\n",
       "\t<li>278.53</li>\n",
       "\t<li>2.75</li>\n",
       "\t<li>1.29</li>\n",
       "\t<li>26.43</li>\n",
       "\t<li>2.07</li>\n",
       "\t<li>2</li>\n",
       "\t<li>16.4</li>\n",
       "\t<li>46.7</li>\n",
       "\t<li>43.32</li>\n",
       "\t<li>8.59</li>\n",
       "\t<li>2.77</li>\n",
       "\t<li>14.68</li>\n",
       "\t<li>40.54</li>\n",
       "\t<li>10.82</li>\n",
       "\t<li>49.59</li>\n",
       "\t<li>5.8</li>\n",
       "\t<li>2.17</li>\n",
       "\t<li>6.44</li>\n",
       "\t<li>54.29</li>\n",
       "\t<li>11.16</li>\n",
       "</ol>\n"
      ],
      "text/latex": [
       "\\begin{enumerate*}\n",
       "\\item 0\n",
       "\\item 0.36\n",
       "\\item 0.43\n",
       "\\item 0.47\n",
       "\\item 0.55\n",
       "\\item 0.61\n",
       "\\item 0.71\n",
       "\\item 0.77\n",
       "\\item 0.9\n",
       "\\item 0.95\n",
       "\\item 0.96\n",
       "\\item 1.07\n",
       "\\item 1.12\n",
       "\\item 1.19\n",
       "\\item 1.36\n",
       "\\item 1.43\n",
       "\\item 1.46\n",
       "\\item 1.56\n",
       "\\item 1.61\n",
       "\\item 1.63\n",
       "\\item 1.64\n",
       "\\item 1.69\n",
       "\\item 1.75\n",
       "\\item 1.9\n",
       "\\item 1.94\n",
       "\\item 1.95\n",
       "\\item 2.01\n",
       "\\item 2.14\n",
       "\\item 2.29\n",
       "\\item 2.51\n",
       "\\item 2.53\n",
       "\\item 2.55\n",
       "\\item 2.57\n",
       "\\item 2.69\n",
       "\\item 2.74\n",
       "\\item 3.07\n",
       "\\item 3.5\n",
       "\\item 4.53\n",
       "\\item 4.61\n",
       "\\item 4.69\n",
       "\\item 4.88\n",
       "\\item 5.23\n",
       "\\item 5.33\n",
       "\\item 5.44\n",
       "\\item 6.38\n",
       "\\item 6.83\n",
       "\\item 6.96\n",
       "\\item 7.04\n",
       "\\item 7.19\n",
       "\\item 7.3\n",
       "\\item 7.4\n",
       "\\item 8.24\n",
       "\\item 8.31\n",
       "\\item 8.68\n",
       "\\item 8.71\n",
       "\\item 9.41\n",
       "\\item 10.01\n",
       "\\item 10.02\n",
       "\\item 10.93\n",
       "\\item 11.06\n",
       "\\item 11.24\n",
       "\\item 11.32\n",
       "\\item 11.53\n",
       "\\item 12.1\n",
       "\\item 13.05\n",
       "\\item 13.7\n",
       "\\item 13.99\n",
       "\\item 14.57\n",
       "\\item 15.45\n",
       "\\item 17.2\n",
       "\\item 19.23\n",
       "\\item 23.41\n",
       "\\item 24.23\n",
       "\\item 26\n",
       "\\item 26.13\n",
       "\\item 27.35\n",
       "\\item 28.66\n",
       "\\item 29.48\n",
       "\\item 30.32\n",
       "\\item 31.72\n",
       "\\item 31.86\n",
       "\\item 32.07\n",
       "\\item 35.88\n",
       "\\item 36.85\n",
       "\\item 37.02\n",
       "\\item 37.71\n",
       "\\item 48.55\n",
       "\\item 49.37\n",
       "\\item 58.3\n",
       "\\item 64.1\n",
       "\\item 71.3\n",
       "\\item 88.49\n",
       "\\item 95.18\n",
       "\\item 103.39\n",
       "\\item 105.66\n",
       "\\item 154.88\n",
       "\\item 196.48\n",
       "\\item 200.94\n",
       "\\item 212.88\n",
       "\\item 1090.84\n",
       "\\item 10.13\n",
       "\\item 2.87\n",
       "\\item 0.76\n",
       "\\item 0.09\n",
       "\\item 0.75\n",
       "\\item 2.47\n",
       "\\item 0.68\n",
       "\\item 0.24\n",
       "\\item 0.21\n",
       "\\item 1.52\n",
       "\\item 10.34\n",
       "\\item 8.02\n",
       "\\item 1.38\n",
       "\\item 8.85\n",
       "\\item 3.3\n",
       "\\item 4.25\n",
       "\\item 6.54\n",
       "\\item 0.79\n",
       "\\item 0.17\n",
       "\\item 4.4\n",
       "\\item 0.52\n",
       "\\item 9.27\n",
       "\\item 3.09\n",
       "\\item 8.98\n",
       "\\item 11.19\n",
       "\\item 5.38\n",
       "\\item 17.85\n",
       "\\item 10.73\n",
       "\\item 22.03\n",
       "\\item 9.77\n",
       "\\item 24.77\n",
       "\\item 1.1\n",
       "\\item 24.24\n",
       "\\item 8\n",
       "\\item 2.64\n",
       "\\item 86.45\n",
       "\\item 6.57\n",
       "\\item 3.52\n",
       "\\item 0.41\n",
       "\\item 5.18\n",
       "\\item 14.29\n",
       "\\item 1.58\n",
       "\\item 3.78\n",
       "\\item 4.41\n",
       "\\item 34.36\n",
       "\\item 7.21\n",
       "\\item 1.01\n",
       "\\item 2.18\n",
       "\\item 4.42\n",
       "\\item 3.33\n",
       "\\item 6.58\n",
       "\\item 15.64\n",
       "\\item 11.22\n",
       "\\item 2.13\n",
       "\\item 56.04\n",
       "\\item 7.48\n",
       "\\item 1.47\n",
       "\\item 3.93\n",
       "\\item 6.1\n",
       "\\item 5.83\n",
       "\\item 28.19\n",
       "\\item 3.71\n",
       "\\item 7.31\n",
       "\\item 2.03\n",
       "\\item 1.72\n",
       "\\item 5.97\n",
       "\\item 13.06\n",
       "\\item 1.26\n",
       "\\item 8.12\n",
       "\\item 1.09\n",
       "\\item 3.94\n",
       "\\item 2.93\n",
       "\\item 5.65\n",
       "\\item 20.03\n",
       "\\item 12.64\n",
       "\\item 18.3\n",
       "\\item 39.35\n",
       "\\item 174.63\n",
       "\\item 7.73\n",
       "\\item 16.33\n",
       "\\item 5.86\n",
       "\\item 42.87\n",
       "\\item 12.18\n",
       "\\item 16\n",
       "\\item 24.59\n",
       "\\item 28.74\n",
       "\\item 9.96\n",
       "\\item 30.18\n",
       "\\item 70.76\n",
       "\\item 51.78\n",
       "\\item 3.64\n",
       "\\item 3.63\n",
       "\\item 8.16\n",
       "\\item 4.95\n",
       "\\item 6.04\n",
       "\\item 3.95\n",
       "\\item 7.8\n",
       "\\item 4.62\n",
       "\\item 746.28\n",
       "\\item 7.02\n",
       "\\item 2.44\n",
       "\\item 3.05\n",
       "\\item 185.76\n",
       "\\item 6.3\n",
       "\\item 0.72\n",
       "\\item 4.96\n",
       "\\item 2.35\n",
       "\\item 3.2\n",
       "\\item 6.36\n",
       "\\item 15.34\n",
       "\\item 0.54\n",
       "\\item 6.43\n",
       "\\item 0.33\n",
       "\\item 1.23\n",
       "\\item 3.35\n",
       "\\item 9.71\n",
       "\\item 82.75\n",
       "\\item 3.32\n",
       "\\item 5.39\n",
       "\\item 6.84\n",
       "\\item 3.18\n",
       "\\item 5.55\n",
       "\\item 6.61\n",
       "\\item 61.13\n",
       "\\item 38.48\n",
       "\\item 70.32\n",
       "\\item 10.08\n",
       "\\item 3.19\n",
       "\\item 1.76\n",
       "\\item 7.36\n",
       "\\item 2.21\n",
       "\\item 278.53\n",
       "\\item 2.75\n",
       "\\item 1.29\n",
       "\\item 26.43\n",
       "\\item 2.07\n",
       "\\item 2\n",
       "\\item 16.4\n",
       "\\item 46.7\n",
       "\\item 43.32\n",
       "\\item 8.59\n",
       "\\item 2.77\n",
       "\\item 14.68\n",
       "\\item 40.54\n",
       "\\item 10.82\n",
       "\\item 49.59\n",
       "\\item 5.8\n",
       "\\item 2.17\n",
       "\\item 6.44\n",
       "\\item 54.29\n",
       "\\item 11.16\n",
       "\\end{enumerate*}\n"
      ],
      "text/markdown": [
       "1. 0\n",
       "2. 0.36\n",
       "3. 0.43\n",
       "4. 0.47\n",
       "5. 0.55\n",
       "6. 0.61\n",
       "7. 0.71\n",
       "8. 0.77\n",
       "9. 0.9\n",
       "10. 0.95\n",
       "11. 0.96\n",
       "12. 1.07\n",
       "13. 1.12\n",
       "14. 1.19\n",
       "15. 1.36\n",
       "16. 1.43\n",
       "17. 1.46\n",
       "18. 1.56\n",
       "19. 1.61\n",
       "20. 1.63\n",
       "21. 1.64\n",
       "22. 1.69\n",
       "23. 1.75\n",
       "24. 1.9\n",
       "25. 1.94\n",
       "26. 1.95\n",
       "27. 2.01\n",
       "28. 2.14\n",
       "29. 2.29\n",
       "30. 2.51\n",
       "31. 2.53\n",
       "32. 2.55\n",
       "33. 2.57\n",
       "34. 2.69\n",
       "35. 2.74\n",
       "36. 3.07\n",
       "37. 3.5\n",
       "38. 4.53\n",
       "39. 4.61\n",
       "40. 4.69\n",
       "41. 4.88\n",
       "42. 5.23\n",
       "43. 5.33\n",
       "44. 5.44\n",
       "45. 6.38\n",
       "46. 6.83\n",
       "47. 6.96\n",
       "48. 7.04\n",
       "49. 7.19\n",
       "50. 7.3\n",
       "51. 7.4\n",
       "52. 8.24\n",
       "53. 8.31\n",
       "54. 8.68\n",
       "55. 8.71\n",
       "56. 9.41\n",
       "57. 10.01\n",
       "58. 10.02\n",
       "59. 10.93\n",
       "60. 11.06\n",
       "61. 11.24\n",
       "62. 11.32\n",
       "63. 11.53\n",
       "64. 12.1\n",
       "65. 13.05\n",
       "66. 13.7\n",
       "67. 13.99\n",
       "68. 14.57\n",
       "69. 15.45\n",
       "70. 17.2\n",
       "71. 19.23\n",
       "72. 23.41\n",
       "73. 24.23\n",
       "74. 26\n",
       "75. 26.13\n",
       "76. 27.35\n",
       "77. 28.66\n",
       "78. 29.48\n",
       "79. 30.32\n",
       "80. 31.72\n",
       "81. 31.86\n",
       "82. 32.07\n",
       "83. 35.88\n",
       "84. 36.85\n",
       "85. 37.02\n",
       "86. 37.71\n",
       "87. 48.55\n",
       "88. 49.37\n",
       "89. 58.3\n",
       "90. 64.1\n",
       "91. 71.3\n",
       "92. 88.49\n",
       "93. 95.18\n",
       "94. 103.39\n",
       "95. 105.66\n",
       "96. 154.88\n",
       "97. 196.48\n",
       "98. 200.94\n",
       "99. 212.88\n",
       "100. 1090.84\n",
       "101. 10.13\n",
       "102. 2.87\n",
       "103. 0.76\n",
       "104. 0.09\n",
       "105. 0.75\n",
       "106. 2.47\n",
       "107. 0.68\n",
       "108. 0.24\n",
       "109. 0.21\n",
       "110. 1.52\n",
       "111. 10.34\n",
       "112. 8.02\n",
       "113. 1.38\n",
       "114. 8.85\n",
       "115. 3.3\n",
       "116. 4.25\n",
       "117. 6.54\n",
       "118. 0.79\n",
       "119. 0.17\n",
       "120. 4.4\n",
       "121. 0.52\n",
       "122. 9.27\n",
       "123. 3.09\n",
       "124. 8.98\n",
       "125. 11.19\n",
       "126. 5.38\n",
       "127. 17.85\n",
       "128. 10.73\n",
       "129. 22.03\n",
       "130. 9.77\n",
       "131. 24.77\n",
       "132. 1.1\n",
       "133. 24.24\n",
       "134. 8\n",
       "135. 2.64\n",
       "136. 86.45\n",
       "137. 6.57\n",
       "138. 3.52\n",
       "139. 0.41\n",
       "140. 5.18\n",
       "141. 14.29\n",
       "142. 1.58\n",
       "143. 3.78\n",
       "144. 4.41\n",
       "145. 34.36\n",
       "146. 7.21\n",
       "147. 1.01\n",
       "148. 2.18\n",
       "149. 4.42\n",
       "150. 3.33\n",
       "151. 6.58\n",
       "152. 15.64\n",
       "153. 11.22\n",
       "154. 2.13\n",
       "155. 56.04\n",
       "156. 7.48\n",
       "157. 1.47\n",
       "158. 3.93\n",
       "159. 6.1\n",
       "160. 5.83\n",
       "161. 28.19\n",
       "162. 3.71\n",
       "163. 7.31\n",
       "164. 2.03\n",
       "165. 1.72\n",
       "166. 5.97\n",
       "167. 13.06\n",
       "168. 1.26\n",
       "169. 8.12\n",
       "170. 1.09\n",
       "171. 3.94\n",
       "172. 2.93\n",
       "173. 5.65\n",
       "174. 20.03\n",
       "175. 12.64\n",
       "176. 18.3\n",
       "177. 39.35\n",
       "178. 174.63\n",
       "179. 7.73\n",
       "180. 16.33\n",
       "181. 5.86\n",
       "182. 42.87\n",
       "183. 12.18\n",
       "184. 16\n",
       "185. 24.59\n",
       "186. 28.74\n",
       "187. 9.96\n",
       "188. 30.18\n",
       "189. 70.76\n",
       "190. 51.78\n",
       "191. 3.64\n",
       "192. 3.63\n",
       "193. 8.16\n",
       "194. 4.95\n",
       "195. 6.04\n",
       "196. 3.95\n",
       "197. 7.8\n",
       "198. 4.62\n",
       "199. 746.28\n",
       "200. 7.02\n",
       "201. 2.44\n",
       "202. 3.05\n",
       "203. 185.76\n",
       "204. 6.3\n",
       "205. 0.72\n",
       "206. 4.96\n",
       "207. 2.35\n",
       "208. 3.2\n",
       "209. 6.36\n",
       "210. 15.34\n",
       "211. 0.54\n",
       "212. 6.43\n",
       "213. 0.33\n",
       "214. 1.23\n",
       "215. 3.35\n",
       "216. 9.71\n",
       "217. 82.75\n",
       "218. 3.32\n",
       "219. 5.39\n",
       "220. 6.84\n",
       "221. 3.18\n",
       "222. 5.55\n",
       "223. 6.61\n",
       "224. 61.13\n",
       "225. 38.48\n",
       "226. 70.32\n",
       "227. 10.08\n",
       "228. 3.19\n",
       "229. 1.76\n",
       "230. 7.36\n",
       "231. 2.21\n",
       "232. 278.53\n",
       "233. 2.75\n",
       "234. 1.29\n",
       "235. 26.43\n",
       "236. 2.07\n",
       "237. 2\n",
       "238. 16.4\n",
       "239. 46.7\n",
       "240. 43.32\n",
       "241. 8.59\n",
       "242. 2.77\n",
       "243. 14.68\n",
       "244. 40.54\n",
       "245. 10.82\n",
       "246. 49.59\n",
       "247. 5.8\n",
       "248. 2.17\n",
       "249. 6.44\n",
       "250. 54.29\n",
       "251. 11.16\n",
       "\n",
       "\n"
      ],
      "text/plain": [
       "  [1]    0.00    0.36    0.43    0.47    0.55    0.61    0.71    0.77    0.90\n",
       " [10]    0.95    0.96    1.07    1.12    1.19    1.36    1.43    1.46    1.56\n",
       " [19]    1.61    1.63    1.64    1.69    1.75    1.90    1.94    1.95    2.01\n",
       " [28]    2.14    2.29    2.51    2.53    2.55    2.57    2.69    2.74    3.07\n",
       " [37]    3.50    4.53    4.61    4.69    4.88    5.23    5.33    5.44    6.38\n",
       " [46]    6.83    6.96    7.04    7.19    7.30    7.40    8.24    8.31    8.68\n",
       " [55]    8.71    9.41   10.01   10.02   10.93   11.06   11.24   11.32   11.53\n",
       " [64]   12.10   13.05   13.70   13.99   14.57   15.45   17.20   19.23   23.41\n",
       " [73]   24.23   26.00   26.13   27.35   28.66   29.48   30.32   31.72   31.86\n",
       " [82]   32.07   35.88   36.85   37.02   37.71   48.55   49.37   58.30   64.10\n",
       " [91]   71.30   88.49   95.18  103.39  105.66  154.88  196.48  200.94  212.88\n",
       "[100] 1090.84   10.13    2.87    0.76    0.09    0.75    2.47    0.68    0.24\n",
       "[109]    0.21    1.52   10.34    8.02    1.38    8.85    3.30    4.25    6.54\n",
       "[118]    0.79    0.17    4.40    0.52    9.27    3.09    8.98   11.19    5.38\n",
       "[127]   17.85   10.73   22.03    9.77   24.77    1.10   24.24    8.00    2.64\n",
       "[136]   86.45    6.57    3.52    0.41    5.18   14.29    1.58    3.78    4.41\n",
       "[145]   34.36    7.21    1.01    2.18    4.42    3.33    6.58   15.64   11.22\n",
       "[154]    2.13   56.04    7.48    1.47    3.93    6.10    5.83   28.19    3.71\n",
       "[163]    7.31    2.03    1.72    5.97   13.06    1.26    8.12    1.09    3.94\n",
       "[172]    2.93    5.65   20.03   12.64   18.30   39.35  174.63    7.73   16.33\n",
       "[181]    5.86   42.87   12.18   16.00   24.59   28.74    9.96   30.18   70.76\n",
       "[190]   51.78    3.64    3.63    8.16    4.95    6.04    3.95    7.80    4.62\n",
       "[199]  746.28    7.02    2.44    3.05  185.76    6.30    0.72    4.96    2.35\n",
       "[208]    3.20    6.36   15.34    0.54    6.43    0.33    1.23    3.35    9.71\n",
       "[217]   82.75    3.32    5.39    6.84    3.18    5.55    6.61   61.13   38.48\n",
       "[226]   70.32   10.08    3.19    1.76    7.36    2.21  278.53    2.75    1.29\n",
       "[235]   26.43    2.07    2.00   16.40   46.70   43.32    8.59    2.77   14.68\n",
       "[244]   40.54   10.82   49.59    5.80    2.17    6.44   54.29   11.16"
      ]
     },
     "metadata": {},
     "output_type": "display_data"
    }
   ],
   "source": [
    "# unique values in the area column\n",
    "df %>% pull(area) %>% unique"
   ]
  },
  {
   "cell_type": "markdown",
   "metadata": {},
   "source": [
    "Most of the area values are zero or close to zero and a few are extremely large compared with the rest. Filtering by certain ranges of area may help to elucidate relationships.\n",
    "\n",
    "## Filter Area To Check For Variable Relationships\n",
    "\n",
    "1. Filter area less than or equal to 16.425 to remove outliers\n",
    "2. Filter area greater than 16.425 (only outliers)\n",
    "3. Filter area within the interquartile range\n"
   ]
  },
  {
   "cell_type": "code",
   "execution_count": 101,
   "metadata": {},
   "outputs": [
    {
     "data": {
      "image/png": "[encoded data removed]",
      "text/plain": [
       "plot without title"
      ]
     },
     "metadata": {},
     "output_type": "display_data"
    }
   ],
   "source": [
    "# create a dataframe filtered by area values removing outliers (less than or equal to 16.425)\n",
    "df_long_remove_outliers <- df_long %>% \n",
    "  filter(area <= outliers)\n",
    "\n",
    "# create a scatter plot showing the relationship between the variables and filtered area\n",
    "df_long_remove_outliers %>%\n",
    "  ggplot(aes(x = value, y = area)) +\n",
    "  geom_point() +\n",
    "  geom_smooth(method = 'lm') +\n",
    "  facet_wrap(vars(variable), scales = 'free') +\n",
    "  labs(\n",
    "    title = 'Affect of Variables on Fire Area (hectares) Outliers Removed',\n",
    "    x = 'Variable',\n",
    "    y = 'Area'\n",
    "  ) + \n",
    "  theme(legend.position='none', plot.title=element_text(hjust=0.5))"
   ]
  },
  {
   "cell_type": "markdown",
   "metadata": {},
   "source": [
    "Removing outliers shows no correlation between variables and area.\n",
    "\n"
   ]
  },
  {
   "cell_type": "code",
   "execution_count": 102,
   "metadata": {},
   "outputs": [
    {
     "data": {
      "image/png": "[encoded data removed]",
      "text/plain": [
       "plot without title"
      ]
     },
     "metadata": {},
     "output_type": "display_data"
    }
   ],
   "source": [
    "# create a dataframe filtered by area values with only outliers (above 16.425)\n",
    "df_long_only_outliers <- df_long %>% \n",
    "  filter(area > outliers)\n",
    "\n",
    "# create a scatter plot showing the relationship between the variables and filtered area\n",
    "df_long_only_outliers %>%\n",
    "  ggplot(aes(x = value, y = area)) +\n",
    "  geom_point() +\n",
    "  geom_smooth(method = 'lm') +\n",
    "  facet_wrap(vars(variable), scales = 'free') +\n",
    "  labs(\n",
    "    title = 'Affect of Variables on Fire Area (hectares) Only Outliers',\n",
    "    x = 'Variable',\n",
    "    y = 'Area'\n",
    "  ) + \n",
    "  theme(legend.position='none', plot.title=element_text(hjust=0.5))"
   ]
  },
  {
   "cell_type": "markdown",
   "metadata": {},
   "source": [
    "Data with only outliers shows no strong correlation between variables and area.\n",
    "\n"
   ]
  },
  {
   "cell_type": "code",
   "execution_count": 103,
   "metadata": {},
   "outputs": [
    {
     "data": {
      "image/png": "[encoded data removed]",
      "text/plain": [
       "plot without title"
      ]
     },
     "metadata": {},
     "output_type": "display_data"
    }
   ],
   "source": [
    "# create a dataframe filtered by area values between the interquartile range\n",
    "df_long_between_iqr <- df_long %>% \n",
    "  filter(area <= 6.57)\n",
    "\n",
    "# create a scatter plot showing the relationship between the variables and filtered area\n",
    "df_long_between_iqr %>%\n",
    "  ggplot(aes(x = value, y = area)) +\n",
    "  geom_point() +\n",
    "  geom_smooth(method = 'lm') +\n",
    "  facet_wrap(vars(variable), scales = 'free') +\n",
    "  labs(\n",
    "    title = 'Affect of Variables on Fire Area (hectares) Between IQR',\n",
    "    x = 'Variable',\n",
    "    y = 'Area'\n",
    "  ) + \n",
    "  theme(legend.position='none', plot.title=element_text(hjust=0.5))"
   ]
  },
  {
   "cell_type": "markdown",
   "metadata": {},
   "source": [
    "Data between the interquartile range shows no strong correlation between the variables and area.\n",
    "\n",
    "## Conclusion \n",
    "\n",
    "* Rain has no relationship with the frequency of forest fires.\n",
    "* All other variables are increased when the frequency of fires increases. \n",
    "* All variables show almost zero or very weak correlation with area. \n",
    "* Therefore, the assumption that area may be used to describe the severity or intensity of forest fires is likely false. \n"
   ]
  }
 ],
 "metadata": {
  "anaconda-cloud": "",
  "kernelspec": {
   "display_name": "R",
   "language": "R",
   "name": "ir"
  },
  "language_info": {
   "codemirror_mode": "r",
   "file_extension": ".r",
   "mimetype": "text/x-r-source",
   "name": "R",
   "pygments_lexer": "r",
   "version": "3.6.1"
  }
 },
 "nbformat": 4,
 "nbformat_minor": 1
}
