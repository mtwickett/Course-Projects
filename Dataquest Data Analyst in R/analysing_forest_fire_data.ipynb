{
    "cells": [
        {
            "cell_type": "markdown",
            "metadata": {},
            "source": "\n"
        },
        {
            "cell_type": "code",
            "execution_count": null,
            "metadata": {},
            "outputs": [],
            "source": [
                "library(\"tidyverse\")\n",
                "library(\"sqldf\")\n",
                "library(\"knitr\")\n",
                "library(\"rmarkdown\")\n",
                "library(\"lubridate\")\n"
            ]
        },
        {
            "cell_type": "markdown",
            "metadata": {},
            "source": "\n"
        },
        {
            "cell_type": "code",
            "execution_count": null,
            "metadata": {},
            "outputs": [],
            "source": [
                "# read in data csv file\n",
                "df <- read.csv(\"C:/Users/Martin/Desktop/Datasets/forestfires.csv\")\n",
                "head(df)\n"
            ]
        },
        {
            "cell_type": "markdown",
            "metadata": {},
            "source": "\n"
        },
        {
            "cell_type": "code",
            "execution_count": null,
            "metadata": {},
            "outputs": [],
            "source": [
                "# check rows and columns\n",
                "glimpse(df)\n"
            ]
        },
        {
            "cell_type": "markdown",
            "metadata": {},
            "source": [
                "Each row represents the location, day, and month of the following variables during a forest fire.\n",
                "\n",
                "**`FFMC`** - The Fine Fuel Moisture Code which represents the fuel moisture of forest litter fuels under the shade of the forest canopy.\n",
                "\n",
                "**`DMC`** - The Duff Moisture Code. The average moisture content of loosely compacted organic layers of moderate depth.\n",
                "\n",
                "**`DC`** - The Drought Code. The average moisture content of deep, compact organic layers.\n",
                "\n",
                "**`ISI`** - The Initial Spread Index. The expected rate of fire spread.\n",
                "\n",
                "**`RH`** - Relative Humidity. How much water vapor is in the air, compared to how much there could be.\n",
                "\n",
                "**`Temp`** - Temperature in Celsius Degrees\n",
                "\n",
                "**`Wind`** - Wind speed in km/h\n",
                "\n",
                "**`Rain`** - Outside Rain in mm/m2\n",
                "\n",
                "**`Area`** - The burned area of the forest in hectares.\n",
                "\n",
                "## Categorize The Month And Day Columns In Order\n"
            ]
        },
        {
            "cell_type": "code",
            "execution_count": null,
            "metadata": {},
            "outputs": [],
            "source": [
                "# check unique month values\n",
                "df %>% pull(month) %>% unique\n"
            ]
        },
        {
            "cell_type": "markdown",
            "metadata": {},
            "source": "\n"
        },
        {
            "cell_type": "code",
            "execution_count": null,
            "metadata": {},
            "outputs": [],
            "source": [
                "# check unique day values\n",
                "df %>% pull(day) %>% unique\n"
            ]
        },
        {
            "cell_type": "markdown",
            "metadata": {},
            "source": "\n"
        },
        {
            "cell_type": "code",
            "execution_count": null,
            "metadata": {},
            "outputs": [],
            "source": [
                "# order month and day values and create factors\n",
                "month_order <- c('jan', 'feb', 'mar', 'apr', 'may', 'jun', 'jul', 'aug', 'sep', 'oct', 'nov', 'dec')\n",
                "\n",
                "day_order <- c('mon', 'tue', 'wed', 'thu', 'fri', 'sat', 'sun')\n",
                "\n",
                "df <- df %>% mutate(\n",
                "  month = factor(month, levels = month_order),\n",
                "  day = factor(day, levels = day_order)\n",
                ")\n"
            ]
        },
        {
            "cell_type": "markdown",
            "metadata": {},
            "source": [
                "## What Months Do Fires Occur Most?\n",
                "\n"
            ]
        },
        {
            "cell_type": "code",
            "execution_count": null,
            "metadata": {},
            "outputs": [],
            "source": [
                "# create dataframe grouped by month, then count number of fires (rows)\n",
                "fires_per_month <- df %>% group_by(month) %>%\n",
                "  summarize(total_fires = n())\n",
                "\n",
                "# create column graph for the number of fires per month\n",
                "fires_per_month %>%\n",
                "  ggplot(aes(x = month, y = total_fires, fill = month)) +\n",
                "  geom_col() +\n",
                "  geom_text(aes(label = total_fires), vjust = -0.2) +\n",
                "  labs(\n",
                "    title = 'Number Of Forest Fires Per Month',\n",
                "    x = 'Month',\n",
                "    y = 'Number of Fires'\n",
                "  ) +\n",
                "  theme(legend.position='none', plot.title=element_text(hjust=0.5))\n"
            ]
        },
        {
            "cell_type": "markdown",
            "metadata": {},
            "source": [
                "August and September stand out as having the most forest fires. January, May, and November have the least forest fires.\n",
                "\n",
                "## What Week Days Do Forest Fires Occur The Most?\n"
            ]
        },
        {
            "cell_type": "code",
            "execution_count": null,
            "metadata": {},
            "outputs": [],
            "source": [
                "# create dataframe grouped by day, then count number of fires (rows)\n",
                "fires_per_day <- df %>% group_by(day) %>%\n",
                "  summarise(total_fires = n())\n",
                "\n",
                "# create column graph for the number of fires per week day\n",
                "fires_per_day %>%\n",
                "  ggplot(aes(x = day, y = total_fires, fill = day)) +\n",
                "  geom_col() +\n",
                "  geom_text(aes(label = total_fires), vjust = 1.2) +\n",
                "  labs(\n",
                "    title = 'Number Of Forest Fires Per Week day',\n",
                "    x = 'Day',\n",
                "    y = 'Number of Fires'\n",
                "  ) +\n",
                "  theme(legend.position='none', plot.title=element_text(hjust=0.5))\n"
            ]
        },
        {
            "cell_type": "markdown",
            "metadata": {},
            "source": [
                "The data shows Sunday has the most forest fires and Wednesday has the least. Friday, Saturday, and Sunday have more than the other weekdays.\n",
                "\n",
                "## Check How Data Variables Relate To Month And Day\n",
                "\n",
                "Variables;\n",
                "\n",
                "* FFMC\n",
                "* DMC\n",
                "* DC\n",
                "* ISI\n",
                "* temp\n",
                "* RH\n",
                "* wind\n",
                "* rain\n"
            ]
        },
        {
            "cell_type": "code",
            "execution_count": null,
            "metadata": {},
            "outputs": [],
            "source": [
                "# create a dataframe in long format\n",
                "df_long <- df %>% pivot_longer(\n",
                "  cols = c(FFMC, DMC, DC, ISI, temp, RH, wind, rain),\n",
                "  names_to = 'variable',\n",
                "  values_to = 'value'\n",
                ")\n",
                "head(df_long, 10)\n"
            ]
        },
        {
            "cell_type": "markdown",
            "metadata": {},
            "source": [
                "\n",
                "\n"
            ]
        },
        {
            "cell_type": "code",
            "execution_count": null,
            "metadata": {},
            "outputs": [],
            "source": [
                "# create column graphs for each variable value by month\n",
                "df_long %>%\n",
                "  ggplot(aes(x = month, y = value, fill = month)) +\n",
                "  geom_col() +\n",
                "  facet_wrap(vars(variable), scales = 'free') +\n",
                "  labs(\n",
                "    title = 'Variable Changes By Month',\n",
                "    x = 'Month',\n",
                "    y = 'Variable'\n",
                "  ) +\n",
                "  theme(legend.position='none', plot.title=element_text(hjust=0.5))\n"
            ]
        },
        {
            "cell_type": "markdown",
            "metadata": {},
            "source": [
                "All variables show increased values during August and September (except rain during September). No variable stands out over the others during August and September.\n",
                "\n"
            ]
        },
        {
            "cell_type": "code",
            "execution_count": null,
            "metadata": {},
            "outputs": [],
            "source": [
                "# create column graphs for each variable value by week day\n",
                "df_long %>%\n",
                "  ggplot(aes(x = day, y = value, fill = day)) +\n",
                "  geom_col() +\n",
                "  facet_wrap(vars(variable), scales = 'free') +\n",
                "  labs(\n",
                "    title = 'Variable Changes By Day',\n",
                "    x = 'Day',\n",
                "    y = 'Variable'\n",
                "  ) +\n",
                "  theme(legend.position='none', plot.title=element_text(hjust=0.5))\n"
            ]
        },
        {
            "cell_type": "markdown",
            "metadata": {},
            "source": [
                "Again, all variables show increased values on Friday, Saturday, and Sunday when forest fires are most prevalent, except for rain.\n",
                "\n",
                "## Check If The Variables Affect Area\n",
                "\n",
                "Assume that Area can be used to describe the severity or intensity of the fire.\n"
            ]
        },
        {
            "cell_type": "code",
            "execution_count": null,
            "metadata": {},
            "outputs": [],
            "source": [
                "# create column graphs for how area is affected by the variable values\n",
                "df_long %>%\n",
                "  ggplot(aes(x = value, y = area)) +\n",
                "  geom_point() +\n",
                "  geom_smooth(method = 'lm') +\n",
                "  facet_wrap(vars(variable), scales = 'free') +\n",
                "  labs(\n",
                "    title = 'Affect of Variables on Fire Area (hectares)',\n",
                "    x = 'Variable',\n",
                "    y = 'Area'\n",
                "  ) + \n",
                "  theme(legend.position='none', plot.title=element_text(hjust=0.5))\n",
                "  \n"
            ]
        },
        {
            "cell_type": "markdown",
            "metadata": {},
            "source": [
                "There is no correlation between the variables and area.\n",
                "\n",
                "## Check For Outliers in Area\n"
            ]
        },
        {
            "cell_type": "code",
            "execution_count": null,
            "metadata": {},
            "outputs": [],
            "source": [
                "# create a histogram for the area column\n",
                "df %>% \n",
                "  ggplot(aes(x = area)) +\n",
                "  geom_histogram()\n"
            ]
        },
        {
            "cell_type": "markdown",
            "metadata": {},
            "source": "\n"
        },
        {
            "cell_type": "code",
            "execution_count": null,
            "metadata": {},
            "outputs": [],
            "source": [
                "# create a boxplot for the area column\n",
                "df %>%\n",
                "  ggplot(aes(x=area)) +\n",
                "  geom_boxplot(outlier.color = 'Red')\n"
            ]
        },
        {
            "cell_type": "markdown",
            "metadata": {},
            "source": [
                "\n",
                "\n"
            ]
        },
        {
            "cell_type": "code",
            "execution_count": null,
            "metadata": {},
            "outputs": [],
            "source": [
                "# the five number summary\n",
                "fivenum(df$area)\n"
            ]
        },
        {
            "cell_type": "markdown",
            "metadata": {},
            "source": [
                "\n",
                "\n"
            ]
        },
        {
            "cell_type": "code",
            "execution_count": null,
            "metadata": {},
            "outputs": [],
            "source": [
                "# interquartile range\n",
                "iqr <- IQR(df$area)\n",
                "iqr\n"
            ]
        },
        {
            "cell_type": "markdown",
            "metadata": {},
            "source": "\n"
        },
        {
            "cell_type": "code",
            "execution_count": null,
            "metadata": {},
            "outputs": [],
            "source": [
                "# high outliers \n",
                "outliers <- 6.57 + (1.5 * iqr)\n",
                "outliers\n"
            ]
        },
        {
            "cell_type": "markdown",
            "metadata": {},
            "source": [
                "\n",
                "\n"
            ]
        },
        {
            "cell_type": "code",
            "execution_count": null,
            "metadata": {},
            "outputs": [],
            "source": [
                "# unique values in the area column\n",
                "df %>% pull(area) %>% unique\n"
            ]
        },
        {
            "cell_type": "markdown",
            "metadata": {},
            "source": [
                "Most of the area values are zero or close to zero and a few are extremely large compared with the rest. Filtering by certain ranges of area may help to elucidate relationships.\n",
                "\n",
                "## Filter Area To Check For Variable Relationships\n",
                "\n",
                "1. Filter area less than or equal to 16.425 to remove outliers\n",
                "2. Filter area greater than 16.425 (only outliers)\n",
                "3. Filter area within the interquartile range\n"
            ]
        },
        {
            "cell_type": "code",
            "execution_count": null,
            "metadata": {},
            "outputs": [],
            "source": [
                "# create a dataframe filtered by area values removing outliers (less than or equal to 16.425)\n",
                "df_long_remove_outliers <- df_long %>% \n",
                "  filter(area <= outliers)\n",
                "\n",
                "# create a scatter plot showing the relationship between the variables and filtered area\n",
                "df_long_remove_outliers %>%\n",
                "  ggplot(aes(x = value, y = area)) +\n",
                "  geom_point() +\n",
                "  geom_smooth(method = 'lm') +\n",
                "  facet_wrap(vars(variable), scales = 'free') +\n",
                "  labs(\n",
                "    title = 'Affect of Variables on Fire Area (hectares) Outliers Removed',\n",
                "    x = 'Variable',\n",
                "    y = 'Area'\n",
                "  ) + \n",
                "  theme(legend.position='none', plot.title=element_text(hjust=0.5))\n"
            ]
        },
        {
            "cell_type": "markdown",
            "metadata": {},
            "source": [
                "Removing outliers shows no correlation between variables and area.\n",
                "\n"
            ]
        },
        {
            "cell_type": "code",
            "execution_count": null,
            "metadata": {},
            "outputs": [],
            "source": [
                "# create a dataframe filtered by area values with only outliers (above 16.425)\n",
                "df_long_only_outliers <- df_long %>% \n",
                "  filter(area > outliers)\n",
                "\n",
                "# create a scatter plot showing the relationship between the variables and filtered area\n",
                "df_long_only_outliers %>%\n",
                "  ggplot(aes(x = value, y = area)) +\n",
                "  geom_point() +\n",
                "  geom_smooth(method = 'lm') +\n",
                "  facet_wrap(vars(variable), scales = 'free') +\n",
                "  labs(\n",
                "    title = 'Affect of Variables on Fire Area (hectares) Only Outliers',\n",
                "    x = 'Variable',\n",
                "    y = 'Area'\n",
                "  ) + \n",
                "  theme(legend.position='none', plot.title=element_text(hjust=0.5))\n"
            ]
        },
        {
            "cell_type": "markdown",
            "metadata": {},
            "source": [
                "Data with only outliers shows no strong correlation between variables and area.\n",
                "\n"
            ]
        },
        {
            "cell_type": "code",
            "execution_count": null,
            "metadata": {},
            "outputs": [],
            "source": [
                "# create a dataframe filtered by area values between the interquartile range\n",
                "df_long_between_iqr <- df_long %>% \n",
                "  filter(area <= 6.57)\n",
                "\n",
                "# create a scatter plot showing the relationship between the variables and filtered area\n",
                "df_long_between_iqr %>%\n",
                "  ggplot(aes(x = value, y = area)) +\n",
                "  geom_point() +\n",
                "  geom_smooth(method = 'lm') +\n",
                "  facet_wrap(vars(variable), scales = 'free') +\n",
                "  labs(\n",
                "    title = 'Affect of Variables on Fire Area (hectares) Between IQR',\n",
                "    x = 'Variable',\n",
                "    y = 'Area'\n",
                "  ) + \n",
                "  theme(legend.position='none', plot.title=element_text(hjust=0.5))\n"
            ]
        },
        {
            "cell_type": "markdown",
            "metadata": {},
            "source": [
                "Data between the interquartile range shows no strong correlation between the variables and area.\n",
                "\n",
                "## Conclusion \n",
                "\n",
                "* Rain has no relationship with the frequency of forest fires.\n",
                "* All other variables are increased when the frequency of fires increases. \n",
                "* All variables show almost zero or very weak correlation with area. \n",
                "* Therefore, the assumption that area may be used to describe the severity or intensity of forest fires is likely false. \n"
            ]
        }
    ],
    "metadata": {
        "anaconda-cloud": "",
        "kernelspec": {
            "display_name": "R",
            "langauge": "R",
            "name": "ir"
        },
        "language_info": {
            "codemirror_mode": "r",
            "file_extension": ".r",
            "mimetype": "text/x-r-source",
            "name": "R",
            "pygments_lexer": "r",
            "version": "3.4.1"
        }
    },
    "nbformat": 4,
    "nbformat_minor": 1
}
