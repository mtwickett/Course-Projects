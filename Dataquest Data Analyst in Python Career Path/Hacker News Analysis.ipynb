{
 "cells": [
  {
   "cell_type": "markdown",
   "metadata": {
    "collapsed": true
   },
   "source": [
    "## HACKER NEWS ANALYSIS GUIDED PROJECT\n",
    "\n",
    "Hacker news is a site where users can upload \"anything that gratifies one's intellectual curiosity\", but \"if they'd cover it on TV news, it's probably off-topic\". When users have accumulated a certain number of \"Karma\" points they may vote on posts.\n",
    "\n",
    "[Hacker News Website](https://news.ycombinator.com/newsguidelines.html)\n",
    "\n",
    "[Wikipedia Page](https://en.wikipedia.org/wiki/Hacker_News)\n",
    "\n",
    "This project will take a 20,000 row subset of the original 300,000 rows by removing rows with no comments, and randomly sampling the remaining rows.\n",
    "\n",
    "The goal is to determine; \n",
    "\n",
    "* which type of post, 'Ask HN' or 'Show HN' receives more comments on average\n",
    "* if the time a post was created influences the number of comments on average\n",
    "\n",
    "'Ask HN' posts are where users ask questions to the community.\n",
    "\n",
    "'Show HN' posts are where users upload something they have created."
   ]
  },
  {
   "cell_type": "code",
   "execution_count": 26,
   "metadata": {},
   "outputs": [
    {
     "name": "stdout",
     "output_type": "stream",
     "text": [
      "['id', 'title', 'url', 'num_points', 'num_comments', 'author', 'created_at']\n",
      "\n",
      "\n",
      "[['12224879', 'Interactive Dynamic Video', 'http://www.interactivedynamicvideo.com/', '386', '52', 'ne0phyte', '8/4/2016 11:52'], ['10975351', 'How to Use Open Source and Shut the Fuck Up at the Same Time', 'http://hueniverse.com/2016/01/26/how-to-use-open-source-and-shut-the-fuck-up-at-the-same-time/', '39', '10', 'josep2', '1/26/2016 19:30'], ['11964716', \"Florida DJs May Face Felony for April Fools' Water Joke\", 'http://www.thewire.com/entertainment/2013/04/florida-djs-april-fools-water-joke/63798/', '2', '1', 'vezycash', '6/23/2016 22:20']]\n"
     ]
    }
   ],
   "source": [
    "from csv import reader\n",
    "opened_file = open('hacker_news.csv')\n",
    "read_file = reader(opened_file)\n",
    "hn_data_with_header = list(read_file)\n",
    "hn_header = hn_data_with_header[0]\n",
    "hn_data = hn_data_with_header[1:]\n",
    "print(hn_header)\n",
    "print('\\n')\n",
    "print(hn_data[:3])"
   ]
  },
  {
   "cell_type": "markdown",
   "metadata": {},
   "source": [
    "Separate the data into Ask HN posts, Show HN posts, and other posts."
   ]
  },
  {
   "cell_type": "code",
   "execution_count": 27,
   "metadata": {},
   "outputs": [
    {
     "name": "stdout",
     "output_type": "stream",
     "text": [
      "Number of Ask HN posts: 1744\n",
      "Number of Show HN posts: 1162\n",
      "Number of other posts: 17194\n"
     ]
    }
   ],
   "source": [
    "ask_posts = []\n",
    "show_posts = []\n",
    "other_posts = []\n",
    "\n",
    "for row in hn_data:\n",
    "    title = row[1]\n",
    "    if title.lower().startswith('ask hn'):\n",
    "        ask_posts.append(row)\n",
    "    elif title.lower().startswith('show hn'):\n",
    "        show_posts.append(row)\n",
    "    else:\n",
    "        other_posts.append(row)\n",
    "\n",
    "print('Number of Ask HN posts:', len(ask_posts))\n",
    "print('Number of Show HN posts:', len(show_posts))\n",
    "print('Number of other posts:', len(other_posts))"
   ]
  },
  {
   "cell_type": "code",
   "execution_count": 28,
   "metadata": {},
   "outputs": [
    {
     "data": {
      "text/plain": [
       "[['12296411',\n",
       "  'Ask HN: How to improve my personal website?',\n",
       "  '',\n",
       "  '2',\n",
       "  '6',\n",
       "  'ahmedbaracat',\n",
       "  '8/16/2016 9:55'],\n",
       " ['10610020',\n",
       "  'Ask HN: Am I the only one outraged by Twitter shutting down share counts?',\n",
       "  '',\n",
       "  '28',\n",
       "  '29',\n",
       "  'tkfx',\n",
       "  '11/22/2015 13:43'],\n",
       " ['11610310',\n",
       "  'Ask HN: Aby recent changes to CSS that broke mobile?',\n",
       "  '',\n",
       "  '1',\n",
       "  '1',\n",
       "  'polskibus',\n",
       "  '5/2/2016 10:14']]"
      ]
     },
     "execution_count": 28,
     "metadata": {},
     "output_type": "execute_result"
    }
   ],
   "source": [
    "ask_posts[:3]"
   ]
  },
  {
   "cell_type": "code",
   "execution_count": 4,
   "metadata": {},
   "outputs": [
    {
     "data": {
      "text/plain": [
       "[['10627194',\n",
       "  'Show HN: Wio Link  ESP8266 Based Web of Things Hardware Development Platform',\n",
       "  'https://iot.seeed.cc',\n",
       "  '26',\n",
       "  '22',\n",
       "  'kfihihc',\n",
       "  '11/25/2015 14:03'],\n",
       " ['10646440',\n",
       "  'Show HN: Something pointless I made',\n",
       "  'http://dn.ht/picklecat/',\n",
       "  '747',\n",
       "  '102',\n",
       "  'dhotson',\n",
       "  '11/29/2015 22:46'],\n",
       " ['11590768',\n",
       "  'Show HN: Shanhu.io, a programming playground powered by e8vm',\n",
       "  'https://shanhu.io',\n",
       "  '1',\n",
       "  '1',\n",
       "  'h8liu',\n",
       "  '4/28/2016 18:05']]"
      ]
     },
     "execution_count": 4,
     "metadata": {},
     "output_type": "execute_result"
    }
   ],
   "source": [
    "show_posts[:3]"
   ]
  },
  {
   "cell_type": "code",
   "execution_count": 29,
   "metadata": {},
   "outputs": [
    {
     "data": {
      "text/plain": [
       "[['12224879',\n",
       "  'Interactive Dynamic Video',\n",
       "  'http://www.interactivedynamicvideo.com/',\n",
       "  '386',\n",
       "  '52',\n",
       "  'ne0phyte',\n",
       "  '8/4/2016 11:52'],\n",
       " ['10975351',\n",
       "  'How to Use Open Source and Shut the Fuck Up at the Same Time',\n",
       "  'http://hueniverse.com/2016/01/26/how-to-use-open-source-and-shut-the-fuck-up-at-the-same-time/',\n",
       "  '39',\n",
       "  '10',\n",
       "  'josep2',\n",
       "  '1/26/2016 19:30'],\n",
       " ['11964716',\n",
       "  \"Florida DJs May Face Felony for April Fools' Water Joke\",\n",
       "  'http://www.thewire.com/entertainment/2013/04/florida-djs-april-fools-water-joke/63798/',\n",
       "  '2',\n",
       "  '1',\n",
       "  'vezycash',\n",
       "  '6/23/2016 22:20']]"
      ]
     },
     "execution_count": 29,
     "metadata": {},
     "output_type": "execute_result"
    }
   ],
   "source": [
    "other_posts[:3]"
   ]
  },
  {
   "cell_type": "markdown",
   "metadata": {},
   "source": [
    "Find the total number of comments for each type of post"
   ]
  },
  {
   "cell_type": "code",
   "execution_count": 30,
   "metadata": {},
   "outputs": [
    {
     "name": "stdout",
     "output_type": "stream",
     "text": [
      "Total comments for Ask HN posts: 24483\n",
      "Total comments for Show HN posts: 11988\n"
     ]
    }
   ],
   "source": [
    "def find_total_comments(data):\n",
    "    total_comments = 0\n",
    "    for row in data:\n",
    "        total_comments += int(row[4])\n",
    "    return total_comments\n",
    "\n",
    "total_ask_comments = find_total_comments(ask_posts)\n",
    "total_show_comments = find_total_comments(show_posts)\n",
    "\n",
    "print('Total comments for Ask HN posts:', total_ask_comments)\n",
    "print('Total comments for Show HN posts:', total_show_comments)   "
   ]
  },
  {
   "cell_type": "markdown",
   "metadata": {},
   "source": [
    "Find the average number of comments for each type of post"
   ]
  },
  {
   "cell_type": "code",
   "execution_count": 31,
   "metadata": {},
   "outputs": [
    {
     "name": "stdout",
     "output_type": "stream",
     "text": [
      "Average comments for Ask HN posts: 14.04\n",
      "Average comments for Show HN posts: 10.32\n"
     ]
    }
   ],
   "source": [
    "print('Average comments for Ask HN posts:', round(total_ask_comments / len(ask_posts),2))\n",
    "print('Average comments for Show HN posts:', round(total_show_comments / len(show_posts), 2))"
   ]
  },
  {
   "cell_type": "markdown",
   "metadata": {},
   "source": [
    "On average, Ask HN posts receive more comments so we'll use Ask HN posts to determine if the time a post was created influences the number of comments"
   ]
  },
  {
   "cell_type": "code",
   "execution_count": 8,
   "metadata": {},
   "outputs": [],
   "source": [
    "import datetime as dt"
   ]
  },
  {
   "cell_type": "code",
   "execution_count": 33,
   "metadata": {},
   "outputs": [
    {
     "data": {
      "text/plain": [
       "[['8/16/2016 9:55', 6],\n",
       " ['11/22/2015 13:43', 29],\n",
       " ['5/2/2016 10:14', 1],\n",
       " ['8/2/2016 14:20', 3],\n",
       " ['10/15/2015 16:38', 17],\n",
       " ['9/26/2015 23:23', 1],\n",
       " ['4/22/2016 12:24', 4],\n",
       " ['11/16/2015 9:22', 1],\n",
       " ['2/24/2016 17:57', 1],\n",
       " ['6/4/2016 17:17', 2],\n",
       " ['9/19/2015 17:04', 7],\n",
       " ['9/22/2015 13:16', 1],\n",
       " ['6/21/2016 15:45', 1],\n",
       " ['1/13/2016 21:17', 4],\n",
       " ['10/4/2015 21:27', 4],\n",
       " ['1/25/2016 20:27', 2],\n",
       " ['10/27/2015 2:47', 3],\n",
       " ['1/19/2016 12:01', 1],\n",
       " ['3/22/2016 2:05', 22],\n",
       " ['9/8/2015 14:04', 2]]"
      ]
     },
     "execution_count": 33,
     "metadata": {},
     "output_type": "execute_result"
    }
   ],
   "source": [
    "result_list = []\n",
    "for row in ask_posts:\n",
    "    number_of_comments = int(row[4])\n",
    "    result_list.append([row[6], number_of_comments])\n",
    "result_list[:20]"
   ]
  },
  {
   "cell_type": "code",
   "execution_count": 10,
   "metadata": {},
   "outputs": [],
   "source": [
    "counts_by_hour = {}\n",
    "comments_by_hour = {}\n",
    "\n",
    "for row in result_list:\n",
    "    num_comments = row[1]\n",
    "    hour_str = row[0]\n",
    "    hour_dt = dt.datetime.strptime(hour_str, \"%m/%d/%Y %H:%M\")\n",
    "    hour = hour_dt.hour\n",
    "    if hour in counts_by_hour:\n",
    "        counts_by_hour[hour] += 1\n",
    "        comments_by_hour[hour] += num_comments\n",
    "    else:\n",
    "        counts_by_hour[hour] = 1\n",
    "        comments_by_hour[hour] = num_comments"
   ]
  },
  {
   "cell_type": "code",
   "execution_count": 11,
   "metadata": {},
   "outputs": [
    {
     "data": {
      "text/plain": [
       "{9: 251,\n",
       " 13: 1253,\n",
       " 10: 793,\n",
       " 14: 1416,\n",
       " 16: 1814,\n",
       " 23: 543,\n",
       " 12: 687,\n",
       " 17: 1146,\n",
       " 15: 4477,\n",
       " 21: 1745,\n",
       " 20: 1722,\n",
       " 2: 1381,\n",
       " 18: 1439,\n",
       " 3: 421,\n",
       " 5: 464,\n",
       " 19: 1188,\n",
       " 1: 683,\n",
       " 22: 479,\n",
       " 8: 492,\n",
       " 4: 337,\n",
       " 0: 447,\n",
       " 6: 397,\n",
       " 7: 267,\n",
       " 11: 641}"
      ]
     },
     "execution_count": 11,
     "metadata": {},
     "output_type": "execute_result"
    }
   ],
   "source": [
    "comments_by_hour"
   ]
  },
  {
   "cell_type": "code",
   "execution_count": 32,
   "metadata": {},
   "outputs": [
    {
     "data": {
      "text/plain": [
       "[[0, 8.127272727272727],\n",
       " [1, 11.383333333333333],\n",
       " [2, 23.810344827586206],\n",
       " [3, 7.796296296296297],\n",
       " [4, 7.170212765957447],\n",
       " [5, 10.08695652173913],\n",
       " [6, 9.022727272727273],\n",
       " [7, 7.852941176470588],\n",
       " [8, 10.25],\n",
       " [9, 5.5777777777777775],\n",
       " [10, 13.440677966101696],\n",
       " [11, 11.051724137931034],\n",
       " [12, 9.41095890410959],\n",
       " [13, 14.741176470588234],\n",
       " [14, 13.233644859813085],\n",
       " [15, 38.5948275862069],\n",
       " [16, 16.796296296296298],\n",
       " [17, 11.46],\n",
       " [18, 13.20183486238532],\n",
       " [19, 10.8],\n",
       " [20, 21.525],\n",
       " [21, 16.009174311926607],\n",
       " [22, 6.746478873239437],\n",
       " [23, 7.985294117647059]]"
      ]
     },
     "execution_count": 32,
     "metadata": {},
     "output_type": "execute_result"
    }
   ],
   "source": [
    "avg_by_hour = []\n",
    "for hour in counts_by_hour:\n",
    "    avg_by_hour.append([hour, comments_by_hour[hour] / counts_by_hour[hour]])\n",
    "sorted(avg_by_hour)"
   ]
  },
  {
   "cell_type": "code",
   "execution_count": 22,
   "metadata": {},
   "outputs": [
    {
     "data": {
      "text/plain": [
       "[[5.5777777777777775, 9],\n",
       " [14.741176470588234, 13],\n",
       " [13.440677966101696, 10],\n",
       " [13.233644859813085, 14],\n",
       " [16.796296296296298, 16],\n",
       " [7.985294117647059, 23],\n",
       " [9.41095890410959, 12],\n",
       " [11.46, 17],\n",
       " [38.5948275862069, 15],\n",
       " [16.009174311926607, 21],\n",
       " [21.525, 20],\n",
       " [23.810344827586206, 2],\n",
       " [13.20183486238532, 18],\n",
       " [7.796296296296297, 3],\n",
       " [10.08695652173913, 5],\n",
       " [10.8, 19],\n",
       " [11.383333333333333, 1],\n",
       " [6.746478873239437, 22],\n",
       " [10.25, 8],\n",
       " [7.170212765957447, 4],\n",
       " [8.127272727272727, 0],\n",
       " [9.022727272727273, 6],\n",
       " [7.852941176470588, 7],\n",
       " [11.051724137931034, 11]]"
      ]
     },
     "execution_count": 22,
     "metadata": {},
     "output_type": "execute_result"
    }
   ],
   "source": [
    "swap_avg_by_hour = []\n",
    "for row in avg_by_hour:\n",
    "    swap_avg_by_hour.append([row[1], row[0]])\n",
    "swap_avg_by_hour"
   ]
  },
  {
   "cell_type": "code",
   "execution_count": 23,
   "metadata": {},
   "outputs": [
    {
     "name": "stdout",
     "output_type": "stream",
     "text": [
      "Top 5 hours for Ask Posts Comments\n",
      "15:00: 38.59 average number of comments per Ask HN post\n",
      "02:00: 23.81 average number of comments per Ask HN post\n",
      "20:00: 21.52 average number of comments per Ask HN post\n",
      "16:00: 16.80 average number of comments per Ask HN post\n",
      "21:00: 16.01 average number of comments per Ask HN post\n"
     ]
    }
   ],
   "source": [
    "sorted_swap = sorted(swap_avg_by_hour, reverse=True)\n",
    "print(\"Top 5 hours for Ask Posts Comments\")\n",
    "for row in sorted_swap[:5]:\n",
    "    hour_str = str(row[1])\n",
    "    hour_dt = dt.datetime.strptime(hour_str, \"%H\")\n",
    "    time = hour_dt.strftime(\"%H:%M\")\n",
    "    print('{}: {:.2f} average number of comments per Ask HN post'.format(time, row[0]))"
   ]
  },
  {
   "cell_type": "markdown",
   "metadata": {},
   "source": [
    "Convert from Pacific Time Zone to London, UK time"
   ]
  },
  {
   "cell_type": "code",
   "execution_count": 25,
   "metadata": {},
   "outputs": [
    {
     "name": "stdout",
     "output_type": "stream",
     "text": [
      "Top 5 hours for Ask Posts Comments\n",
      "23:00: 38.59 average number of comments per Ask HN post\n",
      "10:00: 23.81 average number of comments per Ask HN post\n",
      "04:00: 21.52 average number of comments per Ask HN post\n",
      "00:00: 16.80 average number of comments per Ask HN post\n",
      "05:00: 16.01 average number of comments per Ask HN post\n"
     ]
    }
   ],
   "source": [
    "print(\"Top 5 hours for Ask Posts Comments\")\n",
    "for row in sorted_swap[:5]:\n",
    "    hour_str = str(row[1])\n",
    "    hour_dt = dt.datetime.strptime(hour_str, \"%H\")\n",
    "    hour_dt += dt.timedelta(hours=8)\n",
    "    time = hour_dt.strftime(\"%H:%M\")\n",
    "    \n",
    "    print('{}: {:.2f} average number of comments per Ask HN post'.format(time, row[0]))"
   ]
  },
  {
   "cell_type": "markdown",
   "metadata": {},
   "source": [
    "In the UK 11pm could be the best time to upload an Ask HN post to receive the most comments."
   ]
  },
  {
   "cell_type": "code",
   "execution_count": null,
   "metadata": {},
   "outputs": [],
   "source": []
  }
 ],
 "metadata": {
  "kernelspec": {
   "display_name": "Python 3",
   "language": "python",
   "name": "python3"
  },
  "language_info": {
   "codemirror_mode": {
    "name": "ipython",
    "version": 3
   },
   "file_extension": ".py",
   "mimetype": "text/x-python",
   "name": "python",
   "nbconvert_exporter": "python",
   "pygments_lexer": "ipython3",
   "version": "3.8.2"
  }
 },
 "nbformat": 4,
 "nbformat_minor": 2
}
