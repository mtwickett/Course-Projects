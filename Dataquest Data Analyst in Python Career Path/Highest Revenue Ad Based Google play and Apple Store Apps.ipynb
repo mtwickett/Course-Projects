{
 "cells": [
  {
   "cell_type": "markdown",
   "metadata": {},
   "source": [
    "# Highest Revenue Ad Based Google play and Apple Store Apps Guided Project\n",
    "\n",
    "This project will analyze the profitability of free apps downloaded from the Apple Store and Google Play Store. The main source of revenue for free apps is in-app ads, and therefore predominently influenced by the number of app users and the time spent inside the app. \n",
    "\n",
    "The goal of this project is to determine which types of apps have the highest number of users. \n",
    "\n",
    "We're working as data analysts for a company that builds Android and iOS mobile apps, and our job is to enable our team of developers to make data-driven decisions with respect to the kind of apps they build.\n",
    "\n",
    "At our company, we only build apps that are free to download and install, and our main source of revenue consists of in-app ads. This means that our revenue for any given app is mostly influenced by the number of users that use our app. Our goal for this project is to analyze data to help our developers understand what kinds of apps are likely to attract more users."
   ]
  },
  {
   "cell_type": "markdown",
   "metadata": {},
   "source": [
    "### 1. Opening and Exploring the Data\n",
    "\n",
    "As of September 2018, there were approximately 2 million iOS apps available on the App Store, and 2.1 million Android apps on Google Play. \n",
    "\n",
    "This project will look at a sample of these apps using two data sets:\n",
    "\n",
    "[Data set 1](https://dq-content.s3.amazonaws.com/350/AppleStore.csv) - Approximately 7,000 apps from the Apple Store\n",
    "\n",
    "[Data set 2](https://dq-content.s3.amazonaws.com/350/googleplaystore.csv) - Approximately 10,000 apps from the Google Play Store\n"
   ]
  },
  {
   "cell_type": "code",
   "execution_count": 1,
   "metadata": {},
   "outputs": [],
   "source": [
    "#open the data sets\n",
    "#save header row\n",
    "#save body to a list of lists\n",
    "\n",
    "from csv import reader\n",
    "#Apple data\n",
    "opened_file_apple = open('AppleStore.csv')\n",
    "read_file_apple = reader(opened_file_apple)\n",
    "apple_apps_data = list(read_file_apple)\n",
    "apple_header = apple_apps_data[0]\n",
    "apple_data = apple_apps_data[1:]\n",
    "\n",
    "#Google data\n",
    "opened_file_google = open('googleplaystore.csv')\n",
    "read_file_google = reader(opened_file_google)\n",
    "google_apps_data = list(read_file_google)\n",
    "google_header = google_apps_data[0]\n",
    "google_data = google_apps_data[1:]"
   ]
  },
  {
   "cell_type": "code",
   "execution_count": 2,
   "metadata": {},
   "outputs": [],
   "source": [
    "#function given by data quest to print a subset of the data sets\n",
    "\n",
    "def explore_data(dataset, start, end, rows_and_columns=False):\n",
    "    dataset_slice = dataset[start:end]    \n",
    "    for row in dataset_slice:\n",
    "        print(row)\n",
    "        print('\\n') # adds a new (empty) line between rows\n",
    "        \n",
    "    if rows_and_columns:\n",
    "        print('Number of rows:', len(dataset))\n",
    "        print('Number of columns:', len(dataset[0]))"
   ]
  },
  {
   "cell_type": "code",
   "execution_count": 3,
   "metadata": {},
   "outputs": [
    {
     "name": "stdout",
     "output_type": "stream",
     "text": [
      "['id', 'track_name', 'size_bytes', 'currency', 'price', 'rating_count_tot', 'rating_count_ver', 'user_rating', 'user_rating_ver', 'ver', 'cont_rating', 'prime_genre', 'sup_devices.num', 'ipadSc_urls.num', 'lang.num', 'vpp_lic']\n",
      "\n",
      "\n",
      "['284882215', 'Facebook', '389879808', 'USD', '0.0', '2974676', '212', '3.5', '3.5', '95.0', '4+', 'Social Networking', '37', '1', '29', '1']\n",
      "\n",
      "\n",
      "['389801252', 'Instagram', '113954816', 'USD', '0.0', '2161558', '1289', '4.5', '4.0', '10.23', '12+', 'Photo & Video', '37', '0', '29', '1']\n",
      "\n",
      "\n",
      "['529479190', 'Clash of Clans', '116476928', 'USD', '0.0', '2130805', '579', '4.5', '4.5', '9.24.12', '9+', 'Games', '38', '5', '18', '1']\n",
      "\n",
      "\n",
      "['420009108', 'Temple Run', '65921024', 'USD', '0.0', '1724546', '3842', '4.5', '4.0', '1.6.2', '9+', 'Games', '40', '5', '1', '1']\n",
      "\n",
      "\n",
      "Number of rows: 7197\n",
      "Number of columns: 16\n"
     ]
    }
   ],
   "source": [
    "#check a subset of the apple data\n",
    "#find number of rows and columns\n",
    "\n",
    "print(apple_header)\n",
    "print('\\n')\n",
    "explore_data(apple_data, 0, 4, rows_and_columns=True)"
   ]
  },
  {
   "cell_type": "markdown",
   "metadata": {},
   "source": [
    "There are 7197 apple store apps in this data set. The columns that could be helpful in answering the project question, 'which free apps have the highest number of users?', are;\n",
    "- track_name\n",
    "- currency\n",
    "- price\n",
    "- rating_count_tot\n",
    "- rating_count_ver\n",
    "- prime_genre)\n",
    "\n",
    "Documentation explaining column descriptions can be found [here](https://www.kaggle.com/ramamet4/app-store-apple-data-set-10k-apps/home)"
   ]
  },
  {
   "cell_type": "code",
   "execution_count": 4,
   "metadata": {},
   "outputs": [
    {
     "name": "stdout",
     "output_type": "stream",
     "text": [
      "['App', 'Category', 'Rating', 'Reviews', 'Size', 'Installs', 'Type', 'Price', 'Content Rating', 'Genres', 'Last Updated', 'Current Ver', 'Android Ver']\n",
      "\n",
      "\n",
      "['Photo Editor & Candy Camera & Grid & ScrapBook', 'ART_AND_DESIGN', '4.1', '159', '19M', '10,000+', 'Free', '0', 'Everyone', 'Art & Design', 'January 7, 2018', '1.0.0', '4.0.3 and up']\n",
      "\n",
      "\n",
      "['Coloring book moana', 'ART_AND_DESIGN', '3.9', '967', '14M', '500,000+', 'Free', '0', 'Everyone', 'Art & Design;Pretend Play', 'January 15, 2018', '2.0.0', '4.0.3 and up']\n",
      "\n",
      "\n",
      "['U Launcher Lite – FREE Live Cool Themes, Hide Apps', 'ART_AND_DESIGN', '4.7', '87510', '8.7M', '5,000,000+', 'Free', '0', 'Everyone', 'Art & Design', 'August 1, 2018', '1.2.4', '4.0.3 and up']\n",
      "\n",
      "\n",
      "['Sketch - Draw & Paint', 'ART_AND_DESIGN', '4.5', '215644', '25M', '50,000,000+', 'Free', '0', 'Teen', 'Art & Design', 'June 8, 2018', 'Varies with device', '4.2 and up']\n",
      "\n",
      "\n",
      "Number of rows: 10841\n",
      "Number of columns: 13\n"
     ]
    }
   ],
   "source": [
    "#check a subset of the google data\n",
    "#find number of rows and columns\n",
    "\n",
    "print(google_header)\n",
    "print('\\n')\n",
    "explore_data(google_data, 0, 4, rows_and_columns=True)"
   ]
  },
  {
   "cell_type": "markdown",
   "metadata": {},
   "source": [
    "There are 10841 google play store apps in this data set. The columns that could be helpful in answering the project question, 'which free apps have the highest number of users?', are;\n",
    "\n",
    "- App\n",
    "- Category\n",
    "- Rating\n",
    "- Installs\n",
    "- Type\n",
    "- Price\n",
    "- Genres\n",
    "\n",
    "Documentation explaining column descriptions can be found [here](https://www.kaggle.com/lava18/google-play-store-apps)"
   ]
  },
  {
   "cell_type": "markdown",
   "metadata": {},
   "source": [
    "### 2. Deleting Incorrect Data"
   ]
  },
  {
   "cell_type": "markdown",
   "metadata": {},
   "source": [
    "The Google Play [discussion forum for this data set](https://www.kaggle.com/lava18/google-play-store-apps/discussion) mentions a row with incorrect data [](https://www.kaggle.com/lava18/google-play-store-apps/discussion/164101) "
   ]
  },
  {
   "cell_type": "code",
   "execution_count": 5,
   "metadata": {},
   "outputs": [
    {
     "name": "stdout",
     "output_type": "stream",
     "text": [
      "['App', 'Category', 'Rating', 'Reviews', 'Size', 'Installs', 'Type', 'Price', 'Content Rating', 'Genres', 'Last Updated', 'Current Ver', 'Android Ver']\n",
      "\n",
      "\n",
      "['Life Made WI-Fi Touchscreen Photo Frame', '1.9', '19', '3.0M', '1,000+', 'Free', '0', 'Everyone', '', 'February 11, 2018', '1.0.19', '4.0 and up']\n",
      "\n",
      "\n",
      "['Photo Editor & Candy Camera & Grid & ScrapBook', 'ART_AND_DESIGN', '4.1', '159', '19M', '10,000+', 'Free', '0', 'Everyone', 'Art & Design', 'January 7, 2018', '1.0.0', '4.0.3 and up']\n",
      "\n",
      "\n",
      "['Coloring book moana', 'ART_AND_DESIGN', '3.9', '967', '14M', '500,000+', 'Free', '0', 'Everyone', 'Art & Design;Pretend Play', 'January 15, 2018', '2.0.0', '4.0.3 and up']\n"
     ]
    }
   ],
   "source": [
    "print(google_header) # header row\n",
    "print('\\n')\n",
    "print(google_data[10472]) # incorrect row\n",
    "print('\\n')\n",
    "print(google_data[0]) # correct row\n",
    "print('\\n')\n",
    "print(google_data[1]) # correct  row"
   ]
  },
  {
   "cell_type": "markdown",
   "metadata": {},
   "source": [
    "The incorrect row is missing the Category. Every value after has moved one column to the left.\n",
    "\n",
    "The cell below deletes the incorrect row and checks the length to make sure it was deleted"
   ]
  },
  {
   "cell_type": "code",
   "execution_count": 6,
   "metadata": {},
   "outputs": [
    {
     "name": "stdout",
     "output_type": "stream",
     "text": [
      "10841\n",
      "10840\n"
     ]
    }
   ],
   "source": [
    "print(len(google_data))\n",
    "del google_data[10472]\n",
    "print(len(google_data))"
   ]
  },
  {
   "cell_type": "markdown",
   "metadata": {},
   "source": [
    "### 3. Duplicates"
   ]
  },
  {
   "cell_type": "code",
   "execution_count": 7,
   "metadata": {},
   "outputs": [
    {
     "name": "stdout",
     "output_type": "stream",
     "text": [
      "['App', 'Category', 'Rating', 'Reviews', 'Size', 'Installs', 'Type', 'Price', 'Content Rating', 'Genres', 'Last Updated', 'Current Ver', 'Android Ver']\n",
      "\n",
      "\n",
      "['Instagram', 'SOCIAL', '4.5', '66577313', 'Varies with device', '1,000,000,000+', 'Free', '0', 'Teen', 'Social', 'July 31, 2018', 'Varies with device', 'Varies with device']\n",
      "\n",
      "\n",
      "['Instagram', 'SOCIAL', '4.5', '66577446', 'Varies with device', '1,000,000,000+', 'Free', '0', 'Teen', 'Social', 'July 31, 2018', 'Varies with device', 'Varies with device']\n",
      "\n",
      "\n",
      "['Instagram', 'SOCIAL', '4.5', '66577313', 'Varies with device', '1,000,000,000+', 'Free', '0', 'Teen', 'Social', 'July 31, 2018', 'Varies with device', 'Varies with device']\n",
      "\n",
      "\n",
      "['Instagram', 'SOCIAL', '4.5', '66509917', 'Varies with device', '1,000,000,000+', 'Free', '0', 'Teen', 'Social', 'July 31, 2018', 'Varies with device', 'Varies with device']\n",
      "\n",
      "\n"
     ]
    }
   ],
   "source": [
    "# this shows that Instagram has 4 entries\n",
    "\n",
    "print(google_header)\n",
    "print('\\n')\n",
    "for app in google_data:\n",
    "    if app[0] == 'Instagram':\n",
    "        print(app)\n",
    "        print('\\n')"
   ]
  },
  {
   "cell_type": "code",
   "execution_count": 8,
   "metadata": {},
   "outputs": [
    {
     "name": "stdout",
     "output_type": "stream",
     "text": [
      "Number of duplicate apps: 1181\n",
      "Number of unique apps: 9659\n"
     ]
    }
   ],
   "source": [
    "duplicate_apps = []\n",
    "unique_apps = []\n",
    "\n",
    "for app in google_data:\n",
    "    app_name = app[0]\n",
    "    if app_name in unique_apps:\n",
    "        duplicate_apps.append(app_name)\n",
    "    else:\n",
    "        unique_apps.append(app_name)\n",
    "\n",
    "print('Number of duplicate apps:', len(duplicate_apps))\n",
    "print('Number of unique apps:', len(unique_apps))"
   ]
  },
  {
   "cell_type": "code",
   "execution_count": 9,
   "metadata": {},
   "outputs": [
    {
     "name": "stdout",
     "output_type": "stream",
     "text": [
      "['66577313', '66577446', '66577313', '66509917']\n",
      "66577446\n"
     ]
    }
   ],
   "source": [
    "# taking a closer look at the third index 'Reviews'\n",
    "# the latest record must be the one with the highest number of reviews\n",
    "\n",
    "instagram_reviews = []\n",
    "for app in google_data:\n",
    "    if app[0] == 'Instagram':\n",
    "        instagram_reviews.append(app[3])\n",
    "print(instagram_reviews)\n",
    "print(max(instagram_reviews))"
   ]
  },
  {
   "cell_type": "code",
   "execution_count": 10,
   "metadata": {},
   "outputs": [
    {
     "name": "stdout",
     "output_type": "stream",
     "text": [
      "9659\n"
     ]
    }
   ],
   "source": [
    "# create a dictionary\n",
    "# loop through the google data to create entries in the dictionary with the highest reviews\n",
    "\n",
    "reviews_max = {}\n",
    "for app in google_data:\n",
    "    name = app[0]\n",
    "    n_reviews = float(app[3])\n",
    "    if name not in reviews_max or name in reviews_max and reviews_max[name] < n_reviews:\n",
    "        reviews_max[name] = n_reviews\n",
    "print(len(reviews_max))"
   ]
  },
  {
   "cell_type": "code",
   "execution_count": 11,
   "metadata": {},
   "outputs": [
    {
     "name": "stdout",
     "output_type": "stream",
     "text": [
      "['Photo Editor & Candy Camera & Grid & ScrapBook', 'ART_AND_DESIGN', '4.1', '159', '19M', '10,000+', 'Free', '0', 'Everyone', 'Art & Design', 'January 7, 2018', '1.0.0', '4.0.3 and up']\n",
      "\n",
      "\n",
      "['U Launcher Lite – FREE Live Cool Themes, Hide Apps', 'ART_AND_DESIGN', '4.7', '87510', '8.7M', '5,000,000+', 'Free', '0', 'Everyone', 'Art & Design', 'August 1, 2018', '1.2.4', '4.0.3 and up']\n",
      "\n",
      "\n",
      "['Sketch - Draw & Paint', 'ART_AND_DESIGN', '4.5', '215644', '25M', '50,000,000+', 'Free', '0', 'Teen', 'Art & Design', 'June 8, 2018', 'Varies with device', '4.2 and up']\n",
      "\n",
      "\n",
      "['Pixel Draw - Number Art Coloring Book', 'ART_AND_DESIGN', '4.3', '967', '2.8M', '100,000+', 'Free', '0', 'Everyone', 'Art & Design;Creativity', 'June 20, 2018', '1.1', '4.4 and up']\n",
      "\n",
      "\n",
      "Number of rows: 9659\n",
      "Number of columns: 13\n"
     ]
    }
   ],
   "source": [
    "# use the dictionary to create a list of unique apps by the highest number of reviews\n",
    "\n",
    "google_clean = []\n",
    "already_added = []\n",
    "\n",
    "for app in google_data:\n",
    "    name = app[0]\n",
    "    n_reviews = float(app[3])\n",
    "    if (n_reviews == reviews_max[name]) and (name not in already_added):\n",
    "        google_clean.append(app)\n",
    "        already_added.append(name)\n",
    "explore_data(google_clean, 0, 4, rows_and_columns=True)"
   ]
  },
  {
   "cell_type": "code",
   "execution_count": 12,
   "metadata": {},
   "outputs": [
    {
     "name": "stdout",
     "output_type": "stream",
     "text": [
      "0\n",
      "7197\n",
      "7197\n"
     ]
    }
   ],
   "source": [
    "# check for duplicates in the apple data\n",
    "\n",
    "apple_duplicates = []\n",
    "apple_unique = []\n",
    "\n",
    "for app in apple_data:\n",
    "    id = app[0]\n",
    "    if id in apple_unique:\n",
    "        apple_duplicates.append(id)\n",
    "    else:\n",
    "        apple_unique.append(id)\n",
    "print(len(apple_duplicates))\n",
    "print(len(apple_unique))\n",
    "print(len(apple_data))"
   ]
  },
  {
   "cell_type": "markdown",
   "metadata": {},
   "source": [
    "No duplicates found in the apple data"
   ]
  },
  {
   "cell_type": "markdown",
   "metadata": {},
   "source": [
    "### Remove Non-English Apps\n",
    "\n",
    "According to the ASCII system, english characters have an ASCII code of between 1 - 127. For this project we will assume that any app name with more than 3 ASCII character codes above 127 is a non-english app."
   ]
  },
  {
   "cell_type": "code",
   "execution_count": 13,
   "metadata": {},
   "outputs": [
    {
     "name": "stdout",
     "output_type": "stream",
     "text": [
      "True\n",
      "False\n",
      "True\n",
      "True\n"
     ]
    }
   ],
   "source": [
    "# function to check each character in string for its ASCII code\n",
    "# only strings with 3 or less codes above 127 will return True\n",
    "\n",
    "def check_english(string):\n",
    "    count_non_english = 0\n",
    "    for character in string:\n",
    "        if ord(character) > 127:\n",
    "            count_non_english += 1\n",
    "    if count_non_english > 3:\n",
    "        return False\n",
    "    else:\n",
    "        return True\n",
    "\n",
    "print(check_english('Instagram'))  \n",
    "print(check_english('爱奇艺PPS -《欢乐颂2》电视剧热播'))\n",
    "print(check_english('Docs To Go™ Free Office Suite'))\n",
    "print(check_english('Instachat 😜'))"
   ]
  },
  {
   "cell_type": "code",
   "execution_count": 14,
   "metadata": {},
   "outputs": [
    {
     "name": "stdout",
     "output_type": "stream",
     "text": [
      "['284882215', 'Facebook', '389879808', 'USD', '0.0', '2974676', '212', '3.5', '3.5', '95.0', '4+', 'Social Networking', '37', '1', '29', '1']\n",
      "\n",
      "\n",
      "['389801252', 'Instagram', '113954816', 'USD', '0.0', '2161558', '1289', '4.5', '4.0', '10.23', '12+', 'Photo & Video', '37', '0', '29', '1']\n",
      "\n",
      "\n",
      "['529479190', 'Clash of Clans', '116476928', 'USD', '0.0', '2130805', '579', '4.5', '4.5', '9.24.12', '9+', 'Games', '38', '5', '18', '1']\n",
      "\n",
      "\n",
      "['420009108', 'Temple Run', '65921024', 'USD', '0.0', '1724546', '3842', '4.5', '4.0', '1.6.2', '9+', 'Games', '40', '5', '1', '1']\n",
      "\n",
      "\n",
      "Number of rows: 6183\n",
      "Number of columns: 16\n",
      "\n",
      "\n",
      "['Photo Editor & Candy Camera & Grid & ScrapBook', 'ART_AND_DESIGN', '4.1', '159', '19M', '10,000+', 'Free', '0', 'Everyone', 'Art & Design', 'January 7, 2018', '1.0.0', '4.0.3 and up']\n",
      "\n",
      "\n",
      "['U Launcher Lite – FREE Live Cool Themes, Hide Apps', 'ART_AND_DESIGN', '4.7', '87510', '8.7M', '5,000,000+', 'Free', '0', 'Everyone', 'Art & Design', 'August 1, 2018', '1.2.4', '4.0.3 and up']\n",
      "\n",
      "\n",
      "['Sketch - Draw & Paint', 'ART_AND_DESIGN', '4.5', '215644', '25M', '50,000,000+', 'Free', '0', 'Teen', 'Art & Design', 'June 8, 2018', 'Varies with device', '4.2 and up']\n",
      "\n",
      "\n",
      "['Pixel Draw - Number Art Coloring Book', 'ART_AND_DESIGN', '4.3', '967', '2.8M', '100,000+', 'Free', '0', 'Everyone', 'Art & Design;Creativity', 'June 20, 2018', '1.1', '4.4 and up']\n",
      "\n",
      "\n",
      "Number of rows: 9614\n",
      "Number of columns: 13\n"
     ]
    }
   ],
   "source": [
    "# create an apple data list and google data list of apps we have defined as english\n",
    "# using the function in the cell above\n",
    "apple_english = []\n",
    "google_english = []\n",
    "\n",
    "for app in apple_data:\n",
    "    if check_english(app[1]) == True:\n",
    "        apple_english.append(app)\n",
    "\n",
    "for app in google_clean:\n",
    "    if check_english(app[0]) == True:\n",
    "        google_english.append(app)\n",
    "\n",
    "explore_data(apple_english, 0, 4, rows_and_columns=True)\n",
    "print('\\n')\n",
    "explore_data(google_english, 0, 4, rows_and_columns=True)"
   ]
  },
  {
   "cell_type": "markdown",
   "metadata": {},
   "source": [
    "### Isolating the Free Apps"
   ]
  },
  {
   "cell_type": "code",
   "execution_count": 15,
   "metadata": {},
   "outputs": [
    {
     "name": "stdout",
     "output_type": "stream",
     "text": [
      "3222\n",
      "8863\n"
     ]
    }
   ],
   "source": [
    "apple_final_clean = []\n",
    "google_final_clean = []\n",
    "\n",
    "for app in apple_english:\n",
    "    if app[4] == '0.0':\n",
    "        apple_final_clean.append(app)\n",
    "        \n",
    "for app in google_english:\n",
    "    if app[6] == 'Free':\n",
    "        google_final_clean.append(app)\n",
    "        \n",
    "print(len(apple_final_clean))\n",
    "print(len(google_final_clean))"
   ]
  },
  {
   "cell_type": "markdown",
   "metadata": {},
   "source": [
    "### Finding The Most Common Apps by Genre"
   ]
  },
  {
   "cell_type": "markdown",
   "metadata": {},
   "source": [
    "This analysis will be used to build an app that will eventually be released on both the Google Play Store and the Apple Store.\n",
    "\n",
    "Therefore, an analysis of both the apple and google markets is necessary."
   ]
  },
  {
   "cell_type": "code",
   "execution_count": 16,
   "metadata": {},
   "outputs": [
    {
     "name": "stdout",
     "output_type": "stream",
     "text": [
      "['id', 'track_name', 'size_bytes', 'currency', 'price', 'rating_count_tot', 'rating_count_ver', 'user_rating', 'user_rating_ver', 'ver', 'cont_rating', 'prime_genre', 'sup_devices.num', 'ipadSc_urls.num', 'lang.num', 'vpp_lic']\n",
      "\n",
      "\n",
      "['App', 'Category', 'Rating', 'Reviews', 'Size', 'Installs', 'Type', 'Price', 'Content Rating', 'Genres', 'Last Updated', 'Current Ver', 'Android Ver']\n"
     ]
    }
   ],
   "source": [
    "print(apple_header)\n",
    "print('\\n')\n",
    "print(google_header)"
   ]
  },
  {
   "cell_type": "markdown",
   "metadata": {},
   "source": [
    "##### Create frequncey tables to determine the most common genres\n",
    "\n",
    "From the Apple data, use the columns **prime_genre** \n",
    "\n",
    "From the Google data, use the columns **Category** and **Genres**"
   ]
  },
  {
   "cell_type": "code",
   "execution_count": 17,
   "metadata": {},
   "outputs": [],
   "source": [
    "# the freq_table function creates a dictionary with column values as the key and their frequencies as the key value\n",
    "# finally it returns a dictionary with percentages as the frequency\n",
    "\n",
    "def freq_table(dataset, index):\n",
    "    table = {}\n",
    "    total = 0\n",
    "    \n",
    "    for row in dataset:\n",
    "        total += 1\n",
    "        value = row[index]\n",
    "        if value in table:\n",
    "            table[value] += 1\n",
    "        else:\n",
    "            table[value] = 1\n",
    "    \n",
    "    table_percentages = {}\n",
    "    for key in table:\n",
    "        percentage = (table[key] / total) * 100\n",
    "        table_percentages[key] = percentage\n",
    "\n",
    "    return table_percentages\n",
    "\n",
    "# the display_table function uses the freq_table function to convert the percentages dictionary\n",
    "# to a tuple within a list so that it can be sorted\n",
    "# finally it prints the columns values by frequency in descending order\n",
    "\n",
    "def display_table(dataset, index):\n",
    "    table = freq_table(dataset, index)\n",
    "    table_display = []\n",
    "    for key in table:\n",
    "        key_val_as_tuple = (table[key], key)\n",
    "        table_display.append(key_val_as_tuple)\n",
    "        \n",
    "    table_sorted = sorted(table_display, reverse = True)\n",
    "    for entry in table_sorted:\n",
    "        print(entry[1], ':', entry[0])"
   ]
  },
  {
   "cell_type": "code",
   "execution_count": 18,
   "metadata": {},
   "outputs": [
    {
     "name": "stdout",
     "output_type": "stream",
     "text": [
      "Games : 58.16263190564867\n",
      "Entertainment : 7.883302296710118\n",
      "Photo & Video : 4.9658597144630665\n",
      "Education : 3.662321539416512\n",
      "Social Networking : 3.2898820608317814\n",
      "Shopping : 2.60707635009311\n",
      "Utilities : 2.5139664804469275\n",
      "Sports : 2.1415270018621975\n",
      "Music : 2.0484171322160147\n",
      "Health & Fitness : 2.0173805090006205\n",
      "Productivity : 1.7380509000620732\n",
      "Lifestyle : 1.5828677839851024\n",
      "News : 1.3345747982619491\n",
      "Travel : 1.2414649286157666\n",
      "Finance : 1.1173184357541899\n",
      "Weather : 0.8690254500310366\n",
      "Food & Drink : 0.8069522036002483\n",
      "Reference : 0.5586592178770949\n",
      "Business : 0.5276225946617008\n",
      "Book : 0.4345127250155183\n",
      "Navigation : 0.186219739292365\n",
      "Medical : 0.186219739292365\n",
      "Catalogs : 0.12414649286157665\n"
     ]
    }
   ],
   "source": [
    "# apple store 'prime_genre' column\n",
    "# frequency of apps by genre as percentage \n",
    "\n",
    "display_table(apple_final_clean, -5)"
   ]
  },
  {
   "cell_type": "markdown",
   "metadata": {},
   "source": [
    "Approximately 78% of Apps in the Apple Store are based on a 'fun' element coming from the genres: \n",
    "\n",
    "* Games \n",
    "* Entertainment \n",
    "* Photo & Video\n",
    "* Social Networking\n",
    "* Sports\n",
    "* Music\n",
    "\n",
    "This doesn't imply they have the most users."
   ]
  },
  {
   "cell_type": "code",
   "execution_count": 19,
   "metadata": {},
   "outputs": [
    {
     "name": "stdout",
     "output_type": "stream",
     "text": [
      "FAMILY : 18.898792733837304\n",
      "GAME : 9.725826469592688\n",
      "TOOLS : 8.462146000225657\n",
      "BUSINESS : 4.592124562789123\n",
      "LIFESTYLE : 3.9038700214374367\n",
      "PRODUCTIVITY : 3.8925871601038025\n",
      "FINANCE : 3.7007785174320205\n",
      "MEDICAL : 3.5315355974275078\n",
      "SPORTS : 3.396141261423897\n",
      "PERSONALIZATION : 3.317161232088458\n",
      "COMMUNICATION : 3.2381812027530184\n",
      "HEALTH_AND_FITNESS : 3.0802211440821394\n",
      "PHOTOGRAPHY : 2.944826808078529\n",
      "NEWS_AND_MAGAZINES : 2.798149610741284\n",
      "SOCIAL : 2.6627552747376737\n",
      "TRAVEL_AND_LOCAL : 2.335552296062281\n",
      "SHOPPING : 2.245289405393208\n",
      "BOOKS_AND_REFERENCE : 2.1437436533904997\n",
      "DATING : 1.8616721200496444\n",
      "VIDEO_PLAYERS : 1.7939749520478394\n",
      "MAPS_AND_NAVIGATION : 1.399074805370642\n",
      "FOOD_AND_DRINK : 1.241114746699763\n",
      "EDUCATION : 1.1621347173643235\n",
      "ENTERTAINMENT : 0.9590432133589079\n",
      "LIBRARIES_AND_DEMO : 0.9364774906916393\n",
      "AUTO_AND_VEHICLES : 0.9251946293580051\n",
      "HOUSE_AND_HOME : 0.8236488773552973\n",
      "WEATHER : 0.8010831546880289\n",
      "EVENTS : 0.7108202640189552\n",
      "PARENTING : 0.6544059573507841\n",
      "ART_AND_DESIGN : 0.6431230960171499\n",
      "COMICS : 0.6205573733498815\n",
      "BEAUTY : 0.5979916506826132\n"
     ]
    }
   ],
   "source": [
    "# google store 'category' column\n",
    "# frequency of apps by category as percentage\n",
    "\n",
    "display_table(google_final_clean, 1)"
   ]
  },
  {
   "cell_type": "markdown",
   "metadata": {},
   "source": [
    "The most common genres are different in the Google Play Store than the Apple Store. The Family category is mainly kids games so grouping it into apps that are based on a 'fun' element, the following categories sum to approximately 37%.\n",
    "\n",
    "* Family\n",
    "* Game\n",
    "* Sports\n",
    "* Photography\n",
    "* Social\n",
    "\n",
    "The following categories have a more practical element. They account for approximately 47%.\n",
    "\n",
    "* Tools\n",
    "* Business\n",
    "* Lifestyle\n",
    "* Productivity\n",
    "* Finance\n",
    "* Medical\n",
    "* Personalization\n",
    "* Communication\n",
    "* Health and fitness\n",
    "* Photograpthy\n",
    "* News and Magazines\n",
    "* Travel and Local\n",
    "* Shopping\n",
    "* Books and Reference"
   ]
  },
  {
   "cell_type": "code",
   "execution_count": 20,
   "metadata": {},
   "outputs": [
    {
     "name": "stdout",
     "output_type": "stream",
     "text": [
      "Tools : 8.450863138892023\n",
      "Entertainment : 6.070179397495204\n",
      "Education : 5.348076272142616\n",
      "Business : 4.592124562789123\n",
      "Productivity : 3.8925871601038025\n",
      "Lifestyle : 3.8925871601038025\n",
      "Finance : 3.7007785174320205\n",
      "Medical : 3.5315355974275078\n",
      "Sports : 3.463838429425702\n",
      "Personalization : 3.317161232088458\n",
      "Communication : 3.2381812027530184\n",
      "Action : 3.102786866749408\n",
      "Health & Fitness : 3.0802211440821394\n",
      "Photography : 2.944826808078529\n",
      "News & Magazines : 2.798149610741284\n",
      "Social : 2.6627552747376737\n",
      "Travel & Local : 2.324269434728647\n",
      "Shopping : 2.245289405393208\n",
      "Books & Reference : 2.1437436533904997\n",
      "Simulation : 2.042197901387792\n",
      "Dating : 1.8616721200496444\n",
      "Arcade : 1.8503892587160102\n",
      "Video Players & Editors : 1.771409229380571\n",
      "Casual : 1.7601263680469368\n",
      "Maps & Navigation : 1.399074805370642\n",
      "Food & Drink : 1.241114746699763\n",
      "Puzzle : 1.128286133363421\n",
      "Racing : 0.9928917973598104\n",
      "Role Playing : 0.9364774906916393\n",
      "Libraries & Demo : 0.9364774906916393\n",
      "Auto & Vehicles : 0.9251946293580051\n",
      "Strategy : 0.9026289066907368\n",
      "House & Home : 0.8236488773552973\n",
      "Weather : 0.8010831546880289\n",
      "Events : 0.7108202640189552\n",
      "Adventure : 0.6769716800180525\n",
      "Comics : 0.6092745120162473\n",
      "Beauty : 0.5979916506826132\n",
      "Art & Design : 0.5979916506826132\n",
      "Parenting : 0.4964458986799052\n",
      "Card : 0.4513144533453684\n",
      "Casino : 0.42874873067809993\n",
      "Trivia : 0.4174658693444658\n",
      "Educational;Education : 0.3949001466771973\n",
      "Board : 0.38361728534356315\n",
      "Educational : 0.37233442400992894\n",
      "Education;Education : 0.33848584000902626\n",
      "Word : 0.25950581067358686\n",
      "Casual;Pretend Play : 0.2369400880063184\n",
      "Music : 0.20309150400541578\n",
      "Racing;Action & Adventure : 0.16924292000451313\n",
      "Puzzle;Brain Games : 0.16924292000451313\n",
      "Entertainment;Music & Video : 0.16924292000451313\n",
      "Casual;Brain Games : 0.1353943360036105\n",
      "Casual;Action & Adventure : 0.1353943360036105\n",
      "Arcade;Action & Adventure : 0.1241114746699763\n",
      "Action;Action & Adventure : 0.10154575200270789\n",
      "Educational;Pretend Play : 0.09026289066907367\n",
      "Simulation;Action & Adventure : 0.07898002933543948\n",
      "Parenting;Education : 0.07898002933543948\n",
      "Entertainment;Brain Games : 0.07898002933543948\n",
      "Board;Brain Games : 0.07898002933543948\n",
      "Parenting;Music & Video : 0.06769716800180525\n",
      "Educational;Brain Games : 0.06769716800180525\n",
      "Casual;Creativity : 0.06769716800180525\n",
      "Art & Design;Creativity : 0.06769716800180525\n",
      "Education;Pretend Play : 0.05641430666817105\n",
      "Role Playing;Pretend Play : 0.045131445334536835\n",
      "Education;Creativity : 0.045131445334536835\n",
      "Role Playing;Action & Adventure : 0.033848584000902626\n",
      "Puzzle;Action & Adventure : 0.033848584000902626\n",
      "Entertainment;Creativity : 0.033848584000902626\n",
      "Entertainment;Action & Adventure : 0.033848584000902626\n",
      "Educational;Creativity : 0.033848584000902626\n",
      "Educational;Action & Adventure : 0.033848584000902626\n",
      "Education;Music & Video : 0.033848584000902626\n",
      "Education;Brain Games : 0.033848584000902626\n",
      "Education;Action & Adventure : 0.033848584000902626\n",
      "Adventure;Action & Adventure : 0.033848584000902626\n",
      "Video Players & Editors;Music & Video : 0.022565722667268417\n",
      "Sports;Action & Adventure : 0.022565722667268417\n",
      "Simulation;Pretend Play : 0.022565722667268417\n",
      "Puzzle;Creativity : 0.022565722667268417\n",
      "Music;Music & Video : 0.022565722667268417\n",
      "Entertainment;Pretend Play : 0.022565722667268417\n",
      "Casual;Education : 0.022565722667268417\n",
      "Board;Action & Adventure : 0.022565722667268417\n",
      "Video Players & Editors;Creativity : 0.011282861333634209\n",
      "Trivia;Education : 0.011282861333634209\n",
      "Travel & Local;Action & Adventure : 0.011282861333634209\n",
      "Tools;Education : 0.011282861333634209\n",
      "Strategy;Education : 0.011282861333634209\n",
      "Strategy;Creativity : 0.011282861333634209\n",
      "Strategy;Action & Adventure : 0.011282861333634209\n",
      "Simulation;Education : 0.011282861333634209\n",
      "Role Playing;Brain Games : 0.011282861333634209\n",
      "Racing;Pretend Play : 0.011282861333634209\n",
      "Puzzle;Education : 0.011282861333634209\n",
      "Parenting;Brain Games : 0.011282861333634209\n",
      "Music & Audio;Music & Video : 0.011282861333634209\n",
      "Lifestyle;Pretend Play : 0.011282861333634209\n",
      "Lifestyle;Education : 0.011282861333634209\n",
      "Health & Fitness;Education : 0.011282861333634209\n",
      "Health & Fitness;Action & Adventure : 0.011282861333634209\n",
      "Entertainment;Education : 0.011282861333634209\n",
      "Communication;Creativity : 0.011282861333634209\n",
      "Comics;Creativity : 0.011282861333634209\n",
      "Casual;Music & Video : 0.011282861333634209\n",
      "Card;Action & Adventure : 0.011282861333634209\n",
      "Books & Reference;Education : 0.011282861333634209\n",
      "Art & Design;Pretend Play : 0.011282861333634209\n",
      "Art & Design;Action & Adventure : 0.011282861333634209\n",
      "Arcade;Pretend Play : 0.011282861333634209\n",
      "Adventure;Education : 0.011282861333634209\n"
     ]
    }
   ],
   "source": [
    "# google store 'genres' column\n",
    "# frequency of apps by genre as percentage\n",
    "\n",
    "display_table(google_final_clean, -4)"
   ]
  },
  {
   "cell_type": "markdown",
   "metadata": {},
   "source": [
    "The Genres column from the google data splits categories further. Moving forward we'll use the Category column to give a broader overview."
   ]
  },
  {
   "cell_type": "markdown",
   "metadata": {},
   "source": [
    "### Finding the Most Popular Apps by Genre\n",
    "\n",
    "We will do this by calculating average installs for each genre. For the Google data we can use the column 'Installs'. For the apple data we'll have to use the number of ratings from the 'rating_count_tot' column since there is no 'installs' data.\n",
    "\n",
    "##### Apple Store Data"
   ]
  },
  {
   "cell_type": "code",
   "execution_count": 21,
   "metadata": {},
   "outputs": [
    {
     "name": "stdout",
     "output_type": "stream",
     "text": [
      "Social Networking : 71548\n",
      "Photo & Video : 28442\n",
      "Games : 22789\n",
      "Music : 57327\n",
      "Reference : 74942\n",
      "Health & Fitness : 23298\n",
      "Weather : 52280\n",
      "Utilities : 18684\n",
      "Travel : 28244\n",
      "Shopping : 26920\n",
      "News : 21248\n",
      "Navigation : 86090\n",
      "Lifestyle : 16486\n",
      "Entertainment : 14030\n",
      "Food & Drink : 33334\n",
      "Sports : 23009\n",
      "Book : 39758\n",
      "Finance : 31468\n",
      "Education : 7004\n",
      "Productivity : 21028\n",
      "Business : 7491\n",
      "Catalogs : 4004\n",
      "Medical : 612\n"
     ]
    }
   ],
   "source": [
    "apple_genres = freq_table(apple_final_clean, 11)\n",
    "\n",
    "genre_freq = {}\n",
    "\n",
    "# generates an average amount of ratings for each genre\n",
    "for genre in apple_genres:\n",
    "    total = 0\n",
    "    len_genre = 0\n",
    "    for app in apple_final_clean:\n",
    "        genre_app = app[11]\n",
    "        if genre_app == genre:\n",
    "            n_ratings = float(app[5])\n",
    "            total += n_ratings\n",
    "            len_genre += 1\n",
    "    avg_n_ratings = total / len_genre\n",
    "    genre_freq[genre] = round(avg_n_ratings)\n",
    "    print(genre, ':', round(avg_n_ratings))"
   ]
  },
  {
   "cell_type": "code",
   "execution_count": 22,
   "metadata": {},
   "outputs": [
    {
     "data": {
      "text/plain": [
       "[('Navigation', 86090),\n",
       " ('Reference', 74942),\n",
       " ('Social Networking', 71548),\n",
       " ('Music', 57327),\n",
       " ('Weather', 52280)]"
      ]
     },
     "execution_count": 22,
     "metadata": {},
     "output_type": "execute_result"
    }
   ],
   "source": [
    "# top 5 genres by average number of ratings given\n",
    "sorted(genre_freq.items(), key=lambda x: x[1], reverse=True)[:5]"
   ]
  },
  {
   "cell_type": "markdown",
   "metadata": {},
   "source": [
    "The top 5 most popular apps by genre and their average number of ratings are;\n",
    "\n",
    "1. Navigation : 86090\n",
    "2. Reference : 74942\n",
    "3. Social Networking : 71548\n",
    "4. Music : 57327\n",
    "5. Weather : 52280"
   ]
  },
  {
   "cell_type": "code",
   "execution_count": 23,
   "metadata": {},
   "outputs": [
    {
     "name": "stdout",
     "output_type": "stream",
     "text": [
      "Navigation : 6\n",
      "Reference : 18\n",
      "Social Networking : 106\n",
      "Music : 66\n",
      "Weather : 28\n"
     ]
    }
   ],
   "source": [
    "# generates the number of apps in each genre\n",
    "number_of_apps_in_genre = {}\n",
    "for app in apple_final_clean:\n",
    "    genre = app[11]\n",
    "    if genre in number_of_apps_in_genre:\n",
    "        number_of_apps_in_genre[genre] += 1\n",
    "    else:\n",
    "        number_of_apps_in_genre[genre] = 1\n",
    "print('Navigation', ':', number_of_apps_in_genre.get('Navigation'))\n",
    "print('Reference', ':', number_of_apps_in_genre.get('Reference'))\n",
    "print('Social Networking', ':', number_of_apps_in_genre.get('Social Networking'))\n",
    "print('Music', ':', number_of_apps_in_genre.get('Music'))\n",
    "print('Weather', ':', number_of_apps_in_genre.get('Weather'))"
   ]
  },
  {
   "cell_type": "code",
   "execution_count": 24,
   "metadata": {},
   "outputs": [
    {
     "name": "stdout",
     "output_type": "stream",
     "text": [
      "Waze - GPS Navigation, Maps & Real-time Traffic : 345046\n",
      "Google Maps - Navigation & Transit : 154911\n",
      "Geocaching® : 12811\n",
      "CoPilot GPS – Car Navigation & Offline Maps : 3582\n",
      "ImmobilienScout24: Real Estate Search in Germany : 187\n",
      "Railway Route Search : 5\n"
     ]
    }
   ],
   "source": [
    "# apps in the Navigation genre and a break down of the number of ratings given\n",
    "for app in apple_final_clean:\n",
    "    if app[11] == 'Navigation':\n",
    "        print(app[1], ':', app[5])"
   ]
  },
  {
   "cell_type": "markdown",
   "metadata": {},
   "source": [
    "There are only 6 apps in the Navigation genre. Two of those, Waze and google, dominate the market with approximately half a million reviews.  \n",
    "\n",
    "Therefore, it may be risky to develop an app in Navigation unless you have confidence in an innovative idea."
   ]
  },
  {
   "cell_type": "code",
   "execution_count": 25,
   "metadata": {},
   "outputs": [
    {
     "name": "stdout",
     "output_type": "stream",
     "text": [
      "Bible : 985920\n",
      "Dictionary.com Dictionary & Thesaurus : 200047\n",
      "Dictionary.com Dictionary & Thesaurus for iPad : 54175\n",
      "Google Translate : 26786\n",
      "Muslim Pro: Ramadan 2017 Prayer Times, Azan, Quran : 18418\n",
      "New Furniture Mods - Pocket Wiki & Game Tools for Minecraft PC Edition : 17588\n",
      "Merriam-Webster Dictionary : 16849\n",
      "Night Sky : 12122\n",
      "City Maps for Minecraft PE - The Best Maps for Minecraft Pocket Edition (MCPE) : 8535\n",
      "LUCKY BLOCK MOD ™ for Minecraft PC Edition - The Best Pocket Wiki & Mods Installer Tools : 4693\n",
      "GUNS MODS for Minecraft PC Edition - Mods Tools : 1497\n",
      "Guides for Pokémon GO - Pokemon GO News and Cheats : 826\n",
      "WWDC : 762\n",
      "Horror Maps for Minecraft PE - Download The Scariest Maps for Minecraft Pocket Edition (MCPE) Free : 718\n",
      "VPN Express : 14\n",
      "Real Bike Traffic Rider Virtual Reality Glasses : 8\n",
      "教えて!goo : 0\n",
      "Jishokun-Japanese English Dictionary & Translator : 0\n"
     ]
    }
   ],
   "source": [
    "# apps in the Reference genre and a break down of the number of ratings given\n",
    "for app in apple_final_clean:\n",
    "    if app[11] == 'Reference':\n",
    "        print(app[1], ':', app[5])"
   ]
  },
  {
   "cell_type": "markdown",
   "metadata": {},
   "source": [
    "The reference genre is not completely dominated by two or three apps but the dictionary and map type apps in this genre may not have users spending enough time in them to watch adds. "
   ]
  },
  {
   "cell_type": "code",
   "execution_count": 26,
   "metadata": {},
   "outputs": [
    {
     "name": "stdout",
     "output_type": "stream",
     "text": [
      "Facebook : 2974676\n",
      "Pinterest : 1061624\n",
      "Skype for iPhone : 373519\n",
      "Messenger : 351466\n",
      "Tumblr : 334293\n",
      "WhatsApp Messenger : 287589\n",
      "Kik : 260965\n",
      "ooVoo – Free Video Call, Text and Voice : 177501\n",
      "TextNow - Unlimited Text + Calls : 164963\n",
      "Viber Messenger – Text & Call : 164249\n",
      "Followers - Social Analytics For Instagram : 112778\n",
      "MeetMe - Chat and Meet New People : 97072\n",
      "We Heart It - Fashion, wallpapers, quotes, tattoos : 90414\n",
      "InsTrack for Instagram - Analytics Plus More : 85535\n",
      "Tango - Free Video Call, Voice and Chat : 75412\n",
      "LinkedIn : 71856\n",
      "Match™ - #1 Dating App. : 60659\n",
      "Skype for iPad : 60163\n",
      "POF - Best Dating App for Conversations : 52642\n",
      "Timehop : 49510\n",
      "Find My Family, Friends & iPhone - Life360 Locator : 43877\n",
      "Whisper - Share, Express, Meet : 39819\n",
      "Hangouts : 36404\n",
      "LINE PLAY - Your Avatar World : 34677\n",
      "WeChat : 34584\n",
      "Badoo - Meet New People, Chat, Socialize. : 34428\n",
      "Followers + for Instagram - Follower Analytics : 28633\n",
      "GroupMe : 28260\n",
      "Marco Polo Video Walkie Talkie : 27662\n",
      "Miitomo : 23965\n",
      "SimSimi : 23530\n",
      "Grindr - Gay and same sex guys chat, meet and date : 23201\n",
      "Wishbone - Compare Anything : 20649\n",
      "imo video calls and chat : 18841\n",
      "After School - Funny Anonymous School News : 18482\n",
      "Quick Reposter - Repost, Regram and Reshare Photos : 17694\n",
      "Weibo HD : 16772\n",
      "Repost for Instagram : 15185\n",
      "Live.me – Live Video Chat & Make Friends Nearby : 14724\n",
      "Nextdoor : 14402\n",
      "Followers Analytics for Instagram - InstaReport : 13914\n",
      "YouNow: Live Stream Video Chat : 12079\n",
      "FollowMeter for Instagram - Followers Tracking : 11976\n",
      "LINE : 11437\n",
      "eHarmony™ Dating App - Meet Singles : 11124\n"
     ]
    }
   ],
   "source": [
    "# apps in the Social Networking genre and a break down of the number of ratings given\n",
    "for app in apple_final_clean:\n",
    "    if (app[11] == 'Social Networking') and int(app[5]) > 10000:\n",
    "        print(app[1], ':', app[5])"
   ]
  },
  {
   "cell_type": "markdown",
   "metadata": {},
   "source": [
    "The Social Networking genre looks promising. There are a lot of apps with over 10000 reviews but the Social Networking genre might have made the top 5 most popular apps list due to a few apps with an extremely high number of reviews. \n",
    "\n",
    "The Music and Weather genre's below are similar to Social Networking, they have a few apps with a very high number of reviews."
   ]
  },
  {
   "cell_type": "code",
   "execution_count": 27,
   "metadata": {},
   "outputs": [
    {
     "name": "stdout",
     "output_type": "stream",
     "text": [
      "Pandora - Music & Radio : 1126879\n",
      "Spotify Music : 878563\n",
      "Shazam - Discover music, artists, videos & lyrics : 402925\n",
      "iHeartRadio – Free Music & Radio Stations : 293228\n",
      "SoundCloud - Music & Audio : 135744\n",
      "Magic Piano by Smule : 131695\n",
      "Smule Sing! : 119316\n",
      "TuneIn Radio - MLB NBA Audiobooks Podcasts Music : 110420\n",
      "Amazon Music : 106235\n",
      "SoundHound Song Search & Music Player : 82602\n",
      "Sonos Controller : 48905\n",
      "Bandsintown Concerts : 30845\n",
      "Karaoke - Sing Karaoke, Unlimited Songs! : 28606\n",
      "My Mixtapez Music : 26286\n",
      "Sing Karaoke Songs Unlimited with StarMaker : 26227\n",
      "Ringtones for iPhone & Ringtone Maker : 25403\n",
      "Musi - Unlimited Music For YouTube : 25193\n",
      "AutoRap by Smule : 18202\n",
      "Spinrilla - Mixtapes For Free : 15053\n",
      "Napster - Top Music & Radio : 14268\n",
      "edjing Mix:DJ turntable to remix and scratch music : 13580\n",
      "Free Music - MP3 Streamer & Playlist Manager Pro : 13443\n",
      "Free Piano app by Yokee : 13016\n",
      "Google Play Music : 10118\n"
     ]
    }
   ],
   "source": [
    "# apps in the Music genre and a break down of the number of ratings given\n",
    "for app in apple_final_clean:\n",
    "    if (app[11] == 'Music') and int(app[5]) > 10000:\n",
    "        print(app[1], ':', app[5])"
   ]
  },
  {
   "cell_type": "code",
   "execution_count": 28,
   "metadata": {},
   "outputs": [
    {
     "name": "stdout",
     "output_type": "stream",
     "text": [
      "The Weather Channel: Forecast, Radar & Alerts : 495626\n",
      "The Weather Channel App for iPad – best local forecast, radar map, and storm tracking : 208648\n",
      "WeatherBug - Local Weather, Radar, Maps, Alerts : 188583\n",
      "MyRadar NOAA Weather Radar Forecast : 150158\n",
      "AccuWeather - Weather for Life : 144214\n",
      "Yahoo Weather : 112603\n",
      "Weather Underground: Custom Forecast & Local Radar : 49192\n",
      "NOAA Weather Radar - Weather Forecast & HD Radar : 45696\n",
      "Weather Live Free - Weather Forecast & Alerts : 35702\n",
      "Storm Radar : 22792\n"
     ]
    }
   ],
   "source": [
    "# apps in the Weather genre and a break down of the number of ratings given\n",
    "for app in apple_final_clean:\n",
    "    if (app[11] == 'Weather') and int(app[5]) > 10000:\n",
    "        print(app[1], ':', app[5])"
   ]
  },
  {
   "cell_type": "markdown",
   "metadata": {},
   "source": [
    "From this analysis I would suggest a Social Networking app. This genre has apps that users spend a lot of time in when they are relaxing. They may be more likely to watch ads, and click through to ads in these apps rather than apps in the Navigation, Reference, Music and Weather genres where users are in the app for a purpose.\n",
    "\n",
    "##### Google Play Store Data"
   ]
  },
  {
   "cell_type": "code",
   "execution_count": 29,
   "metadata": {},
   "outputs": [
    {
     "name": "stdout",
     "output_type": "stream",
     "text": [
      "1,000,000+ : 15.728308699086089\n",
      "100,000+ : 11.55365000564143\n",
      "10,000,000+ : 10.549475346947986\n",
      "10,000+ : 10.199706645605326\n",
      "1,000+ : 8.394448832223853\n",
      "100+ : 6.916393997517771\n",
      "5,000,000+ : 6.826131106848697\n",
      "500,000+ : 5.562450637481666\n",
      "50,000+ : 4.772650344127271\n",
      "5,000+ : 4.513144533453684\n",
      "10+ : 3.542818458761142\n",
      "500+ : 3.2494640640866526\n",
      "50,000,000+ : 2.3017037120613786\n",
      "100,000,000+ : 2.1324607920568655\n",
      "50+ : 1.9180864267178157\n",
      "5+ : 0.7898002933543946\n",
      "1+ : 0.5077287600135394\n",
      "500,000,000+ : 0.270788672007221\n",
      "1,000,000,000+ : 0.2256572266726842\n",
      "0+ : 0.045131445334536835\n"
     ]
    }
   ],
   "source": [
    "# google store 'installs' column\n",
    "# frequency of apps by number of installs as percentage\n",
    "\n",
    "display_table(google_final_clean, 5)"
   ]
  },
  {
   "cell_type": "code",
   "execution_count": 30,
   "metadata": {},
   "outputs": [
    {
     "data": {
      "text/plain": [
       "[1000000000,\n",
       " 500000000,\n",
       " 100000000,\n",
       " 50000000,\n",
       " 10000000,\n",
       " 5000000,\n",
       " 1000000,\n",
       " 500000,\n",
       " 100000,\n",
       " 50000,\n",
       " 10000,\n",
       " 5000,\n",
       " 1000,\n",
       " 500,\n",
       " 100,\n",
       " 50,\n",
       " 10,\n",
       " 5,\n",
       " 1,\n",
       " 0]"
      ]
     },
     "execution_count": 30,
     "metadata": {},
     "output_type": "execute_result"
    }
   ],
   "source": [
    "# installs column values in descending order\n",
    "installs_values = []\n",
    "for value in google_final_clean:\n",
    "    n_installs = value[5]\n",
    "    n_installs = n_installs.replace('+', '')\n",
    "    n_installs = n_installs.replace(',', '')\n",
    "    n_installs = int(n_installs)\n",
    "    if n_installs not in installs_values:\n",
    "        installs_values.append(n_installs)\n",
    "sorted(installs_values, reverse=True)"
   ]
  },
  {
   "cell_type": "markdown",
   "metadata": {},
   "source": [
    "Since we only need an idea of which categories have the most users, we will use the installs column values to represent the actual number of installs, for instance, 5,000+ installs will represent 5000 installs and 100,000+ installs will represent 100,000 installs.\n",
    "\n",
    "Firstly, we will calculate the average amount of installs for each category."
   ]
  },
  {
   "cell_type": "code",
   "execution_count": 45,
   "metadata": {},
   "outputs": [
    {
     "name": "stdout",
     "output_type": "stream",
     "text": [
      "ART_AND_DESIGN : 1986335\n",
      "AUTO_AND_VEHICLES : 647318\n",
      "BEAUTY : 513152\n",
      "BOOKS_AND_REFERENCE : 8767812\n",
      "BUSINESS : 1712290\n",
      "COMICS : 817657\n",
      "COMMUNICATION : 38456119\n",
      "DATING : 854029\n",
      "EDUCATION : 1833495\n",
      "ENTERTAINMENT : 11640706\n",
      "EVENTS : 253542\n",
      "FINANCE : 1387692\n",
      "FOOD_AND_DRINK : 1924898\n",
      "HEALTH_AND_FITNESS : 4188822\n",
      "HOUSE_AND_HOME : 1331541\n",
      "LIBRARIES_AND_DEMO : 638504\n",
      "LIFESTYLE : 1437816\n",
      "GAME : 15588016\n",
      "FAMILY : 3697848\n",
      "MEDICAL : 120551\n",
      "SOCIAL : 23253652\n",
      "SHOPPING : 7036877\n",
      "PHOTOGRAPHY : 17840110\n",
      "SPORTS : 3638640\n",
      "TRAVEL_AND_LOCAL : 13984078\n",
      "TOOLS : 10801391\n",
      "PERSONALIZATION : 5201483\n",
      "PRODUCTIVITY : 16787331\n",
      "PARENTING : 542604\n",
      "WEATHER : 5074486\n",
      "VIDEO_PLAYERS : 24727872\n",
      "NEWS_AND_MAGAZINES : 9549178\n",
      "MAPS_AND_NAVIGATION : 4056942\n"
     ]
    }
   ],
   "source": [
    "google_category = freq_table(google_final_clean, 1)\n",
    "\n",
    "category_freq = {}\n",
    "\n",
    "#generates an average amount of installs for each category\n",
    "for category in google_category:\n",
    "    total = 0\n",
    "    len_category = 0\n",
    "    for row in google_final_clean:\n",
    "        category_app = row[1]\n",
    "        if category_app == category:\n",
    "            n_installs = row[5]\n",
    "            n_installs = n_installs.replace('+', '')\n",
    "            n_installs = n_installs.replace(',', '')\n",
    "            total += float(n_installs)\n",
    "            len_category += 1\n",
    "    avg_installs = total / len_category\n",
    "    category_freq[category] = round(avg_installs)\n",
    "    print(category, ':', round(avg_installs))"
   ]
  },
  {
   "cell_type": "code",
   "execution_count": 32,
   "metadata": {},
   "outputs": [
    {
     "data": {
      "text/plain": [
       "[('COMMUNICATION', 38456119),\n",
       " ('VIDEO_PLAYERS', 24727872),\n",
       " ('SOCIAL', 23253652),\n",
       " ('PHOTOGRAPHY', 17840110),\n",
       " ('PRODUCTIVITY', 16787331)]"
      ]
     },
     "execution_count": 32,
     "metadata": {},
     "output_type": "execute_result"
    }
   ],
   "source": [
    "# top 5 categories by average number of installs\n",
    "sorted(category_freq.items(), key=lambda i: i[1], reverse=True)[:5]"
   ]
  },
  {
   "cell_type": "code",
   "execution_count": 33,
   "metadata": {},
   "outputs": [
    {
     "name": "stdout",
     "output_type": "stream",
     "text": [
      "COMMUNICATION : 287\n",
      "VIDEO_PLAYERS : 159\n",
      "SOCIAL : 236\n",
      "PHOTOGRAPHY : 261\n",
      "PRODUCTIVITY : 345\n"
     ]
    }
   ],
   "source": [
    "# number of apps per category\n",
    "number_apps_per_category = {}\n",
    "for app in google_final_clean:\n",
    "    category = app[1]\n",
    "    if category in number_apps_per_category:\n",
    "        number_apps_per_category[category] += 1\n",
    "    else:\n",
    "        number_apps_per_category[category] = 1\n",
    "        \n",
    "print('COMMUNICATION', ':', number_apps_per_category.get('COMMUNICATION'))\n",
    "print('VIDEO_PLAYERS', ':', number_apps_per_category.get('VIDEO_PLAYERS'))\n",
    "print('SOCIAL', ':', number_apps_per_category.get('SOCIAL'))\n",
    "print('PHOTOGRAPHY', ':', number_apps_per_category.get('PHOTOGRAPHY'))\n",
    "print('PRODUCTIVITY', ':', number_apps_per_category.get('PRODUCTIVITY'))"
   ]
  },
  {
   "cell_type": "code",
   "execution_count": 34,
   "metadata": {},
   "outputs": [
    {
     "data": {
      "text/plain": [
       "{'WhatsApp Messenger': 1000000000,\n",
       " 'Messenger for SMS': 10000000,\n",
       " 'My Tele2': 5000000,\n",
       " 'imo beta free calls and text': 100000000,\n",
       " 'Contacts': 50000000,\n",
       " 'Call Free – Free Call': 5000000,\n",
       " 'Web Browser & Explorer': 5000000,\n",
       " 'Browser 4G': 10000000,\n",
       " 'MegaFon Dashboard': 10000000,\n",
       " 'ZenUI Dialer & Contacts': 10000000,\n",
       " 'Cricket Visual Voicemail': 10000000,\n",
       " 'TracFone My Account': 1000000,\n",
       " 'Xperia Link™': 10000000,\n",
       " 'TouchPal Keyboard - Fun Emoji & Android Keyboard': 10000000,\n",
       " 'Skype Lite - Free Video Call & Chat': 5000000,\n",
       " 'My magenta': 1000000,\n",
       " 'Android Messages': 100000000,\n",
       " 'Google Duo - High Quality Video Calls': 500000000,\n",
       " 'Seznam.cz': 1000000,\n",
       " 'Antillean Gold Telegram (original version)': 100000,\n",
       " 'AT&T Visual Voicemail': 10000000,\n",
       " 'GMX Mail': 10000000,\n",
       " 'Omlet Chat': 10000000,\n",
       " 'My Vodacom SA': 5000000,\n",
       " 'Microsoft Edge': 5000000,\n",
       " 'Messenger – Text and Video Chat for Free': 1000000000,\n",
       " 'imo free video calls and chat': 500000000,\n",
       " 'Calls & Text by Mo+': 5000000,\n",
       " 'free video calls and chat': 50000000,\n",
       " 'Skype - free IM & video calls': 1000000000,\n",
       " 'Who': 100000000,\n",
       " 'GO SMS Pro - Messenger, Free Themes, Emoji': 100000000,\n",
       " 'Messaging+ SMS, MMS Free': 1000000,\n",
       " 'chomp SMS': 10000000,\n",
       " 'Glide - Video Chat Messenger': 10000000,\n",
       " 'Text SMS': 10000000,\n",
       " 'Talkray - Free Calls & Texts': 10000000,\n",
       " 'LINE: Free Calls & Messages': 500000000,\n",
       " 'GroupMe': 10000000,\n",
       " 'mysms SMS Text Messaging Sync': 1000000,\n",
       " '2ndLine - Second Phone Number': 1000000,\n",
       " 'Google Chrome: Fast & Secure': 1000000000,\n",
       " 'Firefox Browser fast & private': 100000000,\n",
       " 'Ninesky Browser': 1000000,\n",
       " 'Dolphin Browser - Fast, Private & Adblock🐬': 50000000,\n",
       " 'UC Browser - Fast Download Private & Secure': 500000000,\n",
       " 'Ghostery Privacy Browser': 1000000,\n",
       " 'InBrowser - Incognito Browsing': 1000000,\n",
       " 'Lightning Web Browser': 500000,\n",
       " 'Web Browser': 500000,\n",
       " 'Contacts+': 10000000,\n",
       " 'ExDialer - Dialer & Contacts': 10000000,\n",
       " 'PHONE for Google Voice & GTalk': 1000000,\n",
       " 'Safest Call Blocker': 1000000,\n",
       " 'Full Screen Caller ID': 5000000,\n",
       " 'Hiya - Caller ID & Block': 10000000,\n",
       " 'Mr. Number-Block calls & spam': 10000000,\n",
       " 'Should I Answer?': 1000000,\n",
       " 'RocketDial Dialer & Contacts': 1000000,\n",
       " 'CIA - Caller ID & Call Blocker': 5000000,\n",
       " 'Calls Blacklist - Call Blocker': 10000000,\n",
       " 'Call Control - Call Blocker': 5000000,\n",
       " 'True Contact - Real Caller ID': 1000000,\n",
       " 'Video Caller Id': 1000000,\n",
       " 'Sync.ME – Caller ID & Block': 5000000,\n",
       " 'Burner - Free Phone Number': 1000000,\n",
       " 'Caller ID +': 1000000,\n",
       " 'Gmail': 1000000000,\n",
       " 'K-9 Mail': 5000000,\n",
       " 'myMail – Email for Hotmail, Gmail and Outlook Mail': 10000000,\n",
       " 'Email TypeApp - Mail App': 1000000,\n",
       " 'All Email Providers': 1000000,\n",
       " 'Newton Mail - Email App for Gmail, Outlook, IMAP': 1000000,\n",
       " 'GO Notifier': 10000000,\n",
       " 'Mail.Ru - Email App': 50000000,\n",
       " 'Daum Mail - Next Mail': 5000000,\n",
       " 'mail.com mail': 1000000,\n",
       " 'SolMail - All-in-One email app': 500000,\n",
       " 'Hangouts': 1000000000,\n",
       " 'Vonage Mobile® Call Video Text': 1000000,\n",
       " 'JusTalk - Free Video Calls and Fun Video Chat': 5000000,\n",
       " 'Azar': 50000000,\n",
       " 'LokLok: Draw on a Lock Screen': 500000,\n",
       " 'Discord - Chat for Gamers': 10000000,\n",
       " 'Messenger Lite: Free Calls & Messages': 100000000,\n",
       " 'AntennaPict β': 1000000,\n",
       " 'Talkatone: Free Texts, Calls & Phone Number': 10000000,\n",
       " 'Kik': 100000000,\n",
       " 'K-@ Mail - Email App': 100000,\n",
       " 'KakaoTalk: Free Calls & Text': 100000000,\n",
       " 'M star Dialer': 100000,\n",
       " 'Free WiFi Connect': 10000000,\n",
       " 'N-Com Wizard': 50000,\n",
       " 'Opera Mini - fast web browser': 100000000,\n",
       " 'Opera Browser: Fast and Secure': 100000000,\n",
       " 'Opera Mini browser beta': 10000000,\n",
       " 'Psiphon Pro - The Internet Freedom VPN': 10000000,\n",
       " 'ICQ — Video Calls & Chat Messenger': 10000000,\n",
       " 'Telegram': 100000000,\n",
       " 'AT&T Messages for Tablet': 1000000,\n",
       " 'T-Mobile DIGITS': 100000,\n",
       " 'Truecaller: Caller ID, SMS spam blocking & Dialer': 100000000,\n",
       " 'Portable Wi-Fi hotspot': 10000000,\n",
       " 'AT&T Call Protect': 5000000,\n",
       " 'U - Webinars, Meetings & Messenger': 500000,\n",
       " 'UC Browser Mini -Tiny Fast Private & Secure': 100000000,\n",
       " 'Viber Messenger': 500000000,\n",
       " 'WeChat': 100000000,\n",
       " 'WhatsApp Business': 10000000,\n",
       " 'WhatsCall Free Global Phone Call App & Cheap Calls': 10000000,\n",
       " 'X Browser': 50000,\n",
       " 'Yahoo Mail – Stay Organized': 100000000,\n",
       " 'Free Adblocker Browser - Adblock & Popup Blocker': 10000000,\n",
       " 'Adblock Browser for Android': 10000000,\n",
       " 'CM Browser - Ad Blocker , Fast Download , Privacy': 50000000,\n",
       " 'Adblock Plus for Samsung Internet - Browse safe.': 1000000,\n",
       " 'Brave Browser: Fast AdBlocker': 5000000,\n",
       " 'PlacarTv Futebol Ao Vivo': 100000,\n",
       " 'WiFi Access Point (hotspot)': 100000,\n",
       " 'Puffin Web Browser': 10000000,\n",
       " 'Ear Agent: Super Hearing': 5000000,\n",
       " 'Google Voice': 10000000,\n",
       " 'Google Allo': 10000000,\n",
       " 'Baby Monitor AV': 100000,\n",
       " 'AW - free video calls and chat': 1000000,\n",
       " 'AZ Browser. Private & Download': 100000,\n",
       " 'BD Data Plan (3G & 4G)': 500000,\n",
       " 'BD Internet Packages (Updated)': 50000,\n",
       " 'My BF App': 50000,\n",
       " 'Zalo – Video Call': 50000000,\n",
       " 'BBM - Free Calls & Messages': 100000000,\n",
       " 'BBMoji - Your personalized BBM Stickers': 1000000,\n",
       " 'BT Messenger': 50000,\n",
       " 'SW-100.tch by Callstel': 1000000,\n",
       " 'BT MeetMe with Dolby Voice': 100000,\n",
       " 'Bluetooth Auto Connect': 5000000,\n",
       " 'AudioBT: BT audio GPS/SMS/Text': 50000,\n",
       " 'Tiny Call Confirm': 1000000,\n",
       " 'CB Radio Chat - for friends!': 1000000,\n",
       " 'CB On Mobile': 100000,\n",
       " 'Virtual Walkie Talkie': 1000000,\n",
       " 'Channel 19': 100000,\n",
       " 'Chrome Dev': 5000000,\n",
       " 'CM Transfer - Share any files with friends nearby': 5000000,\n",
       " 'ClanPlay: Community and Tools for Gamers': 1000000,\n",
       " 'QRZ Assistant': 100000,\n",
       " 'My Vodafone (GR)': 1000000,\n",
       " 'IZ2UUF Morse Koch CW': 50000,\n",
       " 'Morse Code Reader': 100000,\n",
       " 'WEB.DE Mail': 10000000,\n",
       " 'Your Freedom VPN Client': 5000000,\n",
       " 'CallApp: Caller ID, Blocker & Phone Call Recorder': 10000000,\n",
       " 'Whoscall - Caller ID & Block': 10000000,\n",
       " 'DU Browser—Browse fast & fun': 10000000,\n",
       " 'Caller ID & Call Block - DU Caller': 5000000,\n",
       " 'DW Contacts & Phone & Dialer': 1000000,\n",
       " '3G DZ Configuration': 50000,\n",
       " 'Goodbox - Mega App': 100000,\n",
       " 'Call Blocker - Blacklist, SMS Blocker': 1000000,\n",
       " 'Orfox: Tor Browser for Android': 10000000,\n",
       " 'Voxer Walkie Talkie Messenger': 10000000,\n",
       " 'Hangouts Dialer - Call Phones': 10000000,\n",
       " 'Web Browser for Android': 1000000,\n",
       " 'Everbridge': 100000,\n",
       " 'Lite for Facebook Messenger': 1000000,\n",
       " 'Wi-Fi Auto-connect': 1000000,\n",
       " 'Talkie - Wi-Fi Calling, Chats, File Sharing': 500000,\n",
       " 'WeFi - Free Fast WiFi Connect & Find Wi-Fi Map': 1000000,\n",
       " 'Portable Wi-Fi hotspot Free': 100000,\n",
       " 'TownWiFi | Wi-Fi Everywhere': 500000,\n",
       " 'Free Wi-fi HotspoT': 50000,\n",
       " 'Firefox Focus: The privacy browser': 1000000,\n",
       " 'FreedomPop Messaging Phone/SIM': 500000,\n",
       " 'HipChat - beta version': 50000}"
      ]
     },
     "execution_count": 34,
     "metadata": {},
     "output_type": "execute_result"
    }
   ],
   "source": [
    "# function to show apps with more than 10,000 installs by category\n",
    "\n",
    "def installs_above_ten_thousand(category_string):\n",
    "    installs = {}\n",
    "    for app in google_final_clean:\n",
    "        n_installs = app[5]\n",
    "        n_installs = n_installs.replace('+', '')\n",
    "        n_installs = n_installs.replace(',', '')\n",
    "        n_installs = int(n_installs)\n",
    "        if (app[1] == category_string) and (n_installs > 10000):\n",
    "            installs[app[0]] = n_installs\n",
    "    return installs\n",
    "installs_above_ten_thousand('COMMUNICATION')"
   ]
  },
  {
   "cell_type": "code",
   "execution_count": 35,
   "metadata": {},
   "outputs": [],
   "source": [
    "# function to show the number of apps in a category with more than 10,000 installs\n",
    "# and the percentage of apps in category with more than 10,000 installs\n",
    "\n",
    "def freq_and_percent(category):\n",
    "    print('Number of apps in {} category with > 10,000 installs:'.format(category), len(installs_above_ten_thousand(category)))\n",
    "    print('Percent of apps in {} category with > 10,000 installs:'.format(category), round(len(installs_above_ten_thousand(category)) / 287 * 100, 2), '%')"
   ]
  },
  {
   "cell_type": "code",
   "execution_count": 36,
   "metadata": {},
   "outputs": [
    {
     "name": "stdout",
     "output_type": "stream",
     "text": [
      "Number of apps in COMMUNICATION category with > 10,000 installs: 174\n",
      "Percent of apps in COMMUNICATION category with > 10,000 installs: 60.63 %\n"
     ]
    }
   ],
   "source": [
    "freq_and_percent('COMMUNICATION')"
   ]
  },
  {
   "cell_type": "code",
   "execution_count": 37,
   "metadata": {},
   "outputs": [
    {
     "data": {
      "text/plain": [
       "{'YouTube': 1000000000,\n",
       " 'All Video Downloader 2018': 1000000,\n",
       " 'Video Downloader': 10000000,\n",
       " 'HD Video Player': 1000000,\n",
       " 'Iqiyi (for tablet)': 1000000,\n",
       " 'Video Player All Format': 10000000,\n",
       " 'Motorola Gallery': 100000000,\n",
       " 'Free TV series': 100000,\n",
       " 'Video Player All Format for Android': 500000,\n",
       " 'VLC for Android': 100000000,\n",
       " 'Code': 10000000,\n",
       " 'Vote for': 50000000,\n",
       " 'XX HD Video downloader-Free Video Downloader': 1000000,\n",
       " 'OBJECTIVE': 1000000,\n",
       " 'Music - Mp3 Player': 10000000,\n",
       " 'HD Movie Video Player': 1000000,\n",
       " 'YouCut - Video Editor & Video Maker, No Watermark': 5000000,\n",
       " 'Video Editor,Crop Video,Movie Video,Music,Effects': 1000000,\n",
       " 'YouTube Studio': 10000000,\n",
       " 'video player for android': 10000000,\n",
       " 'Vigo Video': 50000000,\n",
       " 'Google Play Movies & TV': 1000000000,\n",
       " 'HTC Service － DLNA': 10000000,\n",
       " 'VPlayer': 1000000,\n",
       " 'MiniMovie - Free Video and Slideshow Editor': 50000000,\n",
       " 'Samsung Video Library': 50000000,\n",
       " 'OnePlus Gallery': 1000000,\n",
       " 'LIKE – Magic Video Maker & Community': 50000000,\n",
       " 'HTC Service—Video Player': 5000000,\n",
       " 'Play Tube': 1000000,\n",
       " 'Droid Zap by Motorola': 5000000,\n",
       " 'video player': 1000000,\n",
       " 'G Guide Program Guide (SOFTBANK EMOBILE WILLCOM version)': 1000000,\n",
       " 'Video.Guru - Video Maker': 1000000,\n",
       " 'HTC Gallery': 10000000,\n",
       " 'PowerDirector Video Editor App: 4K, Slow Mo & More': 10000000,\n",
       " 'Cartoon Network App': 10000000,\n",
       " 'Video Status': 1000000,\n",
       " 'SVT Play': 1000000,\n",
       " 'BluTV': 1000000,\n",
       " 'Tencent Video - Supporting the whole network': 1000000,\n",
       " 'amazer - Global Kpop Video Community': 100000,\n",
       " 'MX Player': 500000000,\n",
       " 'Video Editor': 5000000,\n",
       " 'Omlet Arcade - Stream, Meet, Play': 10000000,\n",
       " 'VUE: video editor & camcorder': 1000000,\n",
       " 'Magisto Video Editor & Maker': 10000000,\n",
       " 'Dubsmash': 100000000,\n",
       " 'DU Recorder – Screen Recorder, Video Editor, Live': 50000000,\n",
       " 'KineMaster – Pro Video Editor': 50000000,\n",
       " 'Mobizen Screen Recorder for SAMSUNG': 10000000,\n",
       " 'Mobizen Screen Recorder for LG - Record, Capture': 1000000,\n",
       " \"Sketch 'n' go\": 100000,\n",
       " 'Ustream': 10000000,\n",
       " 'VMate': 50000000,\n",
       " 'All Video Downloader': 10000000,\n",
       " 'VidPlay': 1000000,\n",
       " 'HD Video Downloader : 2018 Best video mate': 50000000,\n",
       " 'VivaVideo - Video Editor & Photo Movie': 100000000,\n",
       " 'VideoShow-Video Editor, Video Maker, Beauty Camera': 100000000,\n",
       " 'AB Repeat Player': 100000,\n",
       " 'Ez Screen Recorder (no ad)': 100000,\n",
       " 'Adobe Premiere Clip': 5000000,\n",
       " 'FilmoraGo - Free Video Editor': 10000000,\n",
       " 'ActionDirector Video Editor - Edit Videos Fast': 5000000,\n",
       " 'WiFi Baby Monitor - NannyCam': 5000000,\n",
       " 'Ringdroid': 50000000,\n",
       " 'Multiple Videos at Same Time': 1000000,\n",
       " 'AW Screen Recorder No Root': 100000,\n",
       " 'AX Player -Nougat Video Player': 1000000,\n",
       " 'AX Video Player': 50000,\n",
       " 'iMediaShare – Photos & Music': 10000000,\n",
       " 'AZ Screen Recorder - No Root': 10000000,\n",
       " 'Funny videos for whatsapp': 1000000,\n",
       " 'bgtime.tv': 50000,\n",
       " 'BGCN TV': 100000,\n",
       " 'AfreecaTV': 10000000,\n",
       " 'BR Series': 50000,\n",
       " 'iPlayIT for YouTube VR Player': 1000000,\n",
       " 'BSPlayer FREE': 10000000,\n",
       " 'BSPlayer ARMv7 VFP CPU support': 1000000,\n",
       " 'BitTorrent®- Torrent Downloads': 10000000,\n",
       " 'Nero AirBurn': 100000,\n",
       " 'CJ VLC HD Remote (+ Stream)': 500000,\n",
       " 'ACTIVEON CX & CX GOLD': 50000,\n",
       " 'Video Downloader - for Instagram Repost App': 10000000,\n",
       " 'Quik – Free Video Editor for photos, clips, music': 10000000,\n",
       " 'FrostWire: Torrent Downloader & Music Player': 10000000,\n",
       " 'Inst Download - Video & Photo': 10000000,\n",
       " 'Vuze Torrent Downloader': 1000000,\n",
       " 'AndStream - Streaming Download': 1000000,\n",
       " 'DR TV': 500000,\n",
       " 'DS photo': 1000000,\n",
       " 'DS video': 1000000,\n",
       " 'DU Privacy-hide apps、sms、file': 1000000,\n",
       " 'iSmart DV': 1000000,\n",
       " 'dv Prompter': 50000,\n",
       " 'GoPlus Cam': 500000,\n",
       " 'GoAction': 100000,\n",
       " 'Naruto Shippuden - Watch Free!': 10000000,\n",
       " 'ES Audio Player ( Shortcut )': 100000,\n",
       " 'ES-IPTV': 50000,\n",
       " 'EZCast – Cast Media to TV': 1000000,\n",
       " 'EZ Web Video Cast | Chromecast': 100000,\n",
       " 'Video Downloader for FB : Video Download with Link': 100000,\n",
       " 'HD Video Download for Facebook': 1000000,\n",
       " 'Motorola FM Radio': 100000000}"
      ]
     },
     "execution_count": 37,
     "metadata": {},
     "output_type": "execute_result"
    }
   ],
   "source": [
    "installs_above_ten_thousand('VIDEO_PLAYERS')"
   ]
  },
  {
   "cell_type": "code",
   "execution_count": 38,
   "metadata": {},
   "outputs": [
    {
     "name": "stdout",
     "output_type": "stream",
     "text": [
      "Number of apps in VIDEO_PLAYERS category with > 10,000 installs: 107\n",
      "Percent of apps in VIDEO_PLAYERS category with > 10,000 installs: 37.28 %\n"
     ]
    }
   ],
   "source": [
    "freq_and_percent('VIDEO_PLAYERS')"
   ]
  },
  {
   "cell_type": "code",
   "execution_count": 39,
   "metadata": {},
   "outputs": [
    {
     "data": {
      "text/plain": [
       "{'Facebook': 1000000000,\n",
       " 'Facebook Lite': 500000000,\n",
       " 'Tumblr': 100000000,\n",
       " 'Social network all in one 2018': 100000,\n",
       " 'Pinterest': 100000000,\n",
       " 'TextNow - free text + calls': 10000000,\n",
       " 'Google+': 1000000000,\n",
       " 'The Messenger App': 1000000,\n",
       " 'Messenger Pro': 1000000,\n",
       " 'Free Messages, Video, Chat,Text for Messenger Plus': 1000000,\n",
       " 'Telegram X': 5000000,\n",
       " 'The Video Messenger App': 100000,\n",
       " 'Jodel - The Hyperlocal App': 1000000,\n",
       " 'Hide Something - Photo, Video': 5000000,\n",
       " 'Love Sticker': 1000000,\n",
       " 'Web Browser & Fast Explorer': 5000000,\n",
       " 'LiveMe - Video chat, new friends, and make money': 10000000,\n",
       " 'VidStatus app - Status Videos & Status Downloader': 5000000,\n",
       " 'Love Images': 1000000,\n",
       " 'Web Browser ( Fast & Secure Web Explorer)': 500000,\n",
       " 'SPARK - Live random video chat & meet new people': 5000000,\n",
       " 'Golden telegram': 50000,\n",
       " 'Facebook Local': 1000000,\n",
       " 'Meet – Talk to Strangers Using Random Video Chat': 5000000,\n",
       " 'MobilePatrol Public Safety App': 1000000,\n",
       " '💘 WhatsLov: Smileys of love, stickers and GIF': 1000000,\n",
       " 'HTC Social Plugin - Facebook': 10000000,\n",
       " 'Quora': 10000000,\n",
       " 'Kate Mobile for VK': 10000000,\n",
       " 'Family GPS tracker KidControl + GPS by SMS Locator': 1000000,\n",
       " 'Moment': 1000000,\n",
       " 'Text Me: Text Free, Call Free, Second Phone Number': 10000000,\n",
       " 'Text Free: WiFi Calling App': 5000000,\n",
       " 'Badoo - Free Chat & Dating App': 100000000,\n",
       " 'Text free - Free Text + Call': 10000000,\n",
       " 'Tango - Live Video Broadcast': 100000000,\n",
       " 'ooVoo Video Calls, Messaging & Stories': 50000000,\n",
       " 'Whisper': 5000000,\n",
       " 'Blogger': 5000000,\n",
       " \"Bloglovin'\": 500000,\n",
       " 'Blogaway for Android (Blogger)': 100000,\n",
       " 'Instagram': 1000000000,\n",
       " 'TwitCasting Live': 1000000,\n",
       " 'Stream - Live Video Community': 500000,\n",
       " 'YouNow: Live Stream Video Chat': 10000000,\n",
       " 'Mirrativ: Live Stream Any App': 500000,\n",
       " 'Snapchat': 500000000,\n",
       " 'Banjo': 1000000,\n",
       " 'We Heart It': 10000000,\n",
       " 'MeetMe: Chat & Meet New People': 50000000,\n",
       " 'Timehop': 5000000,\n",
       " 'Frontback - Social Photos': 1000000,\n",
       " 'LinkedIn': 100000000,\n",
       " 'Path': 10000000,\n",
       " 'SayHi Chat, Meet New People': 10000000,\n",
       " 'Tapatalk - 100,000+ Forums': 10000000,\n",
       " 'Couple - Relationship App': 1000000,\n",
       " 'Nextdoor - Local neighborhood news & classifieds': 5000000,\n",
       " 'LOVOO': 10000000,\n",
       " 'Jaumo Dating, Flirt & Live Video': 10000000,\n",
       " 'Patook - make platonic friends': 100000,\n",
       " 'Zello PTT Walkie Talkie': 50000000,\n",
       " 'textPlus: Free Text & Calls': 10000000,\n",
       " 'magicApp Calling & Messaging': 10000000,\n",
       " 'Dating App, Flirt & Chat : W-Match': 10000000,\n",
       " 'uCiC- Videos and Photos on demand': 100000,\n",
       " 'Meetup': 5000000,\n",
       " 'POF Free Dating App': 50000000,\n",
       " 'Tagged - Meet, Chat & Dating': 10000000,\n",
       " 'SKOUT - Meet, Chat, Go Live': 50000000,\n",
       " 'Mico- Stranger Chat Random video Chat, Live, Meet': 10000000,\n",
       " 'Waplog - Free Chat, Dating App, Meet Singles': 10000000,\n",
       " 'Tik Tok - including musical.ly': 100000000,\n",
       " 'B-Messenger Video Chat': 1000000,\n",
       " 'BIGO LIVE - Live Stream': 100000000,\n",
       " 'Greeting Cards & Wishes': 500000,\n",
       " 'Instachat 😜': 5000000,\n",
       " 'Fame Boom for Real Followers, Likes': 5000000,\n",
       " 'FollowMeter for Instagram': 1000000,\n",
       " 'KDRAMA Amino for K-Drama Fans': 100000,\n",
       " 'KPOP Amino for K-Pop Entertainment': 100000,\n",
       " 'EXO-L Amino for EXO Fans': 50000,\n",
       " 'Verdad o Reto': 500000,\n",
       " 'pixiv': 1000000,\n",
       " 'U LIVE – Video Chat & Stream': 1000000,\n",
       " 'See U - Random video chat, video chat': 100000,\n",
       " 'What U See': 100000,\n",
       " 'Meet U - Get Friends for Snapchat, Kik & Instagram': 100000,\n",
       " 'VMate Lite - Funny Short Videos Social Network': 1000000,\n",
       " 'Legend - Animate Text in Video': 10000000,\n",
       " 'GUYZ - Gay Chat & Gay Dating': 1000000,\n",
       " 'Snaappy – 3D fun AR core communication platform': 1000000,\n",
       " 'Undertale AU Amino': 50000,\n",
       " 'YAY - TBH': 100000,\n",
       " 'Find My Friends': 10000000,\n",
       " 'Gayvox - Gay Lesbian Bi Dating': 500000,\n",
       " 'Grindr - Gay chat': 10000000,\n",
       " 'Lesbian Chat & Dating - SPICY': 1000000,\n",
       " 'VK': 100000000,\n",
       " 'BOO! - Next Generation Messenger': 1000000,\n",
       " 'Wishbone - Compare Anything': 1000000,\n",
       " 'Dr B R Ambedkar (Jai Bhim)': 100000,\n",
       " 'Dr. B.R.Ambedkar': 100000,\n",
       " 'BT Dating -Find your match, help cupid, be social': 50000,\n",
       " 'Fiesta by Tango - Find, Meet and Make New Friends': 1000000,\n",
       " 'Hashtags For Likes.co': 50000,\n",
       " 'CP Dialer': 50000,\n",
       " 'Rande.cz': 50000,\n",
       " 'Periscope - Live Video': 10000000,\n",
       " 'Daddyhunt: Gay Dating': 500000,\n",
       " 'Free phone calls, free texting SMS on free number': 10000000,\n",
       " 'Phone Tracker : Family Locator': 10000000,\n",
       " 'HOLLA Live: Meet New People via Random Video Chat': 5000000,\n",
       " 'Dating.dk': 100000,\n",
       " '+Download 4 Instagram Twitter': 1000000,\n",
       " 'Fake Chat (Direct Message)': 500000,\n",
       " 'DP and Status for WhatsApp 2018': 100000,\n",
       " 'Qeek for Instagram - Zoom profile insta DP': 500000,\n",
       " 'Equestria Amino for MLP': 50000,\n",
       " 'Anime et Manga Amino en Français': 50000,\n",
       " 'Hornet - Gay Social Network': 5000000,\n",
       " 'Amino: Communities and Chats': 10000000,\n",
       " 'EZ Video Download for Facebook': 1000000,\n",
       " 'Messages, Text and Video Chat for Messenger': 10000000,\n",
       " 'All Social Networks': 1000000,\n",
       " 'Messenger Messenger': 10000000,\n",
       " 'Facebook Creator': 1000000,\n",
       " 'Swift for Facebook Lite': 500000,\n",
       " 'Friendly for Facebook': 1000000,\n",
       " 'Faster for Facebook Lite': 1000000,\n",
       " 'Puffin for Facebook': 500000,\n",
       " 'Profile Tracker - Who Viewed My Facebook Profile': 500000,\n",
       " 'Pink Color for Facebook': 500000,\n",
       " 'Messenger': 10000000,\n",
       " 'Who Viewed My Facebook Profile - Stalkers Visitors': 5000000,\n",
       " 'MB Notifications for FB (Free)': 100000,\n",
       " 'Phoenix - Facebook & Messenger': 100000,\n",
       " 'Faster Social for Facebook': 100000,\n",
       " 'Stickers for Facebook': 1000000,\n",
       " 'FCB Connect - FC Barcelona': 50000,\n",
       " 'FutureNet your social app': 100000,\n",
       " 'FunForMobile Ringtones & Chat': 5000000,\n",
       " 'Chat For Strangers - Video Chat': 100000,\n",
       " 'Fr Daoud Lamei': 100000,\n",
       " 'Frim: get new friends on local chat rooms': 5000000}"
      ]
     },
     "execution_count": 39,
     "metadata": {},
     "output_type": "execute_result"
    }
   ],
   "source": [
    "installs_above_ten_thousand('SOCIAL')"
   ]
  },
  {
   "cell_type": "code",
   "execution_count": 40,
   "metadata": {},
   "outputs": [
    {
     "name": "stdout",
     "output_type": "stream",
     "text": [
      "Number of apps in SOCIAL category with > 10,000 installs: 145\n",
      "Percent of apps in SOCIAL category with > 10,000 installs: 50.52 %\n"
     ]
    }
   ],
   "source": [
    "freq_and_percent('SOCIAL')"
   ]
  },
  {
   "cell_type": "code",
   "execution_count": 41,
   "metadata": {},
   "outputs": [
    {
     "data": {
      "text/plain": [
       "{'TouchNote: Cards & Gifts': 1000000,\n",
       " 'FreePrints – Free Photos Delivered': 1000000,\n",
       " 'Groovebook Photo Books & Gifts': 500000,\n",
       " 'Moony Lab - Print Photos, Books & Magnets ™': 50000,\n",
       " 'LALALAB prints your photos, photobooks and magnets': 1000000,\n",
       " 'Snapfish': 1000000,\n",
       " 'Motorola Camera': 50000000,\n",
       " 'HD Camera - Best Cam with filters & panorama': 5000000,\n",
       " 'LightX Photo Editor & Photo Effects': 10000000,\n",
       " 'Sweet Snap - live filter, Selfie photo edit': 10000000,\n",
       " 'HD Camera - Quick Snap Photo & Video': 1000000,\n",
       " 'B612 - Beauty & Filter Camera': 100000000,\n",
       " 'Waterfall Photo Frames': 1000000,\n",
       " 'Photo frame': 100000,\n",
       " 'Huji Cam': 5000000,\n",
       " 'Unicorn Photo': 1000000,\n",
       " 'HD Camera': 5000000,\n",
       " 'Makeup Editor -Beauty Photo Editor & Selfie Camera': 1000000,\n",
       " 'Makeup Photo Editor: Makeup Camera & Makeup Editor': 1000000,\n",
       " 'Moto Photo Editor': 5000000,\n",
       " 'InstaBeauty -Makeup Selfie Cam': 50000000,\n",
       " 'Garden Photo Frames - Garden Photo Editor': 500000,\n",
       " 'Photo Frame': 10000000,\n",
       " 'Selfie Camera - Photo Editor & Filter & Sticker': 50000000,\n",
       " 'Sweet Snap Lite - live filter, Selfie photo editor': 500000,\n",
       " 'Selfie Camera: Beauty Camera, Photo Editor,Collage': 1000000,\n",
       " 'Night Photo Frame': 1000000,\n",
       " 'YouCam Makeup - Magic Selfie Makeovers': 100000000,\n",
       " 'Selfie Photo Editor': 1000000,\n",
       " 'ASUS Gallery': 50000000,\n",
       " 'Kids Photo Frames': 1000000,\n",
       " 'Pencil Photo Sketch-Sketching Drawing Photo Editor': 1000000,\n",
       " 'Pretty Makeup, Beauty Photo Editor & Snappy Camera': 5000000,\n",
       " 'Photo Collage - Layout Editor': 10000000,\n",
       " 'DSLR Camera Hd Ultra Professional': 1000000,\n",
       " 'Snap Cat Face Camera': 1000000,\n",
       " 'Silent Camera [High Quality]': 5000000,\n",
       " 'Sweet Camera - Selfie Filters, Beauty Camera': 10000000,\n",
       " 'Photo Frames': 10000000,\n",
       " 'Sweet Selfie - selfie camera, beauty cam, photo edit': 100000000,\n",
       " 'Candy selfie - photo editor, live filter camera': 10000000,\n",
       " 'Open Camera': 10000000,\n",
       " 'Beauty Makeup – Photo Makeover': 1000000,\n",
       " 'Blur Image Background Editor (Blur Photo Editor)': 5000000,\n",
       " 'Muzy - Share photos & collages': 5000000,\n",
       " 'QuickPic - Photo Gallery with Google Drive Support': 10000000,\n",
       " 'Flickr': 10000000,\n",
       " 'Camera for Android': 10000000,\n",
       " 'Photo Mixer': 10000000,\n",
       " 'Wondershare PowerCam': 10000000,\n",
       " 'love': 1000000,\n",
       " 'KVAD Camera +: Selfie, Photo Filter, Grids': 1000000,\n",
       " 'Camera51 - a smarter camera': 1000000,\n",
       " 'InstaCam - Camera for Selfie': 1000000,\n",
       " 'Sweet Camera': 5000000,\n",
       " 'RetroSelfie - Selfie Editor': 10000000,\n",
       " 'Mega Photo': 1000000,\n",
       " 'Blur Image Background': 10000000,\n",
       " 'MIX by Camera360': 5000000,\n",
       " 'Google Photos': 1000000000,\n",
       " 'SuperPhoto - Effects & Filters': 5000000,\n",
       " 'Camera FV-5 Lite': 10000000,\n",
       " 'HD Camera Ultra': 10000000,\n",
       " 'Cameringo Lite. Filters Camera': 10000000,\n",
       " 'Camera ZOOM FX - FREE': 5000000,\n",
       " 'HD Camera Pro for Android': 1000000,\n",
       " 'GoPro (formerly Capture)': 10000000,\n",
       " 'Beauty Makeup Snappy Collage Photo Editor - Lidow': 10000000,\n",
       " 'Samsung SMART CAMERA App': 1000000,\n",
       " 'Square InPic - Photo Editor & Collage Maker': 50000000,\n",
       " 'High-Speed Camera (GIF,Burst)': 5000000,\n",
       " 'Camera MX - Free Photo & Video Camera': 10000000,\n",
       " 'EyeEm - Camera & Photo Filter': 10000000,\n",
       " 'Retrica': 100000000,\n",
       " 'VSCO': 50000000,\n",
       " 'PhotoWonder: Pro Beauty Photo Editor Collage Maker': 50000000,\n",
       " 'Photo Effects Pro': 50000000,\n",
       " 'Photo Editor Selfie Camera Filter & Mirror Image': 50000000,\n",
       " 'No Crop & Square for Instagram': 10000000,\n",
       " 'Picture Grid Builder': 5000000,\n",
       " 'HD Camera for Android': 10000000,\n",
       " 'Photo Studio': 10000000,\n",
       " 'Photo Editor Pro': 100000000,\n",
       " 'Photo Editor-': 5000000,\n",
       " 'Mirror Photo:Editor Collage (HD)': 10000000,\n",
       " 'Pic Stitch - #1 Collage Maker': 1000000,\n",
       " 'PhotoDirector Photo Editor App': 10000000,\n",
       " 'Pic Collage - Photo Editor': 50000000,\n",
       " 'Photo Editor by Aviary': 50000000,\n",
       " 'Video Editor Music,Cut,No Crop': 50000000,\n",
       " 'Pixlr – Free Photo Editor': 50000000,\n",
       " 'Photo Editor': 10000000,\n",
       " 'Photo Collage Maker': 10000000,\n",
       " 'Adobe Photoshop Express:Photo Editor Collage Maker': 50000000,\n",
       " 'BeautyPlus - Easy Photo Editor & Selfie Camera': 100000000,\n",
       " 'PicsArt Photo Studio: Collage Maker & Pic Editor': 100000000,\n",
       " 'Photo Collage Editor': 100000000,\n",
       " 'Color Touch Effects': 10000000,\n",
       " 'InstaSize Photo Filters & Collage Editor': 50000000,\n",
       " 'Z Camera - Photo Editor, Beauty Selfie, Collage': 100000000,\n",
       " 'PhotoGrid: Video & Pic Collage Maker, Photo Editor': 100000000,\n",
       " 'Candy Camera - selfie, beauty camera, photo editor': 100000000,\n",
       " 'YouCam Perfect - Selfie Photo Editor': 100000000,\n",
       " 'Pixgram- video photo slideshow': 5000000,\n",
       " 'Fotor Photo Editor - Photo Collage & Photo Effects': 10000000,\n",
       " 'Snapseed': 50000000,\n",
       " 'Camera360: Selfie Photo Editor with Funny Sticker': 100000000,\n",
       " 'Font Studio- Photo Texts Image': 10000000,\n",
       " 'Add Text To Photo': 1000000,\n",
       " 'Phonto - Text on Photos': 10000000,\n",
       " 'Collage&Add Stickers papelook': 5000000,\n",
       " 'Shutterfly: Free Prints, Photo Books, Cards, Gifts': 5000000,\n",
       " 'Photo Collage - InstaMag': 10000000,\n",
       " 'Meitu – Beauty Cam, Easy Photo Editor': 10000000,\n",
       " 'Bestie - Camera360 Selfie': 10000000,\n",
       " 'B Tiff Viewer': 100000,\n",
       " 'F-Stop Gallery': 1000000,\n",
       " 'How Do I Look': 500000,\n",
       " 'Keepsafe Photo Vault: Hide Private Photos & Videos': 50000000,\n",
       " 'MakeupPlus - Your Own Virtual Makeup Artist': 50000000,\n",
       " 'Pixlr-o-matic': 10000000,\n",
       " 'PixelLab - Text on pictures': 10000000,\n",
       " 'S Photo Editor - Collage Maker , Photo Collage': 100000000,\n",
       " 'U Camera : Phone 6s OS 9 style': 500000,\n",
       " 'V.360° Camera': 100000,\n",
       " 'Six Pack Abs Photo Editor': 1000000,\n",
       " 'Brica BPRO5 AE': 500000,\n",
       " 'AfterFocus': 10000000,\n",
       " 'AR effect': 100000000,\n",
       " 'ASUS PixelMaster Camera': 10000000,\n",
       " 'easyFocus': 500000,\n",
       " 'Blur Image - DSLR focus effect': 5000000,\n",
       " 'Camera Pro': 1000000,\n",
       " 'HD Camera - silent shutter': 1000000,\n",
       " 'A Better Camera': 5000000,\n",
       " 'PhotoScan by Google Photos': 10000000,\n",
       " 'Afterlight': 1000000,\n",
       " 'Blurfoto : Auto blur photo background & DSLR focus': 500000,\n",
       " 'Blur': 1000000,\n",
       " 'Picai - Smart AI Camera': 100000,\n",
       " 'Adobe Illustrator Draw': 5000000,\n",
       " 'FaceApp': 10000000,\n",
       " 'Scoompa Video - Slideshow Maker and Video Editor': 10000000,\n",
       " 'SNOW - AR Camera': 50000000,\n",
       " 'Add Watermark Free': 1000000,\n",
       " 'camera zoom moon': 500000,\n",
       " 'AZ Camera - Manual Pro Cam': 100000,\n",
       " 'Photo Editor by BeFunky': 10000000,\n",
       " 'Adobe Photoshop Fix': 5000000,\n",
       " 'PhotoLayers〜Superimpose,Eraser': 10000000,\n",
       " 'Auto Background Changer': 1000000,\n",
       " 'Change photo background': 5000000,\n",
       " 'Background Eraser': 10000000,\n",
       " 'Background Changer & Eraser': 500000,\n",
       " 'Cut Out : Background Eraser and background changer': 1000000,\n",
       " 'Ultimate Background Eraser': 1000000,\n",
       " 'DSLR Photography Training apps': 100000,\n",
       " '24 megapixel hd camera': 100000,\n",
       " 'BQ Camera': 1000000,\n",
       " 'BT Camera': 500000,\n",
       " 'BlitzWolf Shutter - BW Shutter': 50000,\n",
       " 'Black & White Camera - Lovely BW': 100000,\n",
       " 'Hypocam': 1000000,\n",
       " 'B&W Photo Filter Editor': 50000,\n",
       " 'Gold Teeth Photo Editor': 100000,\n",
       " 'Camera V7 24 Megapixel': 100000,\n",
       " 'Canon CameraWindow': 1000000,\n",
       " 'Cymera Camera- Photo Editor, Filter,Collage,Layout': 100000000,\n",
       " 'Camera360 Lite - Selfie Camera': 10000000,\n",
       " 'Face Filter, Selfie Editor - Sweet Camera': 10000000,\n",
       " 'Visage Lab – face retouch': 5000000,\n",
       " 'Bokeh (Background defocus)': 10000000,\n",
       " 'Love Collage - Photo Editor': 10000000,\n",
       " 'LINE Camera - Photo editor': 100000000,\n",
       " 'My Photo Keyboard': 10000000,\n",
       " 'Story Saver for Instagram': 5000000,\n",
       " 'Boomerang from Instagram': 50000000,\n",
       " 'Insave-Download for Instagram': 1000000,\n",
       " 'DP Maker': 100000,\n",
       " 'DP Creator for WhatsApp': 100000,\n",
       " 'Fifa World Cup 2018: Photo Frame Editor & DP Maker': 100000,\n",
       " 'DP Status 2017': 50000,\n",
       " 'LightMeter Free': 1000000,\n",
       " 'DU GIF Maker: GIF Maker, Video to GIF & GIF Editor': 500000,\n",
       " 'DU Collage Maker - Photo Collage & Grid & Layout': 100000,\n",
       " 'XDV': 1000000,\n",
       " 'DV Lottery Photo Tool': 50000,\n",
       " 'Wifi Action Camera': 50000,\n",
       " '4K Ultra Camera': 100000,\n",
       " 'SportLook': 100000,\n",
       " 'Retro Camera': 10000000,\n",
       " 'Footej Camera': 1000000,\n",
       " 'Video Maker with Photo and Music': 1000000,\n",
       " 'Phogy, 3D Camera': 1000000,\n",
       " 'Photo Lab Picture Editor: face effects, art frames': 50000000,\n",
       " 'MomentCam Cartoons & Stickers': 50000000,\n",
       " 'A+ Gallery - Photos & Videos': 10000000,\n",
       " 'FilterGrid - Cam&Photo Editor': 1000000,\n",
       " 'ez Share Android app': 100000,\n",
       " 'Ez iCam': 1000000,\n",
       " 'Facejjang': 10000000,\n",
       " 'Cover Camera for FB': 100000,\n",
       " 'Ghost In Photo': 5000000,\n",
       " 'PIP Selfie Camera Photo Editor': 10000000,\n",
       " 'Photo Editor Collage Maker Pro': 100000000,\n",
       " 'Free Slideshow Maker & Video Editor': 10000000,\n",
       " 'Thumbnail Maker': 1000000,\n",
       " 'PhotoFunia': 10000000}"
      ]
     },
     "execution_count": 41,
     "metadata": {},
     "output_type": "execute_result"
    }
   ],
   "source": [
    "installs_above_ten_thousand('PHOTOGRAPHY')"
   ]
  },
  {
   "cell_type": "code",
   "execution_count": 42,
   "metadata": {},
   "outputs": [
    {
     "name": "stdout",
     "output_type": "stream",
     "text": [
      "Number of apps in PHOTOGRAPHY category with > 10,000 installs: 208\n",
      "Percent of apps in PHOTOGRAPHY category with > 10,000 installs: 72.47 %\n"
     ]
    }
   ],
   "source": [
    "freq_and_percent('PHOTOGRAPHY')"
   ]
  },
  {
   "cell_type": "code",
   "execution_count": 43,
   "metadata": {},
   "outputs": [
    {
     "data": {
      "text/plain": [
       "{'Microsoft Word': 500000000,\n",
       " 'All-In-One Toolbox: Cleaner, Booster, App Manager': 10000000,\n",
       " 'AVG Cleaner – Speed, Battery & Memory Booster': 10000000,\n",
       " 'QR Scanner & Barcode Scanner 2018': 10000000,\n",
       " 'Chrome Beta': 10000000,\n",
       " 'Microsoft Outlook': 100000000,\n",
       " 'Google PDF Viewer': 10000000,\n",
       " 'My Claro Peru': 5000000,\n",
       " 'Power Booster - Junk Cleaner & CPU Cooler & Boost': 1000000,\n",
       " 'Google Assistant': 10000000,\n",
       " 'Microsoft OneDrive': 100000000,\n",
       " 'Calculator - unit converter': 50000000,\n",
       " 'Microsoft OneNote': 100000000,\n",
       " 'Metro name iD': 10000000,\n",
       " 'Google Keep': 100000000,\n",
       " 'Archos File Manager': 5000000,\n",
       " 'ES File Explorer File Manager': 100000000,\n",
       " 'ASUS SuperNote': 10000000,\n",
       " 'HTC File Manager': 10000000,\n",
       " 'MyMTN': 1000000,\n",
       " 'Dropbox': 500000000,\n",
       " 'ASUS Quick Memo': 10000000,\n",
       " 'HTC Calendar': 10000000,\n",
       " 'Google Docs': 100000000,\n",
       " 'ASUS Calling Screen': 10000000,\n",
       " 'lifebox': 5000000,\n",
       " 'Yandex.Disk': 5000000,\n",
       " 'Content Transfer': 5000000,\n",
       " 'HTC Mail': 10000000,\n",
       " 'Advanced Task Killer': 50000000,\n",
       " 'MyVodafone (India) - Online Recharge & Pay Bills': 10000000,\n",
       " 'Microsoft PowerPoint': 100000000,\n",
       " 'Microsoft Translator': 5000000,\n",
       " 'My Airtel-Online Recharge, Pay Bill, Wallet, UPI': 50000000,\n",
       " 'Samsung Notes': 100000000,\n",
       " 'Do It Later: Tasks & To-Dos': 50000000,\n",
       " 'Verizon Cloud': 50000000,\n",
       " 'myAT&T': 50000000,\n",
       " 'SwiftKey Keyboard': 100000000,\n",
       " \"Hacker's Keyboard\": 1000000,\n",
       " 'MEGA': 50000000,\n",
       " 'Security & Privacy': 1000000,\n",
       " '7 Weeks - Habit & Goal Tracker': 500000,\n",
       " 'Loop - Habit Tracker': 1000000,\n",
       " 'TickTick: To Do List with Reminder, Day Planner': 1000000,\n",
       " 'Keeper: Free Password Manager & Secure Vault': 10000000,\n",
       " 'Pushbullet - SMS on PC': 1000000,\n",
       " 'Wunderlist: To-Do List & Tasks': 10000000,\n",
       " 'Planner Pro-Personal Organizer': 1000000,\n",
       " 'Todoist: To-do lists for task management & errands': 10000000,\n",
       " 'Cozi Family Organizer': 1000000,\n",
       " 'IFTTT': 1000000,\n",
       " 'Trello': 5000000,\n",
       " 'Easy Voice Recorder': 10000000,\n",
       " 'Dashlane Free Password Manager': 1000000,\n",
       " 'CM FILE MANAGER HD': 10000000,\n",
       " 'Solid Explorer Classic': 1000000,\n",
       " 'File Browser by Astro (File Manager)': 50000000,\n",
       " 'File Explorer': 100000,\n",
       " 'The Maner': 5000000,\n",
       " 'AndroZip™ FREE File Manager': 10000000,\n",
       " 'Solid Explorer File Manager': 1000000,\n",
       " 'Smart File Manager': 1000000,\n",
       " 'Google Drive': 1000000000,\n",
       " 'Adobe Acrobat Reader': 100000000,\n",
       " 'Google Sheets': 100000000,\n",
       " 'Microsoft Excel': 100000000,\n",
       " 'Polaris Office - Word, Docs, Sheets, Slide, PDF': 10000000,\n",
       " 'WPS Office - Word, Docs, PDF, Note, Slide & Sheet': 100000000,\n",
       " 'Google Slides': 100000000,\n",
       " 'ColorNote Notepad Notes': 100000000,\n",
       " 'Note Everything': 5000000,\n",
       " 'Simple Notepad': 1000000,\n",
       " 'Keep My Notes - Notepad & Memo': 5000000,\n",
       " 'Sticky Note + : Sync Notes': 1000000,\n",
       " 'Notepad': 10000000,\n",
       " 'Squid - Take Notes & Markup PDFs': 1000000,\n",
       " 'Ultimate Notepad': 5000000,\n",
       " 'Notepad & To do list': 10000000,\n",
       " 'JotterPad - Writer, Screenplay, Novel': 1000000,\n",
       " 'Evernote – Organizer, Planner for Notes & Memos': 100000000,\n",
       " 'Any.do: To-do list, Calendar, Reminders & Planner': 10000000,\n",
       " 'Planning Center Services': 500000,\n",
       " 'Calendar+ Schedule Planner App': 1000000,\n",
       " 'Today Calendar 2017': 1000000,\n",
       " 'To-Do Calendar Planner': 1000000,\n",
       " 'New Calendar': 1000000,\n",
       " 'Calendar Widget Month + Agenda': 5000000,\n",
       " 'DigiCal Calendar Agenda': 5000000,\n",
       " 'Time Recording - Timesheet App': 1000000,\n",
       " 'Jorte Calendar & Organizer': 10000000,\n",
       " 'Business Calendar 2': 5000000,\n",
       " 'Google Calendar': 500000000,\n",
       " 'aCalendar - Android Phone': 10000000,\n",
       " 'G Cloud Backup': 5000000,\n",
       " 'Unclouded - Cloud Manager': 100000,\n",
       " 'Amazon Drive': 1000000,\n",
       " 'SugarSync': 1000000,\n",
       " 'pCloud: Free Cloud Storage': 1000000,\n",
       " 'MediaFire': 5000000,\n",
       " 'Cloud Print': 500000000,\n",
       " 'Fake Call - Fake Caller ID': 10000000,\n",
       " 'AutoCAD - DWG Viewer & Editor': 10000000,\n",
       " 'My C Spire': 50000,\n",
       " 'Mobile Security & Antivirus': 10000000,\n",
       " 'EX File Explorer File Manager': 1000000,\n",
       " 'EBookDroid - PDF & DJVU Reader': 5000000,\n",
       " 'Inputting Plus: Ctrl + Z/F/C/V': 50000,\n",
       " 'CTRL-F - Search the real world': 50000,\n",
       " 'Add-On: Alcatel (h)': 50000,\n",
       " 'Calculator L': 100000,\n",
       " 'Emoji Android L Keyboard': 1000000,\n",
       " 'Mobizen Screen Recorder - Record, Capture, Edit': 50000000,\n",
       " 'WiFi-o-Matic': 50000,\n",
       " 'Multiling O Keyboard + emoji': 1000000,\n",
       " 'Official QR Code® Reader \"Q\"': 500000,\n",
       " 'Q Link Wireless Zone': 500000,\n",
       " 'S Note': 10000000,\n",
       " 'S’more - Earn Cash Rewards': 1000000,\n",
       " 'SH Script Runner': 50000,\n",
       " 'AT&T Mobile Transfer': 10000000,\n",
       " 'T-Mobile Content Transfer': 500000,\n",
       " 'Můj T-Mobile Business': 1000000,\n",
       " 'U Assist - Screen Mirroring & Sharing App': 50000,\n",
       " 'U+Box': 10000000,\n",
       " 'NQ Mobile Security & Antivirus': 10000000,\n",
       " 'Ad Detect Plugin - Handy Tool': 500000,\n",
       " 'Safe Notes - Secure Ad-free notepad': 50000,\n",
       " 'Adblock Fast': 1000000,\n",
       " 'Google AdSense': 1000000,\n",
       " 'Best Applock - Locker & No Ads': 100000,\n",
       " 'TIMBER AD FILTER - Very useful ad block app': 100000,\n",
       " 'Extreme- Personal Voice Assistant': 1000000,\n",
       " 'Friday: Smart Personal Assistant': 100000,\n",
       " 'Lyra Virtual Assistant': 1000000,\n",
       " 'AL Voice Recorder': 1000000,\n",
       " 'QR Droid': 50000000,\n",
       " 'PDF Viewer & Book Reader': 5000000,\n",
       " 'Alarm Clock: Stopwatch & Timer': 50000000,\n",
       " 'Total AV': 100000,\n",
       " 'Mobile Security: Antivirus, Web Scan & App Lock': 10000000,\n",
       " 'Bits Watch Face': 100000,\n",
       " 'A-Z App Store': 500000,\n",
       " 'ALL-IN-ONE PACKAGE TRACKING': 1000000,\n",
       " 'BJ Memo Widget': 50000,\n",
       " 'Chrome Canary (Unstable)': 1000000,\n",
       " 'IQ Test': 100000,\n",
       " 'Inch/cm/Foot Conversion': 100000,\n",
       " 'cm, mm to inch, feet converter tool': 100000,\n",
       " 'Ultimate Calculator for CR': 500000,\n",
       " 'Ultimate Chest Tracker': 1000000,\n",
       " 'CamScanner - Phone PDF Creator': 100000000,\n",
       " 'Resume Builder and CV maker app': 100000,\n",
       " 'Resume Free': 1000000,\n",
       " 'Pocket RxTx Free': 100000,\n",
       " 'CY Security Antivirus Cleaner': 1000000,\n",
       " 'Phone Clean Best Speed Booster': 1000000,\n",
       " 'LOCX Applock Lock Apps & Photo': 10000000,\n",
       " 'e-Boks.dk': 1000000,\n",
       " 'Download Manager Pro FREE': 100000,\n",
       " 'IDM Internet Download Manager': 100000,\n",
       " 'WFVS 2018 | WhatApp Full Video Status & Downloader': 50000,\n",
       " 'Mahalaxmi Dindarshika 2018': 1000000,\n",
       " 'Microsoft To-Do: List, Task & Reminder': 1000000,\n",
       " 'To Do List': 5000000,\n",
       " 'To Do Reminder with Alarm': 1000000,\n",
       " 'Ike - To-Do List, Task List': 100000,\n",
       " 'My Effectiveness: To do, Tasks': 500000,\n",
       " 'Do it (Tomorrow)': 1000000,\n",
       " 'Do Not Disturb': 100000,\n",
       " 'To-Do List Widget': 1000000,\n",
       " 'NoteToDo. Notes. To do list': 1000000,\n",
       " 'Memory Helper - To do list, Notepad, Notes, Memo': 500000,\n",
       " '2Do - Reminders, To-do List & Notes': 100000,\n",
       " 'Time Planner - Schedule, To-Do List, Time Tracker': 500000,\n",
       " 'MyLifeOrganized: To-Do List': 100000,\n",
       " 'Cal - Google Calendar + Widget': 1000000,\n",
       " 'Clean My House – Chore To Do List, Task Scheduler': 100000,\n",
       " 'Goal Meter: Goal Tracker, Habit Changer,To-Do List': 100000,\n",
       " 'To-do list': 50000,\n",
       " 'Adobe Fill & Sign: Easy PDF Form Filler': 1000000,\n",
       " 'Dr.Android Repair Master 2017': 100000,\n",
       " 'DS file': 1000000,\n",
       " 'DS note': 100000,\n",
       " 'DS cam': 500000,\n",
       " 'Synology Drive': 100000,\n",
       " 'Clean My Android': 5000000,\n",
       " 'APUS Booster - Space Cleaner & Booster': 10000000,\n",
       " 'Dz Dinars Numbers to letters': 100000,\n",
       " 'Numbers Into Words': 50000,\n",
       " 'Epson iProjection': 1000000,\n",
       " 'Exército Brasileiro': 100000,\n",
       " 'Ginger Keyboard - Emoji, GIFs, Themes & Games': 5000000,\n",
       " 'ES Disk Analyzer - Storage Space': 100000,\n",
       " 'ES Material Theme for Pro': 1000000,\n",
       " 'ES Holo Theme for Pro': 500000,\n",
       " 'ESLock File Recovery Lite': 50000,\n",
       " 'iTranslate Translator & Dictionary': 10000000,\n",
       " 'EZ Display': 50000,\n",
       " 'EZ File Manager(Root Explorer)': 100000,\n",
       " 'EZ Switch Widget': 100000,\n",
       " 'MultiMessage for FB Messenger': 50000,\n",
       " 'IDM for Facebook ★ Downloader': 100000,\n",
       " 'Chelsea FC Official Keyboard': 1000000,\n",
       " 'Avast Wi-Fi Finder': 1000000,\n",
       " 'Future Cloud': 100000}"
      ]
     },
     "execution_count": 43,
     "metadata": {},
     "output_type": "execute_result"
    }
   ],
   "source": [
    "installs_above_ten_thousand('PRODUCTIVITY')"
   ]
  },
  {
   "cell_type": "code",
   "execution_count": 44,
   "metadata": {},
   "outputs": [
    {
     "name": "stdout",
     "output_type": "stream",
     "text": [
      "Number of apps in PRODUCTIVITY category with > 10,000 installs: 206\n",
      "Percent of apps in PRODUCTIVITY category with > 10,000 installs: 71.78 %\n"
     ]
    }
   ],
   "source": [
    "freq_and_percent('PRODUCTIVITY')"
   ]
  },
  {
   "cell_type": "markdown",
   "metadata": {},
   "source": [
    "### Conclusion\n",
    "\n",
    "From this analysis, I would suggest the development of a Social Media App for the following reasons;\n",
    "\n",
    "1. They are successful in both the Apple store and Google Play store markets\n",
    "\n",
    "2. Users may be more receptive to in app ads in social media apps when they are relaxing. Apps in genres/categories such as Navigation, Weather, Communication, Productivity, Photograpthy, and Reference generally have users enter for shorter periods of time for a specific purpose, and therefore in a rush to leave."
   ]
  }
 ],
 "metadata": {
  "kernelspec": {
   "display_name": "Python 3",
   "language": "python",
   "name": "python3"
  },
  "language_info": {
   "codemirror_mode": {
    "name": "ipython",
    "version": 3
   },
   "file_extension": ".py",
   "mimetype": "text/x-python",
   "name": "python",
   "nbconvert_exporter": "python",
   "pygments_lexer": "ipython3",
   "version": "3.8.3"
  }
 },
 "nbformat": 4,
 "nbformat_minor": 2
}
